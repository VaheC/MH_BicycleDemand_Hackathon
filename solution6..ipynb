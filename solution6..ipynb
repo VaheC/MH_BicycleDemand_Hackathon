{
 "cells": [
  {
   "cell_type": "markdown",
   "id": "0f49e248",
   "metadata": {
    "papermill": {
     "duration": 0.013366,
     "end_time": "2024-08-25T08:27:23.490491",
     "exception": false,
     "start_time": "2024-08-25T08:27:23.477125",
     "status": "completed"
    },
    "tags": []
   },
   "source": []
  },
  {
   "cell_type": "code",
   "execution_count": 1,
   "id": "00443bbe",
   "metadata": {
    "execution": {
     "iopub.execute_input": "2024-08-25T08:27:23.515378Z",
     "iopub.status.busy": "2024-08-25T08:27:23.514921Z",
     "iopub.status.idle": "2024-08-25T08:27:28.572612Z",
     "shell.execute_reply": "2024-08-25T08:27:28.571798Z"
    },
    "papermill": {
     "duration": 5.071716,
     "end_time": "2024-08-25T08:27:28.574918",
     "exception": false,
     "start_time": "2024-08-25T08:27:23.503202",
     "status": "completed"
    },
    "tags": []
   },
   "outputs": [],
   "source": [
    "import matplotlib.pyplot as plt\n",
    "\n",
    "import numpy as np\n",
    "import pandas as pd\n",
    "\n",
    "from collections import defaultdict\n",
    "\n",
    "from scipy.stats import boxcox\n",
    "\n",
    "import torch\n",
    "import torch.nn as nn\n",
    "import torch.optim as optim\n",
    "import torch.utils.data as data\n",
    "\n",
    "from sklearn.preprocessing import StandardScaler, MinMaxScaler, RobustScaler\n",
    "from sklearn.metrics import mean_squared_error"
   ]
  },
  {
   "cell_type": "code",
   "execution_count": 2,
   "id": "5e61ecbe",
   "metadata": {
    "execution": {
     "iopub.execute_input": "2024-08-25T08:27:28.596911Z",
     "iopub.status.busy": "2024-08-25T08:27:28.596031Z",
     "iopub.status.idle": "2024-08-25T08:27:40.071334Z",
     "shell.execute_reply": "2024-08-25T08:27:40.070365Z"
    },
    "papermill": {
     "duration": 11.489265,
     "end_time": "2024-08-25T08:27:40.074134",
     "exception": false,
     "start_time": "2024-08-25T08:27:28.584869",
     "status": "completed"
    },
    "tags": []
   },
   "outputs": [],
   "source": [
    "train_df = pd.read_excel('/kaggle/input/mh-rental-bicycle/Train.xlsx')\n",
    "test_df = pd.read_excel('/kaggle/input/mh-rental-bicycle/Test.xlsx')\n",
    "sub_df = pd.read_csv('/kaggle/input/mh-rental-bicycle/Submission.csv')"
   ]
  },
  {
   "cell_type": "code",
   "execution_count": 3,
   "id": "a0131fc8",
   "metadata": {
    "execution": {
     "iopub.execute_input": "2024-08-25T08:27:40.096444Z",
     "iopub.status.busy": "2024-08-25T08:27:40.095507Z",
     "iopub.status.idle": "2024-08-25T08:28:55.705452Z",
     "shell.execute_reply": "2024-08-25T08:28:55.704448Z"
    },
    "papermill": {
     "duration": 75.631898,
     "end_time": "2024-08-25T08:28:55.716709",
     "exception": false,
     "start_time": "2024-08-25T08:27:40.084811",
     "status": "completed"
    },
    "tags": []
   },
   "outputs": [
    {
     "name": "stdout",
     "output_type": "stream",
     "text": [
      "occasional: 97 missing dates\n",
      "subscribed: 50 missing dates\n"
     ]
    }
   ],
   "source": [
    "train_full_dates = pd.date_range(start='2013-01-01', end='2016-06-01', freq='60min')[:-1]\n",
    "\n",
    "missing_dates_dict = {}\n",
    "for user_type in train_df['User_type'].unique():\n",
    "    train_date = train_df[train_df['User_type']==user_type]['Datetime'].tolist()\n",
    "    missing_dates = [i for i in train_full_dates if i not in train_date]\n",
    "    missing_dates_dict[user_type] = missing_dates\n",
    "    print(f\"{user_type}: {len(missing_dates)} missing dates\")"
   ]
  },
  {
   "cell_type": "code",
   "execution_count": 4,
   "id": "6362c13e",
   "metadata": {
    "execution": {
     "iopub.execute_input": "2024-08-25T08:28:55.737939Z",
     "iopub.status.busy": "2024-08-25T08:28:55.737129Z",
     "iopub.status.idle": "2024-08-25T08:28:55.776365Z",
     "shell.execute_reply": "2024-08-25T08:28:55.775357Z"
    },
    "papermill": {
     "duration": 0.052029,
     "end_time": "2024-08-25T08:28:55.778596",
     "exception": false,
     "start_time": "2024-08-25T08:28:55.726567",
     "status": "completed"
    },
    "tags": []
   },
   "outputs": [
    {
     "name": "stdout",
     "output_type": "stream",
     "text": [
      "(29878, 7) (29831, 7)\n"
     ]
    }
   ],
   "source": [
    "train_df.drop(columns='Unnamed: 0', inplace=True)\n",
    "\n",
    "train_df_s = train_df[train_df['User_type']=='subscribed'].reset_index(drop=True)\n",
    "train_df_s.sort_values('Datetime', ascending=True, inplace=True)\n",
    "train_df_o = train_df[train_df['User_type']=='occasional'].reset_index(drop=True)\n",
    "train_df_o.sort_values('Datetime', ascending=True, inplace=True)\n",
    "\n",
    "print(train_df_s.shape, train_df_o.shape)"
   ]
  },
  {
   "cell_type": "code",
   "execution_count": 5,
   "id": "9249d063",
   "metadata": {
    "execution": {
     "iopub.execute_input": "2024-08-25T08:28:55.800585Z",
     "iopub.status.busy": "2024-08-25T08:28:55.800177Z",
     "iopub.status.idle": "2024-08-25T08:28:55.811462Z",
     "shell.execute_reply": "2024-08-25T08:28:55.810340Z"
    },
    "papermill": {
     "duration": 0.024692,
     "end_time": "2024-08-25T08:28:55.813775",
     "exception": false,
     "start_time": "2024-08-25T08:28:55.789083",
     "status": "completed"
    },
    "tags": []
   },
   "outputs": [
    {
     "name": "stdout",
     "output_type": "stream",
     "text": [
      "(720, 7) (720, 7)\n"
     ]
    }
   ],
   "source": [
    "test_df.rename(\n",
    "    columns={'Unnamed: 0': 'index'},\n",
    "    inplace=True\n",
    ")\n",
    "\n",
    "test_df_s = test_df[test_df['User_type']=='subscribed'].reset_index(drop=True)\n",
    "test_df_s.sort_values('Datetime', ascending=True, inplace=True)\n",
    "test_df_o = test_df[test_df['User_type']=='occasional'].reset_index(drop=True)\n",
    "test_df_o.sort_values('Datetime', ascending=True, inplace=True)\n",
    "\n",
    "print(test_df_s.shape, test_df_o.shape)"
   ]
  },
  {
   "cell_type": "code",
   "execution_count": 6,
   "id": "c9746889",
   "metadata": {
    "execution": {
     "iopub.execute_input": "2024-08-25T08:28:55.835972Z",
     "iopub.status.busy": "2024-08-25T08:28:55.835612Z",
     "iopub.status.idle": "2024-08-25T08:28:55.841998Z",
     "shell.execute_reply": "2024-08-25T08:28:55.841112Z"
    },
    "papermill": {
     "duration": 0.019608,
     "end_time": "2024-08-25T08:28:55.844164",
     "exception": false,
     "start_time": "2024-08-25T08:28:55.824556",
     "status": "completed"
    },
    "tags": []
   },
   "outputs": [
    {
     "name": "stdout",
     "output_type": "stream",
     "text": [
      "(720, 7) (29158, 7)\n",
      "(720, 7) (29111, 7)\n"
     ]
    }
   ],
   "source": [
    "valid_df_s = train_df_s.iloc[-720:]\n",
    "train_df_s = train_df_s.iloc[:-720]\n",
    "print(valid_df_s.shape, train_df_s.shape)\n",
    "\n",
    "valid_df_o = train_df_o.iloc[-720:]\n",
    "train_df_o = train_df_o.iloc[:-720]\n",
    "print(valid_df_o.shape, train_df_o.shape)"
   ]
  },
  {
   "cell_type": "code",
   "execution_count": 7,
   "id": "8c684b53",
   "metadata": {
    "execution": {
     "iopub.execute_input": "2024-08-25T08:28:55.865562Z",
     "iopub.status.busy": "2024-08-25T08:28:55.864993Z",
     "iopub.status.idle": "2024-08-25T08:28:56.070837Z",
     "shell.execute_reply": "2024-08-25T08:28:56.069785Z"
    },
    "papermill": {
     "duration": 0.218919,
     "end_time": "2024-08-25T08:28:56.072867",
     "exception": false,
     "start_time": "2024-08-25T08:28:55.853948",
     "status": "completed"
    },
    "tags": []
   },
   "outputs": [
    {
     "name": "stdout",
     "output_type": "stream",
     "text": [
      "(720, 7) (29208, 7)\n",
      "(720, 7) (29208, 7)\n"
     ]
    }
   ],
   "source": [
    "for user_type in train_df['User_type'].unique():\n",
    "\n",
    "    if user_type == 'occasional':\n",
    "        temp_train_df = train_df_o.copy()\n",
    "    else:\n",
    "        temp_train_df = train_df_s.copy()\n",
    "\n",
    "    train_dict = defaultdict(list)\n",
    "    valid_dict = defaultdict(list)\n",
    "\n",
    "    for missing_date in missing_dates_dict[user_type]:\n",
    "\n",
    "        if missing_date < valid_df_s.iloc[0]['Datetime']:\n",
    "            train_dict['Datetime'].append(missing_date)\n",
    "            train_dict['St_Hour'].append(missing_date.hour)\n",
    "            train_dict['St_Day'].append(missing_date.day)\n",
    "            train_dict['St_Month'].append(missing_date.month)\n",
    "            train_dict['St_Year'].append(missing_date.year)\n",
    "#             train_dict['dayofweek'].append(missing_date.dayofweek)\n",
    "#             train_dict['weekofyear'].append(missing_date.isocalendar()[1])\n",
    "#             train_dict['dayofyear'].append(missing_date.dayofyear)\n",
    "            train_dict['User_type'].append(user_type)\n",
    "            temp_df = temp_train_df[\n",
    "                (temp_train_df['Datetime']<missing_date) & \n",
    "                (temp_train_df['St_Hour']==missing_date.hour)\n",
    "            ]\n",
    "            train_dict['Rental_Bicycles_Count'] = temp_df['Rental_Bicycles_Count'].median()\n",
    "        else:\n",
    "            valid_dict['Datetime'].append(missing_date)\n",
    "            valid_dict['St_Hour'].append(missing_date.hour)\n",
    "            valid_dict['St_Day'].append(missing_date.day)\n",
    "            valid_dict['St_Month'].append(missing_date.month)\n",
    "            valid_dict['St_Year'].append(missing_date.year)\n",
    "#             valid_dict['dayofweek'].append(missing_date.dayofweek)\n",
    "#             valid_dict['weekofyear'].append(missing_date.isocalendar()[1])\n",
    "#             valid_dict['dayofyear'].append(missing_date.dayofyear)\n",
    "            valid_dict['User_type'].append(user_type)\n",
    "            valid_dict['Rental_Bicycles_Count'] = temp_train_df[temp_train_df['St_Hour']==missing_date.hour]['Rental_Bicycles_Count'].median()\n",
    "\n",
    "    if user_type == 'occasional':\n",
    "        temp_train_df_o = pd.DataFrame(train_dict)\n",
    "        temp_train_df_o = temp_train_df_o[train_df_o.columns]\n",
    "        train_df_o = pd.concat([train_df_o, temp_train_df_o], axis=0).reset_index(drop=True)\n",
    "        train_df_o.sort_values('Datetime', ascending=True, inplace=True)\n",
    "\n",
    "        if len(valid_dict) != 0:\n",
    "            temp_valid_df_o = pd.DataFrame(valid_dict)\n",
    "            temp_valid_df_o = temp_valid_df_o[valid_df_o.columns]\n",
    "            valid_df_o = pd.concat([valid_df_o, temp_valid_df_o], axis=0).reset_index(drop=True)\n",
    "            valid_df_o.sort_values('Datetime', ascending=True, inplace=True)\n",
    "    else:\n",
    "        temp_train_df_s = pd.DataFrame(train_dict)\n",
    "        temp_train_df_s = temp_train_df_s[train_df_s.columns]\n",
    "        train_df_s = pd.concat([train_df_s, temp_train_df_s], axis=0).reset_index(drop=True)\n",
    "        train_df_s.sort_values('Datetime', ascending=True, inplace=True)\n",
    "\n",
    "        if len(valid_dict) != 0:\n",
    "            temp_valid_df_s = pd.DataFrame(valid_dict)\n",
    "            temp_valid_df_s = temp_valid_df_s[valid_df_s.columns]\n",
    "            valid_df_s = pd.concat([valid_df_s, temp_valid_df_s], axis=0).reset_index(drop=True)\n",
    "            valid_df_s.sort_values('Datetime', ascending=True, inplace=True)\n",
    "\n",
    "print(valid_df_s.shape, train_df_s.shape)\n",
    "print(valid_df_o.shape, train_df_o.shape)"
   ]
  },
  {
   "cell_type": "code",
   "execution_count": 8,
   "id": "3c35ce43",
   "metadata": {
    "execution": {
     "iopub.execute_input": "2024-08-25T08:28:56.094995Z",
     "iopub.status.busy": "2024-08-25T08:28:56.094644Z",
     "iopub.status.idle": "2024-08-25T08:28:56.523227Z",
     "shell.execute_reply": "2024-08-25T08:28:56.522177Z"
    },
    "papermill": {
     "duration": 0.442282,
     "end_time": "2024-08-25T08:28:56.525911",
     "exception": false,
     "start_time": "2024-08-25T08:28:56.083629",
     "status": "completed"
    },
    "tags": []
   },
   "outputs": [
    {
     "data": {
      "image/png": "[encoded data removed]",
      "text/plain": [
       "<Figure size 640x480 with 1 Axes>"
      ]
     },
     "metadata": {},
     "output_type": "display_data"
    }
   ],
   "source": [
    "transformed_data_s, best_lambda_s = boxcox(train_df_s['Rental_Bicycles_Count']) \n",
    "train_df_s['Rental_Bicycles_Count'] = transformed_data_s\n",
    "\n",
    "plt.hist(train_df_s['Rental_Bicycles_Count'], bins=20);"
   ]
  },
  {
   "cell_type": "code",
   "execution_count": 9,
   "id": "ef06204c",
   "metadata": {
    "execution": {
     "iopub.execute_input": "2024-08-25T08:28:56.550828Z",
     "iopub.status.busy": "2024-08-25T08:28:56.550458Z",
     "iopub.status.idle": "2024-08-25T08:28:56.990246Z",
     "shell.execute_reply": "2024-08-25T08:28:56.989157Z"
    },
    "papermill": {
     "duration": 0.453414,
     "end_time": "2024-08-25T08:28:56.992356",
     "exception": false,
     "start_time": "2024-08-25T08:28:56.538942",
     "status": "completed"
    },
    "tags": []
   },
   "outputs": [
    {
     "data": {
      "image/png": "[encoded data removed]",
      "text/plain": [
       "<Figure size 640x480 with 1 Axes>"
      ]
     },
     "metadata": {},
     "output_type": "display_data"
    }
   ],
   "source": [
    "transformed_data_o, best_lambda_o = boxcox(train_df_o['Rental_Bicycles_Count']) \n",
    "train_df_o['Rental_Bicycles_Count'] = transformed_data_o\n",
    "\n",
    "plt.hist(transformed_data_o, bins=20);"
   ]
  },
  {
   "cell_type": "code",
   "execution_count": 10,
   "id": "6552be1a",
   "metadata": {
    "execution": {
     "iopub.execute_input": "2024-08-25T08:28:57.015393Z",
     "iopub.status.busy": "2024-08-25T08:28:57.015073Z",
     "iopub.status.idle": "2024-08-25T08:28:57.021455Z",
     "shell.execute_reply": "2024-08-25T08:28:57.020478Z"
    },
    "papermill": {
     "duration": 0.020095,
     "end_time": "2024-08-25T08:28:57.023482",
     "exception": false,
     "start_time": "2024-08-25T08:28:57.003387",
     "status": "completed"
    },
    "tags": []
   },
   "outputs": [],
   "source": [
    "def apply_box_cox_transform(x, lamdba):\n",
    "    if lamdba != 0:\n",
    "        x_tf = (x**lamdba - 1) / lamdba\n",
    "    else:\n",
    "        x_tf = np.log(x)\n",
    "        \n",
    "    return x_tf\n",
    "\n",
    "def invboxcox(x, lamdba):\n",
    "    if lamdba == 0:\n",
    "        reversed_x = np.exp(x)\n",
    "    else:\n",
    "        reversed_x = np.exp(np.log(lamdba*x+1)/lamdba)\n",
    "    return reversed_x"
   ]
  },
  {
   "cell_type": "code",
   "execution_count": 11,
   "id": "dd919320",
   "metadata": {
    "execution": {
     "iopub.execute_input": "2024-08-25T08:28:57.046308Z",
     "iopub.status.busy": "2024-08-25T08:28:57.045958Z",
     "iopub.status.idle": "2024-08-25T08:28:57.054282Z",
     "shell.execute_reply": "2024-08-25T08:28:57.053470Z"
    },
    "papermill": {
     "duration": 0.022013,
     "end_time": "2024-08-25T08:28:57.056242",
     "exception": false,
     "start_time": "2024-08-25T08:28:57.034229",
     "status": "completed"
    },
    "tags": []
   },
   "outputs": [],
   "source": [
    "valid_df_s['Rental_Bicycles_Count'] = valid_df_s['Rental_Bicycles_Count'].\\\n",
    "    apply(lambda x: apply_box_cox_transform(x, lamdba=best_lambda_s))\n",
    "\n",
    "valid_df_o['Rental_Bicycles_Count'] = valid_df_o['Rental_Bicycles_Count'].\\\n",
    "    apply(lambda x: apply_box_cox_transform(x, lamdba=best_lambda_o))"
   ]
  },
  {
   "cell_type": "code",
   "execution_count": 12,
   "id": "df52d1f5",
   "metadata": {
    "execution": {
     "iopub.execute_input": "2024-08-25T08:28:57.079402Z",
     "iopub.status.busy": "2024-08-25T08:28:57.078739Z",
     "iopub.status.idle": "2024-08-25T08:28:57.096080Z",
     "shell.execute_reply": "2024-08-25T08:28:57.095183Z"
    },
    "papermill": {
     "duration": 0.031292,
     "end_time": "2024-08-25T08:28:57.098128",
     "exception": false,
     "start_time": "2024-08-25T08:28:57.066836",
     "status": "completed"
    },
    "tags": []
   },
   "outputs": [],
   "source": [
    "scaler_s = MinMaxScaler()\n",
    "\n",
    "train_df_s['Rental_Bicycles_Count'] = scaler_s.fit_transform(train_df_s['Rental_Bicycles_Count'].to_frame())\n",
    "valid_df_s['Rental_Bicycles_Count'] = scaler_s.transform(valid_df_s['Rental_Bicycles_Count'].to_frame())\n",
    "\n",
    "scaler_o = MinMaxScaler()\n",
    "\n",
    "train_df_o['Rental_Bicycles_Count'] = scaler_o.fit_transform(train_df_o['Rental_Bicycles_Count'].to_frame())\n",
    "valid_df_o['Rental_Bicycles_Count'] = scaler_o.transform(valid_df_o['Rental_Bicycles_Count'].to_frame())"
   ]
  },
  {
   "cell_type": "code",
   "execution_count": 13,
   "id": "c6abb084",
   "metadata": {
    "execution": {
     "iopub.execute_input": "2024-08-25T08:28:57.120701Z",
     "iopub.status.busy": "2024-08-25T08:28:57.120117Z",
     "iopub.status.idle": "2024-08-25T08:28:57.127728Z",
     "shell.execute_reply": "2024-08-25T08:28:57.126765Z"
    },
    "papermill": {
     "duration": 0.021043,
     "end_time": "2024-08-25T08:28:57.129795",
     "exception": false,
     "start_time": "2024-08-25T08:28:57.108752",
     "status": "completed"
    },
    "tags": []
   },
   "outputs": [
    {
     "name": "stdout",
     "output_type": "stream",
     "text": [
      "(29208,) (29208,)\n",
      "(720,) (720,)\n"
     ]
    }
   ],
   "source": [
    "train_ts_s = train_df_s['Rental_Bicycles_Count'].values.astype('float32')\n",
    "train_ts_o = train_df_o['Rental_Bicycles_Count'].values.astype('float32')\n",
    "\n",
    "valid_ts_s = valid_df_s['Rental_Bicycles_Count'].values.astype('float32')\n",
    "valid_ts_o = valid_df_o['Rental_Bicycles_Count'].values.astype('float32')\n",
    "\n",
    "print(train_ts_s.shape, train_ts_o.shape)\n",
    "print(valid_ts_s.shape, valid_ts_o.shape)"
   ]
  },
  {
   "cell_type": "code",
   "execution_count": 14,
   "id": "b9ba369d",
   "metadata": {
    "execution": {
     "iopub.execute_input": "2024-08-25T08:28:57.152873Z",
     "iopub.status.busy": "2024-08-25T08:28:57.152175Z",
     "iopub.status.idle": "2024-08-25T08:28:57.429710Z",
     "shell.execute_reply": "2024-08-25T08:28:57.428604Z"
    },
    "papermill": {
     "duration": 0.291803,
     "end_time": "2024-08-25T08:28:57.432206",
     "exception": false,
     "start_time": "2024-08-25T08:28:57.140403",
     "status": "completed"
    },
    "tags": []
   },
   "outputs": [
    {
     "data": {
      "image/png": "[encoded data removed]",
      "text/plain": [
       "<Figure size 640x480 with 1 Axes>"
      ]
     },
     "metadata": {},
     "output_type": "display_data"
    }
   ],
   "source": [
    "plt.hist(train_ts_s);"
   ]
  },
  {
   "cell_type": "code",
   "execution_count": 15,
   "id": "9150d433",
   "metadata": {
    "execution": {
     "iopub.execute_input": "2024-08-25T08:28:57.455690Z",
     "iopub.status.busy": "2024-08-25T08:28:57.455059Z",
     "iopub.status.idle": "2024-08-25T08:28:57.714308Z",
     "shell.execute_reply": "2024-08-25T08:28:57.713219Z"
    },
    "papermill": {
     "duration": 0.273246,
     "end_time": "2024-08-25T08:28:57.716453",
     "exception": false,
     "start_time": "2024-08-25T08:28:57.443207",
     "status": "completed"
    },
    "tags": []
   },
   "outputs": [
    {
     "data": {
      "image/png": "[encoded data removed]",
      "text/plain": [
       "<Figure size 640x480 with 1 Axes>"
      ]
     },
     "metadata": {},
     "output_type": "display_data"
    }
   ],
   "source": [
    "plt.hist(train_ts_o);"
   ]
  },
  {
   "cell_type": "code",
   "execution_count": 16,
   "id": "2ae59a5b",
   "metadata": {
    "execution": {
     "iopub.execute_input": "2024-08-25T08:28:57.740319Z",
     "iopub.status.busy": "2024-08-25T08:28:57.739954Z",
     "iopub.status.idle": "2024-08-25T08:28:57.746337Z",
     "shell.execute_reply": "2024-08-25T08:28:57.745475Z"
    },
    "papermill": {
     "duration": 0.020475,
     "end_time": "2024-08-25T08:28:57.748201",
     "exception": false,
     "start_time": "2024-08-25T08:28:57.727726",
     "status": "completed"
    },
    "tags": []
   },
   "outputs": [],
   "source": [
    "def create_dataset(dataset, lookback):\n",
    "    \"\"\"Transform a time series into a prediction dataset\n",
    "    \n",
    "    Args:\n",
    "        dataset: A numpy array of time series, first dimension is the time steps\n",
    "        lookback: Size of window for prediction\n",
    "    \"\"\"\n",
    "    X, y = [], []\n",
    "    for i in range(len(dataset)-lookback):\n",
    "        feature = dataset[i:i+lookback]\n",
    "        target = dataset[i+1:i+lookback+1]\n",
    "        X.append(feature)\n",
    "        y.append(target)\n",
    "    return torch.tensor(X).unsqueeze(2), torch.tensor(y).unsqueeze(2)"
   ]
  },
  {
   "cell_type": "code",
   "execution_count": 17,
   "id": "8e7691ca",
   "metadata": {
    "execution": {
     "iopub.execute_input": "2024-08-25T08:28:57.771556Z",
     "iopub.status.busy": "2024-08-25T08:28:57.771216Z",
     "iopub.status.idle": "2024-08-25T08:28:58.842249Z",
     "shell.execute_reply": "2024-08-25T08:28:58.841264Z"
    },
    "papermill": {
     "duration": 1.084755,
     "end_time": "2024-08-25T08:28:58.844077",
     "exception": false,
     "start_time": "2024-08-25T08:28:57.759322",
     "status": "completed"
    },
    "tags": []
   },
   "outputs": [
    {
     "name": "stderr",
     "output_type": "stream",
     "text": [
      "/tmp/ipykernel_24/1171032600.py:14: UserWarning: Creating a tensor from a list of numpy.ndarrays is extremely slow. Please consider converting the list to a single numpy.ndarray with numpy.array() before converting to a tensor. (Triggered internally at /usr/local/src/pytorch/torch/csrc/utils/tensor_new.cpp:278.)\n",
      "  return torch.tensor(X).unsqueeze(2), torch.tensor(y).unsqueeze(2)\n"
     ]
    },
    {
     "name": "stdout",
     "output_type": "stream",
     "text": [
      "torch.Size([29184, 24, 1]) torch.Size([29184, 24, 1])\n",
      "torch.Size([696, 24, 1]) torch.Size([696, 24, 1])\n",
      "torch.Size([29184, 24, 1]) torch.Size([29184, 24, 1])\n",
      "torch.Size([696, 24, 1]) torch.Size([696, 24, 1])\n"
     ]
    }
   ],
   "source": [
    "LOOKBACK = 24\n",
    "\n",
    "X_train_s, y_train_s = create_dataset(train_ts_s, lookback=LOOKBACK)\n",
    "X_valid_s, y_valid_s = create_dataset(valid_ts_s, lookback=LOOKBACK)\n",
    "print(X_train_s.shape, y_train_s.shape)\n",
    "print(X_valid_s.shape, y_valid_s.shape)\n",
    "\n",
    "X_train_o, y_train_o = create_dataset(train_ts_o, lookback=LOOKBACK)\n",
    "X_valid_o, y_valid_o = create_dataset(valid_ts_o, lookback=LOOKBACK)\n",
    "print(X_train_o.shape, y_train_o.shape)\n",
    "print(X_valid_o.shape, y_valid_o.shape)"
   ]
  },
  {
   "cell_type": "code",
   "execution_count": 18,
   "id": "65c4cb3a",
   "metadata": {
    "execution": {
     "iopub.execute_input": "2024-08-25T08:28:58.867976Z",
     "iopub.status.busy": "2024-08-25T08:28:58.867650Z",
     "iopub.status.idle": "2024-08-25T08:28:58.873751Z",
     "shell.execute_reply": "2024-08-25T08:28:58.872880Z"
    },
    "papermill": {
     "duration": 0.020117,
     "end_time": "2024-08-25T08:28:58.875617",
     "exception": false,
     "start_time": "2024-08-25T08:28:58.855500",
     "status": "completed"
    },
    "tags": []
   },
   "outputs": [],
   "source": [
    "class RentalModel(nn.Module):\n",
    "    def __init__(self):\n",
    "        super().__init__()\n",
    "        self.lstm = nn.LSTM(input_size=1, hidden_size=50, num_layers=1, batch_first=True)\n",
    "        self.linear = nn.Linear(50, 1)\n",
    "    def forward(self, x):\n",
    "        x, _ = self.lstm(x)\n",
    "        x = self.linear(x)\n",
    "        return x"
   ]
  },
  {
   "cell_type": "code",
   "execution_count": 19,
   "id": "257502f5",
   "metadata": {
    "execution": {
     "iopub.execute_input": "2024-08-25T08:28:58.900017Z",
     "iopub.status.busy": "2024-08-25T08:28:58.899291Z",
     "iopub.status.idle": "2024-08-25T08:28:58.903337Z",
     "shell.execute_reply": "2024-08-25T08:28:58.902536Z"
    },
    "papermill": {
     "duration": 0.01839,
     "end_time": "2024-08-25T08:28:58.905235",
     "exception": false,
     "start_time": "2024-08-25T08:28:58.886845",
     "status": "completed"
    },
    "tags": []
   },
   "outputs": [],
   "source": [
    "# train_df.drop(columns='Unnamed: 0', inplace=True)\n",
    "\n",
    "# train_df_s = train_df[train_df['User_type']=='subscribed'].reset_index(drop=True)\n",
    "# train_df_s.sort_values('Datetime', ascending=True, inplace=True)\n",
    "# train_df_o = train_df[train_df['User_type']=='occasional'].reset_index(drop=True)\n",
    "# train_df_o.sort_values('Datetime', ascending=True, inplace=True)\n",
    "\n",
    "# print(train_df_s.shape, train_df_o.shape)"
   ]
  },
  {
   "cell_type": "code",
   "execution_count": 20,
   "id": "9da0ea44",
   "metadata": {
    "execution": {
     "iopub.execute_input": "2024-08-25T08:28:58.928730Z",
     "iopub.status.busy": "2024-08-25T08:28:58.928461Z",
     "iopub.status.idle": "2024-08-25T08:28:59.014378Z",
     "shell.execute_reply": "2024-08-25T08:28:59.013430Z"
    },
    "papermill": {
     "duration": 0.0999,
     "end_time": "2024-08-25T08:28:59.016387",
     "exception": false,
     "start_time": "2024-08-25T08:28:58.916487",
     "status": "completed"
    },
    "tags": []
   },
   "outputs": [
    {
     "data": {
      "text/plain": [
       "'cuda'"
      ]
     },
     "execution_count": 20,
     "metadata": {},
     "output_type": "execute_result"
    }
   ],
   "source": [
    "device = 'cuda' if torch.cuda.is_available() else 'cpu'\n",
    "device"
   ]
  },
  {
   "cell_type": "code",
   "execution_count": 21,
   "id": "e30b0bc4",
   "metadata": {
    "execution": {
     "iopub.execute_input": "2024-08-25T08:28:59.040919Z",
     "iopub.status.busy": "2024-08-25T08:28:59.040604Z",
     "iopub.status.idle": "2024-08-25T09:07:55.328929Z",
     "shell.execute_reply": "2024-08-25T09:07:55.327773Z"
    },
    "papermill": {
     "duration": 2336.303533,
     "end_time": "2024-08-25T09:07:55.331722",
     "exception": false,
     "start_time": "2024-08-25T08:28:59.028189",
     "status": "completed"
    },
    "tags": []
   },
   "outputs": [
    {
     "name": "stdout",
     "output_type": "stream",
     "text": [
      "Epoch 0: train RMSE 0.1080, valid RMSE 0.0670\n",
      "Epoch 100: train RMSE 0.0386, valid RMSE 0.0448\n",
      "Epoch 200: train RMSE 0.0372, valid RMSE 0.0449\n",
      "Epoch 300: train RMSE 0.0365, valid RMSE 0.0454\n",
      "Epoch 400: train RMSE 0.0361, valid RMSE 0.0454\n",
      "Epoch 500: train RMSE 0.0358, valid RMSE 0.0464\n",
      "Epoch 600: train RMSE 0.0356, valid RMSE 0.0461\n",
      "Epoch 700: train RMSE 0.0354, valid RMSE 0.0453\n",
      "Epoch 800: train RMSE 0.0353, valid RMSE 0.0459\n",
      "Epoch 900: train RMSE 0.0352, valid RMSE 0.0460\n"
     ]
    }
   ],
   "source": [
    "model_s = RentalModel()\n",
    "model_s = model_s.to(device)\n",
    "optimizer = optim.Adam(model_s.parameters())\n",
    "loss_fn = nn.MSELoss()\n",
    "loader = data.DataLoader(data.TensorDataset(X_train_s, y_train_s), shuffle=True, batch_size=32)\n",
    " \n",
    "n_epochs = 1000\n",
    "\n",
    "train_losses = []\n",
    "valid_losses = []\n",
    "\n",
    "for epoch in range(n_epochs):\n",
    "    temp_train_losses = []\n",
    "    model_s.train()\n",
    "    for X_batch, y_batch in loader:\n",
    "        X_batch = X_batch.to(device)\n",
    "        y_batch = y_batch.to(device)\n",
    "        y_pred = model_s(X_batch)\n",
    "        loss = loss_fn(y_pred, y_batch)\n",
    "        temp_train_losses.append(np.sqrt(loss.detach().cpu().numpy()))\n",
    "        optimizer.zero_grad()\n",
    "        loss.backward()\n",
    "        optimizer.step()\n",
    "    train_rmse = np.mean(temp_train_losses)\n",
    "    train_losses.append(train_rmse)\n",
    "    \n",
    "    # Validation\n",
    "    model_s.eval()\n",
    "    with torch.no_grad():\n",
    "#         y_pred = model_s(X_train_s.to(device)).cpu()\n",
    "#         train_rmse = np.sqrt(loss_fn(y_pred, y_train_s))\n",
    "        y_pred = model_s(X_valid_s.to(device)).cpu()\n",
    "        valid_rmse = np.sqrt(loss_fn(y_pred, y_valid_s))\n",
    "        valid_losses.append(valid_rmse)\n",
    "        \n",
    "    if epoch % 100 != 0:\n",
    "        continue\n",
    "    print(\"Epoch %d: train RMSE %.4f, valid RMSE %.4f\" % (epoch, train_rmse, valid_rmse))"
   ]
  },
  {
   "cell_type": "code",
   "execution_count": 22,
   "id": "0220e89d",
   "metadata": {
    "execution": {
     "iopub.execute_input": "2024-08-25T09:07:55.360174Z",
     "iopub.status.busy": "2024-08-25T09:07:55.359262Z",
     "iopub.status.idle": "2024-08-25T09:07:55.566384Z",
     "shell.execute_reply": "2024-08-25T09:07:55.565379Z"
    },
    "papermill": {
     "duration": 0.223195,
     "end_time": "2024-08-25T09:07:55.568481",
     "exception": false,
     "start_time": "2024-08-25T09:07:55.345286",
     "status": "completed"
    },
    "tags": []
   },
   "outputs": [
    {
     "data": {
      "image/png": "[encoded data removed]",
      "text/plain": [
       "<Figure size 640x480 with 1 Axes>"
      ]
     },
     "metadata": {},
     "output_type": "display_data"
    }
   ],
   "source": [
    "plt.plot(np.arange(len(train_losses)), train_losses, label='train')\n",
    "plt.plot(np.arange(len(valid_losses)), train_losses, label='valid')\n",
    "plt.ylabel('Loss')\n",
    "plt.xlabel('Epoch')\n",
    "plt.legend()\n",
    "plt.show()"
   ]
  },
  {
   "cell_type": "code",
   "execution_count": 23,
   "id": "f6163014",
   "metadata": {
    "execution": {
     "iopub.execute_input": "2024-08-25T09:07:55.596405Z",
     "iopub.status.busy": "2024-08-25T09:07:55.596063Z",
     "iopub.status.idle": "2024-08-25T09:07:56.266377Z",
     "shell.execute_reply": "2024-08-25T09:07:56.265461Z"
    },
    "papermill": {
     "duration": 0.687247,
     "end_time": "2024-08-25T09:07:56.268694",
     "exception": false,
     "start_time": "2024-08-25T09:07:55.581447",
     "status": "completed"
    },
    "tags": []
   },
   "outputs": [
    {
     "data": {
      "image/png": "[encoded data removed]",
      "text/plain": [
       "<Figure size 640x480 with 1 Axes>"
      ]
     },
     "metadata": {},
     "output_type": "display_data"
    }
   ],
   "source": [
    "timeseries = pd.concat(\n",
    "        [\n",
    "            train_df_s[[\"Rental_Bicycles_Count\"]],\n",
    "            valid_df_s[[\"Rental_Bicycles_Count\"]],\n",
    "        ],\n",
    "        axis=0\n",
    "    ).values.astype('float32')\n",
    "\n",
    "with torch.no_grad():\n",
    "    # shift train predictions for plotting\n",
    "    train_plot = np.ones_like(timeseries) * np.nan\n",
    "    y_pred = model_s(X_train_s.to(device)).cpu()\n",
    "    y_pred = y_pred[:, -1, :]\n",
    "    train_plot[LOOKBACK:train_df_s.shape[0]] = model_s(X_train_s.to(device)).cpu()[:, -1, :]\n",
    "    # shift valid predictions for plotting\n",
    "    valid_plot = np.ones_like(timeseries) * np.nan\n",
    "    valid_plot[train_df_s.shape[0]+LOOKBACK:len(timeseries)] = model_s(X_valid_s.to(device)).cpu()[:, -1, :]\n",
    "\n",
    "    for i in range(LOOKBACK):\n",
    "        if i != 0:\n",
    "            temp_valid = np.zeros(LOOKBACK)\n",
    "            temp_valid[:LOOKBACK-i] = train_df_s.iloc[-(LOOKBACK-i):][\"Rental_Bicycles_Count\"].values\n",
    "            temp_valid[LOOKBACK-i:] = valid_plot[train_df_s.shape[0]:train_df_s.shape[0]+i].reshape(-1,)\n",
    "        else:\n",
    "            temp_valid = train_df_s.iloc[-(LOOKBACK-i):][\"Rental_Bicycles_Count\"].values\n",
    "        temp_valid = torch.as_tensor(temp_valid).view(1, -1, 1).float()\n",
    "        valid_plot[train_df_s.shape[0]+i] = model_s(temp_valid.to(device)).cpu()[:, -1, :]\n",
    "\n",
    "# plot\n",
    "plt.plot(timeseries, c='b')\n",
    "plt.plot(train_plot, c='r')\n",
    "plt.plot(valid_plot, c='g')\n",
    "plt.show()"
   ]
  },
  {
   "cell_type": "code",
   "execution_count": 24,
   "id": "f079bda1",
   "metadata": {
    "execution": {
     "iopub.execute_input": "2024-08-25T09:07:56.297009Z",
     "iopub.status.busy": "2024-08-25T09:07:56.296699Z",
     "iopub.status.idle": "2024-08-25T09:07:56.631257Z",
     "shell.execute_reply": "2024-08-25T09:07:56.630223Z"
    },
    "papermill": {
     "duration": 0.351641,
     "end_time": "2024-08-25T09:07:56.633496",
     "exception": false,
     "start_time": "2024-08-25T09:07:56.281855",
     "status": "completed"
    },
    "tags": []
   },
   "outputs": [
    {
     "name": "stdout",
     "output_type": "stream",
     "text": [
      "subscribed: Train RMSE: 348.15, Validation RMSE: 554.66\n"
     ]
    }
   ],
   "source": [
    "train_inv_scaler_values_s = scaler_s.inverse_transform(train_plot[LOOKBACK:len(train_plot)-720])\n",
    "train_inv_bc_values_s = [invboxcox(x, lamdba=best_lambda_s)[0] for x in train_inv_scaler_values_s]\n",
    "train_score = np.sqrt(\n",
    "    mean_squared_error(train_df_s.iloc[LOOKBACK:]['Rental_Bicycles_Count'], train_inv_bc_values_s)\n",
    ")\n",
    "\n",
    "valid_inv_scaler_values_s = scaler_s.inverse_transform(valid_plot[train_df_s.shape[0]:])\n",
    "valid_inv_bc_values_s = [invboxcox(x, lamdba=best_lambda_s)[0] for x in valid_inv_scaler_values_s]\n",
    "valid_score = np.sqrt(mean_squared_error(valid_df_s['Rental_Bicycles_Count'], valid_inv_bc_values_s))\n",
    "\n",
    "print(f\"subscribed: Train RMSE: {train_score:.2f}, Validation RMSE: {valid_score:.2f}\")"
   ]
  },
  {
   "cell_type": "code",
   "execution_count": 25,
   "id": "c160b02b",
   "metadata": {
    "execution": {
     "iopub.execute_input": "2024-08-25T09:07:56.663135Z",
     "iopub.status.busy": "2024-08-25T09:07:56.662802Z",
     "iopub.status.idle": "2024-08-25T09:07:57.008264Z",
     "shell.execute_reply": "2024-08-25T09:07:57.007399Z"
    },
    "papermill": {
     "duration": 0.362035,
     "end_time": "2024-08-25T09:07:57.010626",
     "exception": false,
     "start_time": "2024-08-25T09:07:56.648591",
     "status": "completed"
    },
    "tags": []
   },
   "outputs": [],
   "source": [
    "test_pred = np.zeros((720, 1))\n",
    "\n",
    "for i in range(LOOKBACK):\n",
    "    if i != 0:\n",
    "        temp_test = np.zeros(LOOKBACK)\n",
    "        temp_test[:LOOKBACK-i] = valid_df_s.iloc[-(LOOKBACK-i):][\"Rental_Bicycles_Count\"].values\n",
    "        temp_test[LOOKBACK-i:] = test_pred[:i].reshape(-1,)\n",
    "    else:\n",
    "        temp_test = valid_df_s.iloc[-(LOOKBACK-i):][\"Rental_Bicycles_Count\"].values\n",
    "    temp_test = torch.as_tensor(temp_test).view(1, -1, 1).float()\n",
    "    test_pred[i] = model_s(temp_test.to(device)).detach().cpu()[:, -1, :]\n",
    "    \n",
    "for i in range(LOOKBACK, test_pred.shape[0]):\n",
    "    temp_test = test_pred[i-LOOKBACK:i]\n",
    "    temp_test = torch.as_tensor(temp_test).view(1, -1, 1).float()\n",
    "    test_pred[i] = model_s(temp_test.to(device)).detach().cpu()[:, -1, :]\n",
    "    \n",
    "test_inv_scaler_values_s = scaler_s.inverse_transform(test_pred.reshape(-1, 1))\n",
    "test_inv_bc_values_s = [invboxcox(x, lamdba=best_lambda_s)[0] for x in test_inv_scaler_values_s]"
   ]
  },
  {
   "cell_type": "code",
   "execution_count": 26,
   "id": "aafc9346",
   "metadata": {
    "execution": {
     "iopub.execute_input": "2024-08-25T09:07:57.039072Z",
     "iopub.status.busy": "2024-08-25T09:07:57.038764Z",
     "iopub.status.idle": "2024-08-25T09:07:57.056215Z",
     "shell.execute_reply": "2024-08-25T09:07:57.055273Z"
    },
    "papermill": {
     "duration": 0.034057,
     "end_time": "2024-08-25T09:07:57.058483",
     "exception": false,
     "start_time": "2024-08-25T09:07:57.024426",
     "status": "completed"
    },
    "tags": []
   },
   "outputs": [
    {
     "data": {
      "text/html": [
       "<div>\n",
       "<style scoped>\n",
       "    .dataframe tbody tr th:only-of-type {\n",
       "        vertical-align: middle;\n",
       "    }\n",
       "\n",
       "    .dataframe tbody tr th {\n",
       "        vertical-align: top;\n",
       "    }\n",
       "\n",
       "    .dataframe thead th {\n",
       "        text-align: right;\n",
       "    }\n",
       "</style>\n",
       "<table border=\"1\" class=\"dataframe\">\n",
       "  <thead>\n",
       "    <tr style=\"text-align: right;\">\n",
       "      <th></th>\n",
       "      <th>index</th>\n",
       "      <th>Rental_Bicycles_Count</th>\n",
       "    </tr>\n",
       "  </thead>\n",
       "  <tbody>\n",
       "    <tr>\n",
       "      <th>0</th>\n",
       "      <td>1</td>\n",
       "      <td>325.448720</td>\n",
       "    </tr>\n",
       "    <tr>\n",
       "      <th>1</th>\n",
       "      <td>3</td>\n",
       "      <td>185.430819</td>\n",
       "    </tr>\n",
       "    <tr>\n",
       "      <th>2</th>\n",
       "      <td>5</td>\n",
       "      <td>123.401814</td>\n",
       "    </tr>\n",
       "    <tr>\n",
       "      <th>3</th>\n",
       "      <td>7</td>\n",
       "      <td>62.351915</td>\n",
       "    </tr>\n",
       "    <tr>\n",
       "      <th>4</th>\n",
       "      <td>9</td>\n",
       "      <td>28.693110</td>\n",
       "    </tr>\n",
       "  </tbody>\n",
       "</table>\n",
       "</div>"
      ],
      "text/plain": [
       "   index  Rental_Bicycles_Count\n",
       "0      1             325.448720\n",
       "1      3             185.430819\n",
       "2      5             123.401814\n",
       "3      7              62.351915\n",
       "4      9              28.693110"
      ]
     },
     "execution_count": 26,
     "metadata": {},
     "output_type": "execute_result"
    }
   ],
   "source": [
    "X_test_s = pd.DataFrame()\n",
    "X_test_s['index'] = test_df_s['index']\n",
    "X_test_s['Rental_Bicycles_Count'] = test_inv_bc_values_s\n",
    "X_test_s.head()"
   ]
  },
  {
   "cell_type": "code",
   "execution_count": 27,
   "id": "e34205d9",
   "metadata": {
    "execution": {
     "iopub.execute_input": "2024-08-25T09:07:57.087687Z",
     "iopub.status.busy": "2024-08-25T09:07:57.087288Z",
     "iopub.status.idle": "2024-08-25T09:47:07.217356Z",
     "shell.execute_reply": "2024-08-25T09:47:07.216557Z"
    },
    "papermill": {
     "duration": 2350.14652,
     "end_time": "2024-08-25T09:47:07.219619",
     "exception": false,
     "start_time": "2024-08-25T09:07:57.073099",
     "status": "completed"
    },
    "tags": []
   },
   "outputs": [
    {
     "name": "stdout",
     "output_type": "stream",
     "text": [
      "Epoch 0: train RMSE 0.0891, valid RMSE 0.0620\n",
      "Epoch 100: train RMSE 0.0453, valid RMSE 0.0508\n",
      "Epoch 200: train RMSE 0.0438, valid RMSE 0.0526\n",
      "Epoch 300: train RMSE 0.0431, valid RMSE 0.0527\n",
      "Epoch 400: train RMSE 0.0428, valid RMSE 0.0531\n",
      "Epoch 500: train RMSE 0.0425, valid RMSE 0.0530\n",
      "Epoch 600: train RMSE 0.0423, valid RMSE 0.0536\n",
      "Epoch 700: train RMSE 0.0421, valid RMSE 0.0540\n",
      "Epoch 800: train RMSE 0.0420, valid RMSE 0.0534\n",
      "Epoch 900: train RMSE 0.0419, valid RMSE 0.0532\n"
     ]
    }
   ],
   "source": [
    "model_o = RentalModel()\n",
    "model_o = model_o.to(device)\n",
    "optimizer = optim.Adam(model_o.parameters())\n",
    "loss_fn = nn.MSELoss()\n",
    "loader = data.DataLoader(data.TensorDataset(X_train_o, y_train_o), shuffle=True, batch_size=32)\n",
    " \n",
    "n_epochs = 1000\n",
    "\n",
    "train_losses = []\n",
    "valid_losses = []\n",
    "\n",
    "for epoch in range(n_epochs):\n",
    "    temp_train_losses = []\n",
    "    model_o.train()\n",
    "    for X_batch, y_batch in loader:\n",
    "        X_batch = X_batch.to(device)\n",
    "        y_batch = y_batch.to(device)\n",
    "        y_pred = model_o(X_batch)\n",
    "        loss = loss_fn(y_pred, y_batch)\n",
    "        temp_train_losses.append(np.sqrt(loss.detach().cpu().numpy()))\n",
    "        optimizer.zero_grad()\n",
    "        loss.backward()\n",
    "        optimizer.step()\n",
    "    train_rmse = np.mean(temp_train_losses)\n",
    "    train_losses.append(train_rmse)\n",
    "    \n",
    "    # Validation\n",
    "    model_o.eval()\n",
    "    with torch.no_grad():\n",
    "#         y_pred = model_o(X_train_o.to(device)).cpu()\n",
    "#         train_rmse = np.sqrt(loss_fn(y_pred, y_train_o))\n",
    "        y_pred = model_o(X_valid_o.to(device)).cpu()\n",
    "        valid_rmse = np.sqrt(loss_fn(y_pred, y_valid_o))\n",
    "        valid_losses.append(valid_rmse)\n",
    "        \n",
    "    if epoch % 100 != 0:\n",
    "        continue\n",
    "    print(\"Epoch %d: train RMSE %.4f, valid RMSE %.4f\" % (epoch, train_rmse, valid_rmse))"
   ]
  },
  {
   "cell_type": "code",
   "execution_count": 28,
   "id": "d58659f8",
   "metadata": {
    "execution": {
     "iopub.execute_input": "2024-08-25T09:47:07.250007Z",
     "iopub.status.busy": "2024-08-25T09:47:07.249116Z",
     "iopub.status.idle": "2024-08-25T09:47:07.492754Z",
     "shell.execute_reply": "2024-08-25T09:47:07.491921Z"
    },
    "papermill": {
     "duration": 0.260533,
     "end_time": "2024-08-25T09:47:07.494675",
     "exception": false,
     "start_time": "2024-08-25T09:47:07.234142",
     "status": "completed"
    },
    "tags": []
   },
   "outputs": [
    {
     "data": {
      "image/png": "[encoded data removed]",
      "text/plain": [
       "<Figure size 640x480 with 1 Axes>"
      ]
     },
     "metadata": {},
     "output_type": "display_data"
    }
   ],
   "source": [
    "plt.plot(np.arange(len(train_losses)), train_losses, label='train')\n",
    "plt.plot(np.arange(len(valid_losses)), train_losses, label='valid')\n",
    "plt.ylabel('Loss')\n",
    "plt.xlabel('Epoch')\n",
    "plt.legend()\n",
    "plt.show()"
   ]
  },
  {
   "cell_type": "code",
   "execution_count": 29,
   "id": "fce44443",
   "metadata": {
    "execution": {
     "iopub.execute_input": "2024-08-25T09:47:07.524608Z",
     "iopub.status.busy": "2024-08-25T09:47:07.524000Z",
     "iopub.status.idle": "2024-08-25T09:47:08.052396Z",
     "shell.execute_reply": "2024-08-25T09:47:08.051293Z"
    },
    "papermill": {
     "duration": 0.546176,
     "end_time": "2024-08-25T09:47:08.055084",
     "exception": false,
     "start_time": "2024-08-25T09:47:07.508908",
     "status": "completed"
    },
    "tags": []
   },
   "outputs": [
    {
     "data": {
      "image/png": "[encoded data removed]",
      "text/plain": [
       "<Figure size 640x480 with 1 Axes>"
      ]
     },
     "metadata": {},
     "output_type": "display_data"
    }
   ],
   "source": [
    "timeseries = pd.concat(\n",
    "        [\n",
    "            train_df_o[[\"Rental_Bicycles_Count\"]],\n",
    "            valid_df_o[[\"Rental_Bicycles_Count\"]],\n",
    "        ],\n",
    "        axis=0\n",
    "    ).values.astype('float32')\n",
    "\n",
    "with torch.no_grad():\n",
    "    # shift train predictions for plotting\n",
    "    train_plot = np.ones_like(timeseries) * np.nan\n",
    "    y_pred = model_o(X_train_o.to(device)).cpu()\n",
    "    y_pred = y_pred[:, -1, :]\n",
    "    train_plot[LOOKBACK:train_df_o.shape[0]] = model_o(X_train_o.to(device)).cpu()[:, -1, :]\n",
    "    # shift valid predictions for plotting\n",
    "    valid_plot = np.ones_like(timeseries) * np.nan\n",
    "    valid_plot[train_df_o.shape[0]+LOOKBACK:len(timeseries)] = model_o(X_valid_o.to(device)).cpu()[:, -1, :]\n",
    "\n",
    "    for i in range(LOOKBACK):\n",
    "        if i != 0:\n",
    "            temp_valid = np.zeros(LOOKBACK)\n",
    "            temp_valid[:LOOKBACK-i] = train_df_o.iloc[-(LOOKBACK-i):][\"Rental_Bicycles_Count\"].values\n",
    "            temp_valid[LOOKBACK-i:] = valid_plot[train_df_o.shape[0]:train_df_o.shape[0]+i].reshape(-1,)\n",
    "        else:\n",
    "            temp_valid = train_df_o.iloc[-(LOOKBACK-i):][\"Rental_Bicycles_Count\"].values\n",
    "        temp_valid = torch.as_tensor(temp_valid).view(1, -1, 1).float()\n",
    "        valid_plot[train_df_o.shape[0]+i] = model_o(temp_valid.to(device)).cpu()[:, -1, :]\n",
    "\n",
    "# plot\n",
    "plt.plot(timeseries, c='b')\n",
    "plt.plot(train_plot, c='r')\n",
    "plt.plot(valid_plot, c='g')\n",
    "plt.show()"
   ]
  },
  {
   "cell_type": "code",
   "execution_count": 30,
   "id": "f5b53860",
   "metadata": {
    "execution": {
     "iopub.execute_input": "2024-08-25T09:47:08.095550Z",
     "iopub.status.busy": "2024-08-25T09:47:08.095186Z",
     "iopub.status.idle": "2024-08-25T09:47:08.402513Z",
     "shell.execute_reply": "2024-08-25T09:47:08.401579Z"
    },
    "papermill": {
     "duration": 0.327327,
     "end_time": "2024-08-25T09:47:08.404426",
     "exception": false,
     "start_time": "2024-08-25T09:47:08.077099",
     "status": "completed"
    },
    "tags": []
   },
   "outputs": [
    {
     "name": "stdout",
     "output_type": "stream",
     "text": [
      "subscribed: Train RMSE: 229.05, Validation RMSE: 302.17\n"
     ]
    }
   ],
   "source": [
    "train_inv_ocaler_values_o = scaler_o.inverse_transform(train_plot[LOOKBACK:len(train_plot)-720])\n",
    "train_inv_bc_values_o = [invboxcox(x, lamdba=best_lambda_o)[0] for x in train_inv_ocaler_values_o]\n",
    "train_score = np.sqrt(\n",
    "    mean_squared_error(train_df_o.iloc[LOOKBACK:]['Rental_Bicycles_Count'], train_inv_bc_values_o)\n",
    ")\n",
    "\n",
    "valid_inv_scaler_values_o = scaler_o.inverse_transform(valid_plot[train_df_o.shape[0]:])\n",
    "valid_inv_bc_values_o = [invboxcox(x, lamdba=best_lambda_o)[0] for x in valid_inv_scaler_values_o]\n",
    "valid_score = np.sqrt(mean_squared_error(valid_df_o['Rental_Bicycles_Count'], valid_inv_bc_values_o))\n",
    "\n",
    "print(f\"subscribed: Train RMSE: {train_score:.2f}, Validation RMSE: {valid_score:.2f}\")"
   ]
  },
  {
   "cell_type": "code",
   "execution_count": 31,
   "id": "27e5b5c9",
   "metadata": {
    "execution": {
     "iopub.execute_input": "2024-08-25T09:47:08.436060Z",
     "iopub.status.busy": "2024-08-25T09:47:08.435764Z",
     "iopub.status.idle": "2024-08-25T09:47:08.785717Z",
     "shell.execute_reply": "2024-08-25T09:47:08.784577Z"
    },
    "papermill": {
     "duration": 0.368337,
     "end_time": "2024-08-25T09:47:08.788534",
     "exception": false,
     "start_time": "2024-08-25T09:47:08.420197",
     "status": "completed"
    },
    "tags": []
   },
   "outputs": [],
   "source": [
    "test_pred = np.zeros((720, 1))\n",
    "\n",
    "for i in range(LOOKBACK):\n",
    "    if i != 0:\n",
    "        temp_test = np.zeros(LOOKBACK)\n",
    "        temp_test[:LOOKBACK-i] = valid_df_o.iloc[-(LOOKBACK-i):][\"Rental_Bicycles_Count\"].values\n",
    "        temp_test[LOOKBACK-i:] = test_pred[:i].reshape(-1,)\n",
    "    else:\n",
    "        temp_test = valid_df_o.iloc[-(LOOKBACK-i):][\"Rental_Bicycles_Count\"].values\n",
    "    temp_test = torch.as_tensor(temp_test).view(1, -1, 1).float()\n",
    "    test_pred[i] = model_o(temp_test.to(device)).detach().cpu()[:, -1, :]\n",
    "    \n",
    "for i in range(LOOKBACK, test_pred.shape[0]):\n",
    "    temp_test = test_pred[i-LOOKBACK:i]\n",
    "    temp_test = torch.as_tensor(temp_test).view(1, -1, 1).float()\n",
    "    test_pred[i] = model_o(temp_test.to(device)).detach().cpu()[:, -1, :]\n",
    "    \n",
    "test_inv_scaler_values_o = scaler_o.inverse_transform(test_pred.reshape(-1, 1))\n",
    "test_inv_bc_values_o = [invboxcox(x, lamdba=best_lambda_o)[0] for x in test_inv_scaler_values_o]"
   ]
  },
  {
   "cell_type": "code",
   "execution_count": 32,
   "id": "c7172e6c",
   "metadata": {
    "execution": {
     "iopub.execute_input": "2024-08-25T09:47:08.825329Z",
     "iopub.status.busy": "2024-08-25T09:47:08.824960Z",
     "iopub.status.idle": "2024-08-25T09:47:08.839084Z",
     "shell.execute_reply": "2024-08-25T09:47:08.837964Z"
    },
    "papermill": {
     "duration": 0.035466,
     "end_time": "2024-08-25T09:47:08.841695",
     "exception": false,
     "start_time": "2024-08-25T09:47:08.806229",
     "status": "completed"
    },
    "tags": []
   },
   "outputs": [
    {
     "data": {
      "text/html": [
       "<div>\n",
       "<style scoped>\n",
       "    .dataframe tbody tr th:only-of-type {\n",
       "        vertical-align: middle;\n",
       "    }\n",
       "\n",
       "    .dataframe tbody tr th {\n",
       "        vertical-align: top;\n",
       "    }\n",
       "\n",
       "    .dataframe thead th {\n",
       "        text-align: right;\n",
       "    }\n",
       "</style>\n",
       "<table border=\"1\" class=\"dataframe\">\n",
       "  <thead>\n",
       "    <tr style=\"text-align: right;\">\n",
       "      <th></th>\n",
       "      <th>index</th>\n",
       "      <th>Rental_Bicycles_Count</th>\n",
       "    </tr>\n",
       "  </thead>\n",
       "  <tbody>\n",
       "    <tr>\n",
       "      <th>0</th>\n",
       "      <td>0</td>\n",
       "      <td>243.696121</td>\n",
       "    </tr>\n",
       "    <tr>\n",
       "      <th>1</th>\n",
       "      <td>2</td>\n",
       "      <td>187.757283</td>\n",
       "    </tr>\n",
       "    <tr>\n",
       "      <th>2</th>\n",
       "      <td>4</td>\n",
       "      <td>148.202571</td>\n",
       "    </tr>\n",
       "    <tr>\n",
       "      <th>3</th>\n",
       "      <td>6</td>\n",
       "      <td>81.370361</td>\n",
       "    </tr>\n",
       "    <tr>\n",
       "      <th>4</th>\n",
       "      <td>8</td>\n",
       "      <td>31.040644</td>\n",
       "    </tr>\n",
       "  </tbody>\n",
       "</table>\n",
       "</div>"
      ],
      "text/plain": [
       "   index  Rental_Bicycles_Count\n",
       "0      0             243.696121\n",
       "1      2             187.757283\n",
       "2      4             148.202571\n",
       "3      6              81.370361\n",
       "4      8              31.040644"
      ]
     },
     "execution_count": 32,
     "metadata": {},
     "output_type": "execute_result"
    }
   ],
   "source": [
    "X_test_o = pd.DataFrame()\n",
    "X_test_o['index'] = test_df_o['index']\n",
    "X_test_o['Rental_Bicycles_Count'] = test_inv_bc_values_o\n",
    "X_test_o.head()"
   ]
  },
  {
   "cell_type": "code",
   "execution_count": 33,
   "id": "465c65a2",
   "metadata": {
    "execution": {
     "iopub.execute_input": "2024-08-25T09:47:08.879952Z",
     "iopub.status.busy": "2024-08-25T09:47:08.879632Z",
     "iopub.status.idle": "2024-08-25T09:47:08.901671Z",
     "shell.execute_reply": "2024-08-25T09:47:08.900635Z"
    },
    "papermill": {
     "duration": 0.042866,
     "end_time": "2024-08-25T09:47:08.903829",
     "exception": false,
     "start_time": "2024-08-25T09:47:08.860963",
     "status": "completed"
    },
    "tags": []
   },
   "outputs": [
    {
     "data": {
      "text/html": [
       "<div>\n",
       "<style scoped>\n",
       "    .dataframe tbody tr th:only-of-type {\n",
       "        vertical-align: middle;\n",
       "    }\n",
       "\n",
       "    .dataframe tbody tr th {\n",
       "        vertical-align: top;\n",
       "    }\n",
       "\n",
       "    .dataframe thead th {\n",
       "        text-align: right;\n",
       "    }\n",
       "</style>\n",
       "<table border=\"1\" class=\"dataframe\">\n",
       "  <thead>\n",
       "    <tr style=\"text-align: right;\">\n",
       "      <th></th>\n",
       "      <th>Rental_Bicycles_Count</th>\n",
       "    </tr>\n",
       "  </thead>\n",
       "  <tbody>\n",
       "    <tr>\n",
       "      <th>0</th>\n",
       "      <td>243.696121</td>\n",
       "    </tr>\n",
       "    <tr>\n",
       "      <th>1</th>\n",
       "      <td>325.448720</td>\n",
       "    </tr>\n",
       "    <tr>\n",
       "      <th>2</th>\n",
       "      <td>187.757283</td>\n",
       "    </tr>\n",
       "    <tr>\n",
       "      <th>3</th>\n",
       "      <td>185.430819</td>\n",
       "    </tr>\n",
       "    <tr>\n",
       "      <th>4</th>\n",
       "      <td>148.202571</td>\n",
       "    </tr>\n",
       "  </tbody>\n",
       "</table>\n",
       "</div>"
      ],
      "text/plain": [
       "   Rental_Bicycles_Count\n",
       "0             243.696121\n",
       "1             325.448720\n",
       "2             187.757283\n",
       "3             185.430819\n",
       "4             148.202571"
      ]
     },
     "execution_count": 33,
     "metadata": {},
     "output_type": "execute_result"
    }
   ],
   "source": [
    "test_pred = pd.concat(\n",
    "    [\n",
    "        X_test_s[['index', 'Rental_Bicycles_Count']], \n",
    "        X_test_o[['index', 'Rental_Bicycles_Count']]\n",
    "    ]\n",
    ").sort_values('index', ascending=True).set_index('index')\n",
    "\n",
    "sub_df['Rental_Bicycles_Count'] = test_pred['Rental_Bicycles_Count']\n",
    "sub_df.to_csv('solution6_submit.csv', index=False)\n",
    "sub_df.head()"
   ]
  },
  {
   "cell_type": "code",
   "execution_count": 34,
   "id": "8e39ac1c",
   "metadata": {
    "execution": {
     "iopub.execute_input": "2024-08-25T09:47:08.940927Z",
     "iopub.status.busy": "2024-08-25T09:47:08.940591Z",
     "iopub.status.idle": "2024-08-25T09:47:08.954719Z",
     "shell.execute_reply": "2024-08-25T09:47:08.953761Z"
    },
    "papermill": {
     "duration": 0.035042,
     "end_time": "2024-08-25T09:47:08.956816",
     "exception": false,
     "start_time": "2024-08-25T09:47:08.921774",
     "status": "completed"
    },
    "tags": []
   },
   "outputs": [
    {
     "data": {
      "text/html": [
       "<div>\n",
       "<style scoped>\n",
       "    .dataframe tbody tr th:only-of-type {\n",
       "        vertical-align: middle;\n",
       "    }\n",
       "\n",
       "    .dataframe tbody tr th {\n",
       "        vertical-align: top;\n",
       "    }\n",
       "\n",
       "    .dataframe thead th {\n",
       "        text-align: right;\n",
       "    }\n",
       "</style>\n",
       "<table border=\"1\" class=\"dataframe\">\n",
       "  <thead>\n",
       "    <tr style=\"text-align: right;\">\n",
       "      <th></th>\n",
       "      <th>Rental_Bicycles_Count</th>\n",
       "    </tr>\n",
       "  </thead>\n",
       "  <tbody>\n",
       "    <tr>\n",
       "      <th>0</th>\n",
       "      <td>244</td>\n",
       "    </tr>\n",
       "    <tr>\n",
       "      <th>1</th>\n",
       "      <td>325</td>\n",
       "    </tr>\n",
       "    <tr>\n",
       "      <th>2</th>\n",
       "      <td>188</td>\n",
       "    </tr>\n",
       "    <tr>\n",
       "      <th>3</th>\n",
       "      <td>185</td>\n",
       "    </tr>\n",
       "    <tr>\n",
       "      <th>4</th>\n",
       "      <td>148</td>\n",
       "    </tr>\n",
       "  </tbody>\n",
       "</table>\n",
       "</div>"
      ],
      "text/plain": [
       "   Rental_Bicycles_Count\n",
       "0                    244\n",
       "1                    325\n",
       "2                    188\n",
       "3                    185\n",
       "4                    148"
      ]
     },
     "execution_count": 34,
     "metadata": {},
     "output_type": "execute_result"
    }
   ],
   "source": [
    "sub_df['Rental_Bicycles_Count'] = test_pred['Rental_Bicycles_Count'].apply(lambda x: round(x))\n",
    "sub_df.to_csv('rounded_solution6_submit.csv', index=False)\n",
    "sub_df.head()"
   ]
  },
  {
   "cell_type": "code",
   "execution_count": null,
   "id": "10f6d231",
   "metadata": {
    "papermill": {
     "duration": 0.015991,
     "end_time": "2024-08-25T09:47:08.990536",
     "exception": false,
     "start_time": "2024-08-25T09:47:08.974545",
     "status": "completed"
    },
    "tags": []
   },
   "outputs": [],
   "source": []
  }
 ],
 "metadata": {
  "kaggle": {
   "accelerator": "nvidiaTeslaT4",
   "dataSources": [
    {
     "datasetId": 5589484,
     "sourceId": 9240329,
     "sourceType": "datasetVersion"
    }
   ],
   "dockerImageVersionId": 30762,
   "isGpuEnabled": true,
   "isInternetEnabled": true,
   "language": "python",
   "sourceType": "notebook"
  },
  "kernelspec": {
   "display_name": "Python 3",
   "language": "python",
   "name": "python3"
  },
  "language_info": {
   "codemirror_mode": {
    "name": "ipython",
    "version": 3
   },
   "file_extension": ".py",
   "mimetype": "text/x-python",
   "name": "python",
   "nbconvert_exporter": "python",
   "pygments_lexer": "ipython3",
   "version": "3.10.14"
  },
  "papermill": {
   "default_parameters": {},
   "duration": 4789.662191,
   "end_time": "2024-08-25T09:47:10.429095",
   "environment_variables": {},
   "exception": null,
   "input_path": "__notebook__.ipynb",
   "output_path": "__notebook__.ipynb",
   "parameters": {},
   "start_time": "2024-08-25T08:27:20.766904",
   "version": "2.6.0"
  }
 },
 "nbformat": 4,
 "nbformat_minor": 5
}
