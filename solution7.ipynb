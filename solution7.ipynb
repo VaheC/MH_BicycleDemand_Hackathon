{
 "cells": [
  {
   "cell_type": "markdown",
   "id": "001363ef",
   "metadata": {
    "papermill": {
     "duration": 0.011082,
     "end_time": "2024-08-25T11:24:47.246704",
     "exception": false,
     "start_time": "2024-08-25T11:24:47.235622",
     "status": "completed"
    },
    "tags": []
   },
   "source": []
  },
  {
   "cell_type": "code",
   "execution_count": 1,
   "id": "9cb1c85c",
   "metadata": {
    "execution": {
     "iopub.execute_input": "2024-08-25T11:24:47.268352Z",
     "iopub.status.busy": "2024-08-25T11:24:47.268004Z",
     "iopub.status.idle": "2024-08-25T11:24:51.791015Z",
     "shell.execute_reply": "2024-08-25T11:24:51.790155Z"
    },
    "papermill": {
     "duration": 4.536653,
     "end_time": "2024-08-25T11:24:51.793324",
     "exception": false,
     "start_time": "2024-08-25T11:24:47.256671",
     "status": "completed"
    },
    "tags": []
   },
   "outputs": [],
   "source": [
    "import matplotlib.pyplot as plt\n",
    "\n",
    "import numpy as np\n",
    "import pandas as pd\n",
    "\n",
    "from collections import defaultdict\n",
    "\n",
    "from scipy.stats import boxcox\n",
    "\n",
    "import torch\n",
    "import torch.nn as nn\n",
    "import torch.optim as optim\n",
    "import torch.utils.data as data\n",
    "\n",
    "from sklearn.preprocessing import StandardScaler, MinMaxScaler, RobustScaler\n",
    "from sklearn.metrics import mean_squared_error"
   ]
  },
  {
   "cell_type": "code",
   "execution_count": 2,
   "id": "73834014",
   "metadata": {
    "execution": {
     "iopub.execute_input": "2024-08-25T11:24:51.815031Z",
     "iopub.status.busy": "2024-08-25T11:24:51.814533Z",
     "iopub.status.idle": "2024-08-25T11:25:03.236119Z",
     "shell.execute_reply": "2024-08-25T11:25:03.235173Z"
    },
    "papermill": {
     "duration": 11.435041,
     "end_time": "2024-08-25T11:25:03.238571",
     "exception": false,
     "start_time": "2024-08-25T11:24:51.803530",
     "status": "completed"
    },
    "tags": []
   },
   "outputs": [],
   "source": [
    "train_df = pd.read_excel('/kaggle/input/mh-rental-bicycle/Train.xlsx')\n",
    "test_df = pd.read_excel('/kaggle/input/mh-rental-bicycle/Test.xlsx')\n",
    "sub_df = pd.read_csv('/kaggle/input/mh-rental-bicycle/Submission.csv')"
   ]
  },
  {
   "cell_type": "code",
   "execution_count": 3,
   "id": "4218e260",
   "metadata": {
    "execution": {
     "iopub.execute_input": "2024-08-25T11:25:03.260827Z",
     "iopub.status.busy": "2024-08-25T11:25:03.260441Z",
     "iopub.status.idle": "2024-08-25T11:26:18.813160Z",
     "shell.execute_reply": "2024-08-25T11:26:18.812232Z"
    },
    "papermill": {
     "duration": 75.575498,
     "end_time": "2024-08-25T11:26:18.824797",
     "exception": false,
     "start_time": "2024-08-25T11:25:03.249299",
     "status": "completed"
    },
    "tags": []
   },
   "outputs": [
    {
     "name": "stdout",
     "output_type": "stream",
     "text": [
      "occasional: 97 missing dates\n",
      "subscribed: 50 missing dates\n"
     ]
    }
   ],
   "source": [
    "train_full_dates = pd.date_range(start='2013-01-01', end='2016-06-01', freq='60min')[:-1]\n",
    "\n",
    "missing_dates_dict = {}\n",
    "for user_type in train_df['User_type'].unique():\n",
    "    train_date = train_df[train_df['User_type']==user_type]['Datetime'].tolist()\n",
    "    missing_dates = [i for i in train_full_dates if i not in train_date]\n",
    "    missing_dates_dict[user_type] = missing_dates\n",
    "    print(f\"{user_type}: {len(missing_dates)} missing dates\")"
   ]
  },
  {
   "cell_type": "code",
   "execution_count": 4,
   "id": "e7ee03f9",
   "metadata": {
    "execution": {
     "iopub.execute_input": "2024-08-25T11:26:18.845456Z",
     "iopub.status.busy": "2024-08-25T11:26:18.845153Z",
     "iopub.status.idle": "2024-08-25T11:26:18.883505Z",
     "shell.execute_reply": "2024-08-25T11:26:18.882486Z"
    },
    "papermill": {
     "duration": 0.050963,
     "end_time": "2024-08-25T11:26:18.885464",
     "exception": false,
     "start_time": "2024-08-25T11:26:18.834501",
     "status": "completed"
    },
    "tags": []
   },
   "outputs": [
    {
     "name": "stdout",
     "output_type": "stream",
     "text": [
      "(29878, 7) (29831, 7)\n"
     ]
    }
   ],
   "source": [
    "train_df.drop(columns='Unnamed: 0', inplace=True)\n",
    "\n",
    "train_df_s = train_df[train_df['User_type']=='subscribed'].reset_index(drop=True)\n",
    "train_df_s.sort_values('Datetime', ascending=True, inplace=True)\n",
    "train_df_o = train_df[train_df['User_type']=='occasional'].reset_index(drop=True)\n",
    "train_df_o.sort_values('Datetime', ascending=True, inplace=True)\n",
    "\n",
    "print(train_df_s.shape, train_df_o.shape)"
   ]
  },
  {
   "cell_type": "code",
   "execution_count": 5,
   "id": "acc0e67b",
   "metadata": {
    "execution": {
     "iopub.execute_input": "2024-08-25T11:26:18.906478Z",
     "iopub.status.busy": "2024-08-25T11:26:18.906191Z",
     "iopub.status.idle": "2024-08-25T11:26:18.915738Z",
     "shell.execute_reply": "2024-08-25T11:26:18.914668Z"
    },
    "papermill": {
     "duration": 0.022047,
     "end_time": "2024-08-25T11:26:18.917606",
     "exception": false,
     "start_time": "2024-08-25T11:26:18.895559",
     "status": "completed"
    },
    "tags": []
   },
   "outputs": [
    {
     "name": "stdout",
     "output_type": "stream",
     "text": [
      "(720, 7) (720, 7)\n"
     ]
    }
   ],
   "source": [
    "test_df.rename(\n",
    "    columns={'Unnamed: 0': 'index'},\n",
    "    inplace=True\n",
    ")\n",
    "\n",
    "test_df_s = test_df[test_df['User_type']=='subscribed'].reset_index(drop=True)\n",
    "test_df_s.sort_values('Datetime', ascending=True, inplace=True)\n",
    "test_df_o = test_df[test_df['User_type']=='occasional'].reset_index(drop=True)\n",
    "test_df_o.sort_values('Datetime', ascending=True, inplace=True)\n",
    "\n",
    "print(test_df_s.shape, test_df_o.shape)"
   ]
  },
  {
   "cell_type": "code",
   "execution_count": 6,
   "id": "bcbc05f2",
   "metadata": {
    "execution": {
     "iopub.execute_input": "2024-08-25T11:26:18.938556Z",
     "iopub.status.busy": "2024-08-25T11:26:18.938273Z",
     "iopub.status.idle": "2024-08-25T11:26:18.944451Z",
     "shell.execute_reply": "2024-08-25T11:26:18.943523Z"
    },
    "papermill": {
     "duration": 0.018899,
     "end_time": "2024-08-25T11:26:18.946433",
     "exception": false,
     "start_time": "2024-08-25T11:26:18.927534",
     "status": "completed"
    },
    "tags": []
   },
   "outputs": [
    {
     "name": "stdout",
     "output_type": "stream",
     "text": [
      "(720, 7) (29158, 7)\n",
      "(720, 7) (29111, 7)\n"
     ]
    }
   ],
   "source": [
    "valid_df_s = train_df_s.iloc[-720:]\n",
    "train_df_s = train_df_s.iloc[:-720]\n",
    "print(valid_df_s.shape, train_df_s.shape)\n",
    "\n",
    "valid_df_o = train_df_o.iloc[-720:]\n",
    "train_df_o = train_df_o.iloc[:-720]\n",
    "print(valid_df_o.shape, train_df_o.shape)"
   ]
  },
  {
   "cell_type": "code",
   "execution_count": 7,
   "id": "86379d89",
   "metadata": {
    "execution": {
     "iopub.execute_input": "2024-08-25T11:26:18.967758Z",
     "iopub.status.busy": "2024-08-25T11:26:18.967193Z",
     "iopub.status.idle": "2024-08-25T11:26:19.168434Z",
     "shell.execute_reply": "2024-08-25T11:26:19.167168Z"
    },
    "papermill": {
     "duration": 0.214293,
     "end_time": "2024-08-25T11:26:19.170670",
     "exception": false,
     "start_time": "2024-08-25T11:26:18.956377",
     "status": "completed"
    },
    "tags": []
   },
   "outputs": [
    {
     "name": "stdout",
     "output_type": "stream",
     "text": [
      "(720, 7) (29208, 7)\n",
      "(720, 7) (29208, 7)\n"
     ]
    }
   ],
   "source": [
    "for user_type in train_df['User_type'].unique():\n",
    "\n",
    "    if user_type == 'occasional':\n",
    "        temp_train_df = train_df_o.copy()\n",
    "    else:\n",
    "        temp_train_df = train_df_s.copy()\n",
    "\n",
    "    train_dict = defaultdict(list)\n",
    "    valid_dict = defaultdict(list)\n",
    "\n",
    "    for missing_date in missing_dates_dict[user_type]:\n",
    "\n",
    "        if missing_date < valid_df_s.iloc[0]['Datetime']:\n",
    "            train_dict['Datetime'].append(missing_date)\n",
    "            train_dict['St_Hour'].append(missing_date.hour)\n",
    "            train_dict['St_Day'].append(missing_date.day)\n",
    "            train_dict['St_Month'].append(missing_date.month)\n",
    "            train_dict['St_Year'].append(missing_date.year)\n",
    "#             train_dict['dayofweek'].append(missing_date.dayofweek)\n",
    "#             train_dict['weekofyear'].append(missing_date.isocalendar()[1])\n",
    "#             train_dict['dayofyear'].append(missing_date.dayofyear)\n",
    "            train_dict['User_type'].append(user_type)\n",
    "            temp_df = temp_train_df[\n",
    "                (temp_train_df['Datetime']<missing_date) & \n",
    "                (temp_train_df['St_Hour']==missing_date.hour)\n",
    "            ]\n",
    "            train_dict['Rental_Bicycles_Count'] = temp_df['Rental_Bicycles_Count'].median()\n",
    "        else:\n",
    "            valid_dict['Datetime'].append(missing_date)\n",
    "            valid_dict['St_Hour'].append(missing_date.hour)\n",
    "            valid_dict['St_Day'].append(missing_date.day)\n",
    "            valid_dict['St_Month'].append(missing_date.month)\n",
    "            valid_dict['St_Year'].append(missing_date.year)\n",
    "#             valid_dict['dayofweek'].append(missing_date.dayofweek)\n",
    "#             valid_dict['weekofyear'].append(missing_date.isocalendar()[1])\n",
    "#             valid_dict['dayofyear'].append(missing_date.dayofyear)\n",
    "            valid_dict['User_type'].append(user_type)\n",
    "            valid_dict['Rental_Bicycles_Count'] = temp_train_df[temp_train_df['St_Hour']==missing_date.hour]['Rental_Bicycles_Count'].median()\n",
    "\n",
    "    if user_type == 'occasional':\n",
    "        temp_train_df_o = pd.DataFrame(train_dict)\n",
    "        temp_train_df_o = temp_train_df_o[train_df_o.columns]\n",
    "        train_df_o = pd.concat([train_df_o, temp_train_df_o], axis=0).reset_index(drop=True)\n",
    "        train_df_o.sort_values('Datetime', ascending=True, inplace=True)\n",
    "\n",
    "        if len(valid_dict) != 0:\n",
    "            temp_valid_df_o = pd.DataFrame(valid_dict)\n",
    "            temp_valid_df_o = temp_valid_df_o[valid_df_o.columns]\n",
    "            valid_df_o = pd.concat([valid_df_o, temp_valid_df_o], axis=0).reset_index(drop=True)\n",
    "            valid_df_o.sort_values('Datetime', ascending=True, inplace=True)\n",
    "    else:\n",
    "        temp_train_df_s = pd.DataFrame(train_dict)\n",
    "        temp_train_df_s = temp_train_df_s[train_df_s.columns]\n",
    "        train_df_s = pd.concat([train_df_s, temp_train_df_s], axis=0).reset_index(drop=True)\n",
    "        train_df_s.sort_values('Datetime', ascending=True, inplace=True)\n",
    "\n",
    "        if len(valid_dict) != 0:\n",
    "            temp_valid_df_s = pd.DataFrame(valid_dict)\n",
    "            temp_valid_df_s = temp_valid_df_s[valid_df_s.columns]\n",
    "            valid_df_s = pd.concat([valid_df_s, temp_valid_df_s], axis=0).reset_index(drop=True)\n",
    "            valid_df_s.sort_values('Datetime', ascending=True, inplace=True)\n",
    "\n",
    "print(valid_df_s.shape, train_df_s.shape)\n",
    "print(valid_df_o.shape, train_df_o.shape)"
   ]
  },
  {
   "cell_type": "code",
   "execution_count": 8,
   "id": "be717ad4",
   "metadata": {
    "execution": {
     "iopub.execute_input": "2024-08-25T11:26:19.193282Z",
     "iopub.status.busy": "2024-08-25T11:26:19.192637Z",
     "iopub.status.idle": "2024-08-25T11:26:19.552162Z",
     "shell.execute_reply": "2024-08-25T11:26:19.551281Z"
    },
    "papermill": {
     "duration": 0.372966,
     "end_time": "2024-08-25T11:26:19.554296",
     "exception": false,
     "start_time": "2024-08-25T11:26:19.181330",
     "status": "completed"
    },
    "tags": []
   },
   "outputs": [
    {
     "data": {
      "image/png": "[encoded data removed]",
      "text/plain": [
       "<Figure size 640x480 with 1 Axes>"
      ]
     },
     "metadata": {},
     "output_type": "display_data"
    }
   ],
   "source": [
    "transformed_data_s, best_lambda_s = boxcox(train_df_s['Rental_Bicycles_Count']) \n",
    "train_df_s['Rental_Bicycles_Count'] = transformed_data_s\n",
    "\n",
    "plt.hist(train_df_s['Rental_Bicycles_Count'], bins=20);"
   ]
  },
  {
   "cell_type": "code",
   "execution_count": 9,
   "id": "ae843168",
   "metadata": {
    "execution": {
     "iopub.execute_input": "2024-08-25T11:26:19.576416Z",
     "iopub.status.busy": "2024-08-25T11:26:19.576101Z",
     "iopub.status.idle": "2024-08-25T11:26:19.979306Z",
     "shell.execute_reply": "2024-08-25T11:26:19.978295Z"
    },
    "papermill": {
     "duration": 0.416352,
     "end_time": "2024-08-25T11:26:19.981310",
     "exception": false,
     "start_time": "2024-08-25T11:26:19.564958",
     "status": "completed"
    },
    "tags": []
   },
   "outputs": [
    {
     "data": {
      "image/png": "[encoded data removed]",
      "text/plain": [
       "<Figure size 640x480 with 1 Axes>"
      ]
     },
     "metadata": {},
     "output_type": "display_data"
    }
   ],
   "source": [
    "transformed_data_o, best_lambda_o = boxcox(train_df_o['Rental_Bicycles_Count']) \n",
    "train_df_o['Rental_Bicycles_Count'] = transformed_data_o\n",
    "\n",
    "plt.hist(transformed_data_o, bins=20);"
   ]
  },
  {
   "cell_type": "code",
   "execution_count": 10,
   "id": "febdf558",
   "metadata": {
    "execution": {
     "iopub.execute_input": "2024-08-25T11:26:20.005163Z",
     "iopub.status.busy": "2024-08-25T11:26:20.004756Z",
     "iopub.status.idle": "2024-08-25T11:26:20.010719Z",
     "shell.execute_reply": "2024-08-25T11:26:20.009850Z"
    },
    "papermill": {
     "duration": 0.019798,
     "end_time": "2024-08-25T11:26:20.012682",
     "exception": false,
     "start_time": "2024-08-25T11:26:19.992884",
     "status": "completed"
    },
    "tags": []
   },
   "outputs": [],
   "source": [
    "def apply_box_cox_transform(x, lamdba):\n",
    "    if lamdba != 0:\n",
    "        x_tf = (x**lamdba - 1) / lamdba\n",
    "    else:\n",
    "        x_tf = np.log(x)\n",
    "        \n",
    "    return x_tf\n",
    "\n",
    "def invboxcox(x, lamdba):\n",
    "    if lamdba == 0:\n",
    "        reversed_x = np.exp(x)\n",
    "    else:\n",
    "        reversed_x = np.exp(np.log(lamdba*x+1)/lamdba)\n",
    "    return reversed_x"
   ]
  },
  {
   "cell_type": "code",
   "execution_count": 11,
   "id": "5ff7f0e1",
   "metadata": {
    "execution": {
     "iopub.execute_input": "2024-08-25T11:26:20.035259Z",
     "iopub.status.busy": "2024-08-25T11:26:20.034960Z",
     "iopub.status.idle": "2024-08-25T11:26:20.043114Z",
     "shell.execute_reply": "2024-08-25T11:26:20.042277Z"
    },
    "papermill": {
     "duration": 0.021577,
     "end_time": "2024-08-25T11:26:20.045050",
     "exception": false,
     "start_time": "2024-08-25T11:26:20.023473",
     "status": "completed"
    },
    "tags": []
   },
   "outputs": [],
   "source": [
    "valid_df_s['Rental_Bicycles_Count'] = valid_df_s['Rental_Bicycles_Count'].\\\n",
    "    apply(lambda x: apply_box_cox_transform(x, lamdba=best_lambda_s))\n",
    "\n",
    "valid_df_o['Rental_Bicycles_Count'] = valid_df_o['Rental_Bicycles_Count'].\\\n",
    "    apply(lambda x: apply_box_cox_transform(x, lamdba=best_lambda_o))"
   ]
  },
  {
   "cell_type": "code",
   "execution_count": 12,
   "id": "9ce68a82",
   "metadata": {
    "execution": {
     "iopub.execute_input": "2024-08-25T11:26:20.067847Z",
     "iopub.status.busy": "2024-08-25T11:26:20.067529Z",
     "iopub.status.idle": "2024-08-25T11:26:20.081080Z",
     "shell.execute_reply": "2024-08-25T11:26:20.080430Z"
    },
    "papermill": {
     "duration": 0.027369,
     "end_time": "2024-08-25T11:26:20.082985",
     "exception": false,
     "start_time": "2024-08-25T11:26:20.055616",
     "status": "completed"
    },
    "tags": []
   },
   "outputs": [],
   "source": [
    "scaler_s = MinMaxScaler()\n",
    "\n",
    "train_df_s['Rental_Bicycles_Count'] = scaler_s.fit_transform(train_df_s['Rental_Bicycles_Count'].to_frame())\n",
    "valid_df_s['Rental_Bicycles_Count'] = scaler_s.transform(valid_df_s['Rental_Bicycles_Count'].to_frame())\n",
    "\n",
    "scaler_o = MinMaxScaler()\n",
    "\n",
    "train_df_o['Rental_Bicycles_Count'] = scaler_o.fit_transform(train_df_o['Rental_Bicycles_Count'].to_frame())\n",
    "valid_df_o['Rental_Bicycles_Count'] = scaler_o.transform(valid_df_o['Rental_Bicycles_Count'].to_frame())"
   ]
  },
  {
   "cell_type": "code",
   "execution_count": 13,
   "id": "84703aca",
   "metadata": {
    "execution": {
     "iopub.execute_input": "2024-08-25T11:26:20.105022Z",
     "iopub.status.busy": "2024-08-25T11:26:20.104616Z",
     "iopub.status.idle": "2024-08-25T11:26:20.111566Z",
     "shell.execute_reply": "2024-08-25T11:26:20.110482Z"
    },
    "papermill": {
     "duration": 0.020031,
     "end_time": "2024-08-25T11:26:20.113430",
     "exception": false,
     "start_time": "2024-08-25T11:26:20.093399",
     "status": "completed"
    },
    "tags": []
   },
   "outputs": [
    {
     "name": "stdout",
     "output_type": "stream",
     "text": [
      "(29208,) (29208,)\n",
      "(720,) (720,)\n"
     ]
    }
   ],
   "source": [
    "train_ts_s = train_df_s['Rental_Bicycles_Count'].values.astype('float32')\n",
    "train_ts_o = train_df_o['Rental_Bicycles_Count'].values.astype('float32')\n",
    "\n",
    "valid_ts_s = valid_df_s['Rental_Bicycles_Count'].values.astype('float32')\n",
    "valid_ts_o = valid_df_o['Rental_Bicycles_Count'].values.astype('float32')\n",
    "\n",
    "print(train_ts_s.shape, train_ts_o.shape)\n",
    "print(valid_ts_s.shape, valid_ts_o.shape)"
   ]
  },
  {
   "cell_type": "code",
   "execution_count": 14,
   "id": "c72d73e8",
   "metadata": {
    "execution": {
     "iopub.execute_input": "2024-08-25T11:26:20.135828Z",
     "iopub.status.busy": "2024-08-25T11:26:20.135551Z",
     "iopub.status.idle": "2024-08-25T11:26:20.395421Z",
     "shell.execute_reply": "2024-08-25T11:26:20.394521Z"
    },
    "papermill": {
     "duration": 0.273369,
     "end_time": "2024-08-25T11:26:20.397552",
     "exception": false,
     "start_time": "2024-08-25T11:26:20.124183",
     "status": "completed"
    },
    "tags": []
   },
   "outputs": [
    {
     "data": {
      "image/png": "[encoded data removed]",
      "text/plain": [
       "<Figure size 640x480 with 1 Axes>"
      ]
     },
     "metadata": {},
     "output_type": "display_data"
    }
   ],
   "source": [
    "plt.hist(train_ts_s);"
   ]
  },
  {
   "cell_type": "code",
   "execution_count": 15,
   "id": "809c6974",
   "metadata": {
    "execution": {
     "iopub.execute_input": "2024-08-25T11:26:20.421024Z",
     "iopub.status.busy": "2024-08-25T11:26:20.420649Z",
     "iopub.status.idle": "2024-08-25T11:26:20.668105Z",
     "shell.execute_reply": "2024-08-25T11:26:20.667186Z"
    },
    "papermill": {
     "duration": 0.261475,
     "end_time": "2024-08-25T11:26:20.670310",
     "exception": false,
     "start_time": "2024-08-25T11:26:20.408835",
     "status": "completed"
    },
    "tags": []
   },
   "outputs": [
    {
     "data": {
      "image/png": "[encoded data removed]",
      "text/plain": [
       "<Figure size 640x480 with 1 Axes>"
      ]
     },
     "metadata": {},
     "output_type": "display_data"
    }
   ],
   "source": [
    "plt.hist(train_ts_o);"
   ]
  },
  {
   "cell_type": "code",
   "execution_count": 16,
   "id": "58575f6e",
   "metadata": {
    "execution": {
     "iopub.execute_input": "2024-08-25T11:26:20.695176Z",
     "iopub.status.busy": "2024-08-25T11:26:20.694810Z",
     "iopub.status.idle": "2024-08-25T11:26:20.701192Z",
     "shell.execute_reply": "2024-08-25T11:26:20.700349Z"
    },
    "papermill": {
     "duration": 0.020918,
     "end_time": "2024-08-25T11:26:20.703038",
     "exception": false,
     "start_time": "2024-08-25T11:26:20.682120",
     "status": "completed"
    },
    "tags": []
   },
   "outputs": [],
   "source": [
    "def create_dataset(dataset, lookback):\n",
    "    \"\"\"Transform a time series into a prediction dataset\n",
    "    \n",
    "    Args:\n",
    "        dataset: A numpy array of time series, first dimension is the time steps\n",
    "        lookback: Size of window for prediction\n",
    "    \"\"\"\n",
    "    X, y = [], []\n",
    "    for i in range(len(dataset)-lookback):\n",
    "        feature = dataset[i:i+lookback]\n",
    "        target = dataset[i+1:i+lookback+1]\n",
    "        X.append(feature)\n",
    "        y.append(target)\n",
    "    return torch.tensor(X).unsqueeze(2), torch.tensor(y).unsqueeze(2)"
   ]
  },
  {
   "cell_type": "code",
   "execution_count": 17,
   "id": "0e4abef7",
   "metadata": {
    "execution": {
     "iopub.execute_input": "2024-08-25T11:26:20.726394Z",
     "iopub.status.busy": "2024-08-25T11:26:20.726112Z",
     "iopub.status.idle": "2024-08-25T11:26:21.762023Z",
     "shell.execute_reply": "2024-08-25T11:26:21.760945Z"
    },
    "papermill": {
     "duration": 1.05018,
     "end_time": "2024-08-25T11:26:21.764427",
     "exception": false,
     "start_time": "2024-08-25T11:26:20.714247",
     "status": "completed"
    },
    "tags": []
   },
   "outputs": [
    {
     "name": "stderr",
     "output_type": "stream",
     "text": [
      "/tmp/ipykernel_24/1171032600.py:14: UserWarning: Creating a tensor from a list of numpy.ndarrays is extremely slow. Please consider converting the list to a single numpy.ndarray with numpy.array() before converting to a tensor. (Triggered internally at /usr/local/src/pytorch/torch/csrc/utils/tensor_new.cpp:278.)\n",
      "  return torch.tensor(X).unsqueeze(2), torch.tensor(y).unsqueeze(2)\n"
     ]
    },
    {
     "name": "stdout",
     "output_type": "stream",
     "text": [
      "torch.Size([29184, 24, 1]) torch.Size([29184, 24, 1])\n",
      "torch.Size([696, 24, 1]) torch.Size([696, 24, 1])\n",
      "torch.Size([29184, 24, 1]) torch.Size([29184, 24, 1])\n",
      "torch.Size([696, 24, 1]) torch.Size([696, 24, 1])\n"
     ]
    }
   ],
   "source": [
    "LOOKBACK = 24\n",
    "\n",
    "X_train_s, y_train_s = create_dataset(train_ts_s, lookback=LOOKBACK)\n",
    "X_valid_s, y_valid_s = create_dataset(valid_ts_s, lookback=LOOKBACK)\n",
    "print(X_train_s.shape, y_train_s.shape)\n",
    "print(X_valid_s.shape, y_valid_s.shape)\n",
    "\n",
    "X_train_o, y_train_o = create_dataset(train_ts_o, lookback=LOOKBACK)\n",
    "X_valid_o, y_valid_o = create_dataset(valid_ts_o, lookback=LOOKBACK)\n",
    "print(X_train_o.shape, y_train_o.shape)\n",
    "print(X_valid_o.shape, y_valid_o.shape)"
   ]
  },
  {
   "cell_type": "code",
   "execution_count": 18,
   "id": "66847171",
   "metadata": {
    "execution": {
     "iopub.execute_input": "2024-08-25T11:26:21.790555Z",
     "iopub.status.busy": "2024-08-25T11:26:21.790180Z",
     "iopub.status.idle": "2024-08-25T11:26:21.794519Z",
     "shell.execute_reply": "2024-08-25T11:26:21.793554Z"
    },
    "papermill": {
     "duration": 0.01953,
     "end_time": "2024-08-25T11:26:21.796583",
     "exception": false,
     "start_time": "2024-08-25T11:26:21.777053",
     "status": "completed"
    },
    "tags": []
   },
   "outputs": [],
   "source": [
    "# class RentalModel(nn.Module):\n",
    "#     def __init__(self):\n",
    "#         super().__init__()\n",
    "#         self.lstm = nn.LSTM(input_size=1, hidden_size=50, num_layers=1, batch_first=True)\n",
    "#         self.linear = nn.Linear(50, 1)\n",
    "#     def forward(self, x):\n",
    "#         x, _ = self.lstm(x)\n",
    "#         x = self.linear(x)\n",
    "#         return x"
   ]
  },
  {
   "cell_type": "code",
   "execution_count": 19,
   "id": "9e063f2b",
   "metadata": {
    "execution": {
     "iopub.execute_input": "2024-08-25T11:26:21.822552Z",
     "iopub.status.busy": "2024-08-25T11:26:21.822235Z",
     "iopub.status.idle": "2024-08-25T11:26:21.829771Z",
     "shell.execute_reply": "2024-08-25T11:26:21.828875Z"
    },
    "papermill": {
     "duration": 0.022616,
     "end_time": "2024-08-25T11:26:21.831597",
     "exception": false,
     "start_time": "2024-08-25T11:26:21.808981",
     "status": "completed"
    },
    "tags": []
   },
   "outputs": [],
   "source": [
    "class RentalModel(nn.Module):\n",
    "    \n",
    "    def __init__(self):\n",
    "        super().__init__()\n",
    "        self.lstm = nn.LSTM(input_size=1, hidden_size=128, num_layers=2, batch_first=True, dropout=1)\n",
    "        self.linear1 = nn.Linear(128, 64)\n",
    "        self.linear2 = nn.Linear(64, 32)\n",
    "        self.linear3 = nn.Linear(32, 1)\n",
    "        self.act = nn.ReLU()\n",
    "        self.dropout = nn.Dropout(0.2)\n",
    "        \n",
    "    def forward(self, x):\n",
    "        x, _ = self.lstm(x)\n",
    "        x = self.act(self.linear1(x))\n",
    "        x = self.dropout(x)\n",
    "        x = self.act(self.linear2(x))\n",
    "        x = self.dropout(x)\n",
    "        x = self.linear3(x)\n",
    "        return x"
   ]
  },
  {
   "cell_type": "code",
   "execution_count": 20,
   "id": "8f4c93eb",
   "metadata": {
    "execution": {
     "iopub.execute_input": "2024-08-25T11:26:21.855804Z",
     "iopub.status.busy": "2024-08-25T11:26:21.855449Z",
     "iopub.status.idle": "2024-08-25T11:26:21.859366Z",
     "shell.execute_reply": "2024-08-25T11:26:21.858550Z"
    },
    "papermill": {
     "duration": 0.018236,
     "end_time": "2024-08-25T11:26:21.861273",
     "exception": false,
     "start_time": "2024-08-25T11:26:21.843037",
     "status": "completed"
    },
    "tags": []
   },
   "outputs": [],
   "source": [
    "# train_df.drop(columns='Unnamed: 0', inplace=True)\n",
    "\n",
    "# train_df_s = train_df[train_df['User_type']=='subscribed'].reset_index(drop=True)\n",
    "# train_df_s.sort_values('Datetime', ascending=True, inplace=True)\n",
    "# train_df_o = train_df[train_df['User_type']=='occasional'].reset_index(drop=True)\n",
    "# train_df_o.sort_values('Datetime', ascending=True, inplace=True)\n",
    "\n",
    "# print(train_df_s.shape, train_df_o.shape)"
   ]
  },
  {
   "cell_type": "code",
   "execution_count": 21,
   "id": "22d3feac",
   "metadata": {
    "execution": {
     "iopub.execute_input": "2024-08-25T11:26:21.885963Z",
     "iopub.status.busy": "2024-08-25T11:26:21.885643Z",
     "iopub.status.idle": "2024-08-25T11:26:21.967106Z",
     "shell.execute_reply": "2024-08-25T11:26:21.966190Z"
    },
    "papermill": {
     "duration": 0.096274,
     "end_time": "2024-08-25T11:26:21.969218",
     "exception": false,
     "start_time": "2024-08-25T11:26:21.872944",
     "status": "completed"
    },
    "tags": []
   },
   "outputs": [
    {
     "data": {
      "text/plain": [
       "'cuda'"
      ]
     },
     "execution_count": 21,
     "metadata": {},
     "output_type": "execute_result"
    }
   ],
   "source": [
    "device = 'cuda' if torch.cuda.is_available() else 'cpu'\n",
    "device"
   ]
  },
  {
   "cell_type": "code",
   "execution_count": 22,
   "id": "3dab89bb",
   "metadata": {
    "execution": {
     "iopub.execute_input": "2024-08-25T11:26:21.998955Z",
     "iopub.status.busy": "2024-08-25T11:26:21.998184Z",
     "iopub.status.idle": "2024-08-25T11:44:43.209589Z",
     "shell.execute_reply": "2024-08-25T11:44:43.208387Z"
    },
    "papermill": {
     "duration": 1101.230751,
     "end_time": "2024-08-25T11:44:43.212101",
     "exception": false,
     "start_time": "2024-08-25T11:26:21.981350",
     "status": "completed"
    },
    "tags": []
   },
   "outputs": [
    {
     "name": "stdout",
     "output_type": "stream",
     "text": [
      "Epoch 0: train RMSE 0.2131, valid RMSE 0.2597\n",
      "Epoch 100: train RMSE 0.2055, valid RMSE 0.2571\n",
      "Epoch 200: train RMSE 0.2054, valid RMSE 0.2558\n"
     ]
    }
   ],
   "source": [
    "model_s = RentalModel()\n",
    "model_s = model_s.to(device)\n",
    "optimizer = optim.Adam(model_s.parameters())\n",
    "loss_fn = nn.MSELoss()\n",
    "loader = data.DataLoader(data.TensorDataset(X_train_s, y_train_s), shuffle=True, batch_size=32)\n",
    " \n",
    "n_epochs = 300\n",
    "\n",
    "train_losses = []\n",
    "valid_losses = []\n",
    "\n",
    "for epoch in range(n_epochs):\n",
    "    temp_train_losses = []\n",
    "    model_s.train()\n",
    "    for X_batch, y_batch in loader:\n",
    "        X_batch = X_batch.to(device)\n",
    "        y_batch = y_batch.to(device)\n",
    "        y_pred = model_s(X_batch)\n",
    "        loss = loss_fn(y_pred, y_batch)\n",
    "        temp_train_losses.append(np.sqrt(loss.detach().cpu().numpy()))\n",
    "        optimizer.zero_grad()\n",
    "        loss.backward()\n",
    "        optimizer.step()\n",
    "    train_rmse = np.mean(temp_train_losses)\n",
    "    train_losses.append(train_rmse)\n",
    "    \n",
    "    # Validation\n",
    "    model_s.eval()\n",
    "    with torch.no_grad():\n",
    "#         y_pred = model_s(X_train_s.to(device)).cpu()\n",
    "#         train_rmse = np.sqrt(loss_fn(y_pred, y_train_s))\n",
    "        y_pred = model_s(X_valid_s.to(device)).cpu()\n",
    "        valid_rmse = np.sqrt(loss_fn(y_pred, y_valid_s))\n",
    "        valid_losses.append(valid_rmse)\n",
    "        \n",
    "    if epoch % 100 != 0:\n",
    "        continue\n",
    "    print(\"Epoch %d: train RMSE %.4f, valid RMSE %.4f\" % (epoch, train_rmse, valid_rmse))"
   ]
  },
  {
   "cell_type": "code",
   "execution_count": 23,
   "id": "9b01b6d3",
   "metadata": {
    "execution": {
     "iopub.execute_input": "2024-08-25T11:44:43.238779Z",
     "iopub.status.busy": "2024-08-25T11:44:43.238004Z",
     "iopub.status.idle": "2024-08-25T11:44:43.508720Z",
     "shell.execute_reply": "2024-08-25T11:44:43.507741Z"
    },
    "papermill": {
     "duration": 0.28597,
     "end_time": "2024-08-25T11:44:43.510619",
     "exception": false,
     "start_time": "2024-08-25T11:44:43.224649",
     "status": "completed"
    },
    "tags": []
   },
   "outputs": [
    {
     "data": {
      "image/png": "[encoded data removed]",
      "text/plain": [
       "<Figure size 640x480 with 1 Axes>"
      ]
     },
     "metadata": {},
     "output_type": "display_data"
    }
   ],
   "source": [
    "plt.plot(np.arange(len(train_losses)), train_losses, label='train')\n",
    "plt.plot(np.arange(len(valid_losses)), train_losses, label='valid')\n",
    "plt.ylabel('Loss')\n",
    "plt.xlabel('Epoch')\n",
    "plt.legend()\n",
    "plt.show()"
   ]
  },
  {
   "cell_type": "code",
   "execution_count": 24,
   "id": "46a04e38",
   "metadata": {
    "execution": {
     "iopub.execute_input": "2024-08-25T11:44:43.536366Z",
     "iopub.status.busy": "2024-08-25T11:44:43.536075Z",
     "iopub.status.idle": "2024-08-25T11:44:44.663455Z",
     "shell.execute_reply": "2024-08-25T11:44:44.662487Z"
    },
    "papermill": {
     "duration": 1.142376,
     "end_time": "2024-08-25T11:44:44.665456",
     "exception": false,
     "start_time": "2024-08-25T11:44:43.523080",
     "status": "completed"
    },
    "tags": []
   },
   "outputs": [
    {
     "data": {
      "image/png": "[encoded data removed]",
      "text/plain": [
       "<Figure size 640x480 with 1 Axes>"
      ]
     },
     "metadata": {},
     "output_type": "display_data"
    }
   ],
   "source": [
    "model_s.eval()\n",
    "\n",
    "timeseries = pd.concat(\n",
    "        [\n",
    "            train_df_s[[\"Rental_Bicycles_Count\"]],\n",
    "            valid_df_s[[\"Rental_Bicycles_Count\"]],\n",
    "        ],\n",
    "        axis=0\n",
    "    ).values.astype('float32')\n",
    "\n",
    "with torch.no_grad():\n",
    "    # shift train predictions for plotting\n",
    "    train_plot = np.ones_like(timeseries) * np.nan\n",
    "    y_pred = model_s(X_train_s.to(device)).cpu()\n",
    "    y_pred = y_pred[:, -1, :]\n",
    "    train_plot[LOOKBACK:train_df_s.shape[0]] = model_s(X_train_s.to(device)).cpu()[:, -1, :]\n",
    "    # shift valid predictions for plotting\n",
    "    valid_plot = np.ones_like(timeseries) * np.nan\n",
    "    valid_plot[train_df_s.shape[0]+LOOKBACK:len(timeseries)] = model_s(X_valid_s.to(device)).cpu()[:, -1, :]\n",
    "\n",
    "    for i in range(LOOKBACK):\n",
    "        if i != 0:\n",
    "            temp_valid = np.zeros(LOOKBACK)\n",
    "            temp_valid[:LOOKBACK-i] = train_df_s.iloc[-(LOOKBACK-i):][\"Rental_Bicycles_Count\"].values\n",
    "            temp_valid[LOOKBACK-i:] = valid_plot[train_df_s.shape[0]:train_df_s.shape[0]+i].reshape(-1,)\n",
    "        else:\n",
    "            temp_valid = train_df_s.iloc[-(LOOKBACK-i):][\"Rental_Bicycles_Count\"].values\n",
    "        temp_valid = torch.as_tensor(temp_valid).view(1, -1, 1).float()\n",
    "        valid_plot[train_df_s.shape[0]+i] = model_s(temp_valid.to(device)).cpu()[:, -1, :]\n",
    "\n",
    "# plot\n",
    "plt.plot(timeseries, c='b')\n",
    "plt.plot(train_plot, c='r')\n",
    "plt.plot(valid_plot, c='g')\n",
    "plt.show()"
   ]
  },
  {
   "cell_type": "code",
   "execution_count": 25,
   "id": "72375569",
   "metadata": {
    "execution": {
     "iopub.execute_input": "2024-08-25T11:44:44.692734Z",
     "iopub.status.busy": "2024-08-25T11:44:44.692388Z",
     "iopub.status.idle": "2024-08-25T11:44:45.014634Z",
     "shell.execute_reply": "2024-08-25T11:44:45.013528Z"
    },
    "papermill": {
     "duration": 0.338,
     "end_time": "2024-08-25T11:44:45.016876",
     "exception": false,
     "start_time": "2024-08-25T11:44:44.678876",
     "status": "completed"
    },
    "tags": []
   },
   "outputs": [
    {
     "name": "stdout",
     "output_type": "stream",
     "text": [
      "subscribed: Train RMSE: 180.24, Validation RMSE: 180.12\n"
     ]
    }
   ],
   "source": [
    "train_inv_scaler_values_s = scaler_s.inverse_transform(train_plot[LOOKBACK:len(train_plot)-720])\n",
    "train_inv_bc_values_s = [invboxcox(x, lamdba=best_lambda_s)[0] for x in train_inv_scaler_values_s]\n",
    "train_score = np.sqrt(\n",
    "    mean_squared_error(train_df_s.iloc[LOOKBACK:]['Rental_Bicycles_Count'], train_inv_bc_values_s)\n",
    ")\n",
    "\n",
    "valid_inv_scaler_values_s = scaler_s.inverse_transform(valid_plot[train_df_s.shape[0]:])\n",
    "valid_inv_bc_values_s = [invboxcox(x, lamdba=best_lambda_s)[0] for x in valid_inv_scaler_values_s]\n",
    "valid_score = np.sqrt(mean_squared_error(valid_df_s['Rental_Bicycles_Count'], valid_inv_bc_values_s))\n",
    "\n",
    "print(f\"subscribed: Train RMSE: {train_score:.2f}, Validation RMSE: {valid_score:.2f}\")"
   ]
  },
  {
   "cell_type": "code",
   "execution_count": 26,
   "id": "3c3e49b9",
   "metadata": {
    "execution": {
     "iopub.execute_input": "2024-08-25T11:44:45.043738Z",
     "iopub.status.busy": "2024-08-25T11:44:45.043441Z",
     "iopub.status.idle": "2024-08-25T11:44:45.573263Z",
     "shell.execute_reply": "2024-08-25T11:44:45.572519Z"
    },
    "papermill": {
     "duration": 0.545523,
     "end_time": "2024-08-25T11:44:45.575347",
     "exception": false,
     "start_time": "2024-08-25T11:44:45.029824",
     "status": "completed"
    },
    "tags": []
   },
   "outputs": [],
   "source": [
    "test_pred = np.zeros((720, 1))\n",
    "\n",
    "for i in range(LOOKBACK):\n",
    "    if i != 0:\n",
    "        temp_test = np.zeros(LOOKBACK)\n",
    "        temp_test[:LOOKBACK-i] = valid_df_s.iloc[-(LOOKBACK-i):][\"Rental_Bicycles_Count\"].values\n",
    "        temp_test[LOOKBACK-i:] = test_pred[:i].reshape(-1,)\n",
    "    else:\n",
    "        temp_test = valid_df_s.iloc[-(LOOKBACK-i):][\"Rental_Bicycles_Count\"].values\n",
    "    temp_test = torch.as_tensor(temp_test).view(1, -1, 1).float()\n",
    "    test_pred[i] = model_s(temp_test.to(device)).detach().cpu()[:, -1, :]\n",
    "    \n",
    "for i in range(LOOKBACK, test_pred.shape[0]):\n",
    "    temp_test = test_pred[i-LOOKBACK:i]\n",
    "    temp_test = torch.as_tensor(temp_test).view(1, -1, 1).float()\n",
    "    test_pred[i] = model_s(temp_test.to(device)).detach().cpu()[:, -1, :]\n",
    "    \n",
    "test_inv_scaler_values_s = scaler_s.inverse_transform(test_pred.reshape(-1, 1))\n",
    "test_inv_bc_values_s = [invboxcox(x, lamdba=best_lambda_s)[0] for x in test_inv_scaler_values_s]"
   ]
  },
  {
   "cell_type": "code",
   "execution_count": 27,
   "id": "d2b00eb0",
   "metadata": {
    "execution": {
     "iopub.execute_input": "2024-08-25T11:44:45.601877Z",
     "iopub.status.busy": "2024-08-25T11:44:45.601544Z",
     "iopub.status.idle": "2024-08-25T11:44:45.619124Z",
     "shell.execute_reply": "2024-08-25T11:44:45.618228Z"
    },
    "papermill": {
     "duration": 0.032912,
     "end_time": "2024-08-25T11:44:45.621070",
     "exception": false,
     "start_time": "2024-08-25T11:44:45.588158",
     "status": "completed"
    },
    "tags": []
   },
   "outputs": [
    {
     "data": {
      "text/html": [
       "<div>\n",
       "<style scoped>\n",
       "    .dataframe tbody tr th:only-of-type {\n",
       "        vertical-align: middle;\n",
       "    }\n",
       "\n",
       "    .dataframe tbody tr th {\n",
       "        vertical-align: top;\n",
       "    }\n",
       "\n",
       "    .dataframe thead th {\n",
       "        text-align: right;\n",
       "    }\n",
       "</style>\n",
       "<table border=\"1\" class=\"dataframe\">\n",
       "  <thead>\n",
       "    <tr style=\"text-align: right;\">\n",
       "      <th></th>\n",
       "      <th>index</th>\n",
       "      <th>Rental_Bicycles_Count</th>\n",
       "    </tr>\n",
       "  </thead>\n",
       "  <tbody>\n",
       "    <tr>\n",
       "      <th>0</th>\n",
       "      <td>1</td>\n",
       "      <td>180.678127</td>\n",
       "    </tr>\n",
       "    <tr>\n",
       "      <th>1</th>\n",
       "      <td>3</td>\n",
       "      <td>180.678127</td>\n",
       "    </tr>\n",
       "    <tr>\n",
       "      <th>2</th>\n",
       "      <td>5</td>\n",
       "      <td>180.678127</td>\n",
       "    </tr>\n",
       "    <tr>\n",
       "      <th>3</th>\n",
       "      <td>7</td>\n",
       "      <td>180.678127</td>\n",
       "    </tr>\n",
       "    <tr>\n",
       "      <th>4</th>\n",
       "      <td>9</td>\n",
       "      <td>180.678127</td>\n",
       "    </tr>\n",
       "  </tbody>\n",
       "</table>\n",
       "</div>"
      ],
      "text/plain": [
       "   index  Rental_Bicycles_Count\n",
       "0      1             180.678127\n",
       "1      3             180.678127\n",
       "2      5             180.678127\n",
       "3      7             180.678127\n",
       "4      9             180.678127"
      ]
     },
     "execution_count": 27,
     "metadata": {},
     "output_type": "execute_result"
    }
   ],
   "source": [
    "X_test_s = pd.DataFrame()\n",
    "X_test_s['index'] = test_df_s['index']\n",
    "X_test_s['Rental_Bicycles_Count'] = test_inv_bc_values_s\n",
    "X_test_s.head()"
   ]
  },
  {
   "cell_type": "code",
   "execution_count": 28,
   "id": "c49b5e7b",
   "metadata": {
    "execution": {
     "iopub.execute_input": "2024-08-25T11:44:45.647822Z",
     "iopub.status.busy": "2024-08-25T11:44:45.647471Z",
     "iopub.status.idle": "2024-08-25T12:03:06.663310Z",
     "shell.execute_reply": "2024-08-25T12:03:06.662232Z"
    },
    "papermill": {
     "duration": 1101.032058,
     "end_time": "2024-08-25T12:03:06.665995",
     "exception": false,
     "start_time": "2024-08-25T11:44:45.633937",
     "status": "completed"
    },
    "tags": []
   },
   "outputs": [
    {
     "name": "stdout",
     "output_type": "stream",
     "text": [
      "Epoch 0: train RMSE 0.2236, valid RMSE 0.2274\n",
      "Epoch 100: train RMSE 0.2103, valid RMSE 0.2263\n",
      "Epoch 200: train RMSE 0.2103, valid RMSE 0.2255\n"
     ]
    }
   ],
   "source": [
    "model_o = RentalModel()\n",
    "model_o = model_o.to(device)\n",
    "optimizer = optim.Adam(model_o.parameters())\n",
    "loss_fn = nn.MSELoss()\n",
    "loader = data.DataLoader(data.TensorDataset(X_train_o, y_train_o), shuffle=True, batch_size=32)\n",
    " \n",
    "n_epochs = 300\n",
    "\n",
    "train_losses = []\n",
    "valid_losses = []\n",
    "\n",
    "for epoch in range(n_epochs):\n",
    "    temp_train_losses = []\n",
    "    model_o.train()\n",
    "    for X_batch, y_batch in loader:\n",
    "        X_batch = X_batch.to(device)\n",
    "        y_batch = y_batch.to(device)\n",
    "        y_pred = model_o(X_batch)\n",
    "        loss = loss_fn(y_pred, y_batch)\n",
    "        temp_train_losses.append(np.sqrt(loss.detach().cpu().numpy()))\n",
    "        optimizer.zero_grad()\n",
    "        loss.backward()\n",
    "        optimizer.step()\n",
    "    train_rmse = np.mean(temp_train_losses)\n",
    "    train_losses.append(train_rmse)\n",
    "    \n",
    "    # Validation\n",
    "    model_o.eval()\n",
    "    with torch.no_grad():\n",
    "#         y_pred = model_o(X_train_o.to(device)).cpu()\n",
    "#         train_rmse = np.sqrt(loss_fn(y_pred, y_train_o))\n",
    "        y_pred = model_o(X_valid_o.to(device)).cpu()\n",
    "        valid_rmse = np.sqrt(loss_fn(y_pred, y_valid_o))\n",
    "        valid_losses.append(valid_rmse)\n",
    "        \n",
    "    if epoch % 100 != 0:\n",
    "        continue\n",
    "    print(\"Epoch %d: train RMSE %.4f, valid RMSE %.4f\" % (epoch, train_rmse, valid_rmse))"
   ]
  },
  {
   "cell_type": "code",
   "execution_count": 29,
   "id": "bdcbfcf6",
   "metadata": {
    "execution": {
     "iopub.execute_input": "2024-08-25T12:03:06.694767Z",
     "iopub.status.busy": "2024-08-25T12:03:06.694412Z",
     "iopub.status.idle": "2024-08-25T12:03:06.967895Z",
     "shell.execute_reply": "2024-08-25T12:03:06.966782Z"
    },
    "papermill": {
     "duration": 0.290107,
     "end_time": "2024-08-25T12:03:06.970283",
     "exception": false,
     "start_time": "2024-08-25T12:03:06.680176",
     "status": "completed"
    },
    "tags": []
   },
   "outputs": [
    {
     "data": {
      "image/png": "[encoded data removed]",
      "text/plain": [
       "<Figure size 640x480 with 1 Axes>"
      ]
     },
     "metadata": {},
     "output_type": "display_data"
    }
   ],
   "source": [
    "plt.plot(np.arange(len(train_losses)), train_losses, label='train')\n",
    "plt.plot(np.arange(len(valid_losses)), train_losses, label='valid')\n",
    "plt.ylabel('Loss')\n",
    "plt.xlabel('Epoch')\n",
    "plt.legend()\n",
    "plt.show()"
   ]
  },
  {
   "cell_type": "code",
   "execution_count": 30,
   "id": "3161090f",
   "metadata": {
    "execution": {
     "iopub.execute_input": "2024-08-25T12:03:06.998737Z",
     "iopub.status.busy": "2024-08-25T12:03:06.998393Z",
     "iopub.status.idle": "2024-08-25T12:03:08.081283Z",
     "shell.execute_reply": "2024-08-25T12:03:08.080331Z"
    },
    "papermill": {
     "duration": 1.099553,
     "end_time": "2024-08-25T12:03:08.083585",
     "exception": false,
     "start_time": "2024-08-25T12:03:06.984032",
     "status": "completed"
    },
    "tags": []
   },
   "outputs": [
    {
     "data": {
      "image/png": "[encoded data removed]",
      "text/plain": [
       "<Figure size 640x480 with 1 Axes>"
      ]
     },
     "metadata": {},
     "output_type": "display_data"
    }
   ],
   "source": [
    "model_o.eval()\n",
    "\n",
    "timeseries = pd.concat(\n",
    "        [\n",
    "            train_df_o[[\"Rental_Bicycles_Count\"]],\n",
    "            valid_df_o[[\"Rental_Bicycles_Count\"]],\n",
    "        ],\n",
    "        axis=0\n",
    "    ).values.astype('float32')\n",
    "\n",
    "with torch.no_grad():\n",
    "    # shift train predictions for plotting\n",
    "    train_plot = np.ones_like(timeseries) * np.nan\n",
    "    y_pred = model_o(X_train_o.to(device)).cpu()\n",
    "    y_pred = y_pred[:, -1, :]\n",
    "    train_plot[LOOKBACK:train_df_o.shape[0]] = model_o(X_train_o.to(device)).cpu()[:, -1, :]\n",
    "    # shift valid predictions for plotting\n",
    "    valid_plot = np.ones_like(timeseries) * np.nan\n",
    "    valid_plot[train_df_o.shape[0]+LOOKBACK:len(timeseries)] = model_o(X_valid_o.to(device)).cpu()[:, -1, :]\n",
    "\n",
    "    for i in range(LOOKBACK):\n",
    "        if i != 0:\n",
    "            temp_valid = np.zeros(LOOKBACK)\n",
    "            temp_valid[:LOOKBACK-i] = train_df_o.iloc[-(LOOKBACK-i):][\"Rental_Bicycles_Count\"].values\n",
    "            temp_valid[LOOKBACK-i:] = valid_plot[train_df_o.shape[0]:train_df_o.shape[0]+i].reshape(-1,)\n",
    "        else:\n",
    "            temp_valid = train_df_o.iloc[-(LOOKBACK-i):][\"Rental_Bicycles_Count\"].values\n",
    "        temp_valid = torch.as_tensor(temp_valid).view(1, -1, 1).float()\n",
    "        valid_plot[train_df_o.shape[0]+i] = model_o(temp_valid.to(device)).cpu()[:, -1, :]\n",
    "\n",
    "# plot\n",
    "plt.plot(timeseries, c='b')\n",
    "plt.plot(train_plot, c='r')\n",
    "plt.plot(valid_plot, c='g')\n",
    "plt.show()"
   ]
  },
  {
   "cell_type": "code",
   "execution_count": 31,
   "id": "17f3615c",
   "metadata": {
    "execution": {
     "iopub.execute_input": "2024-08-25T12:03:08.112802Z",
     "iopub.status.busy": "2024-08-25T12:03:08.112438Z",
     "iopub.status.idle": "2024-08-25T12:03:08.474299Z",
     "shell.execute_reply": "2024-08-25T12:03:08.472736Z"
    },
    "papermill": {
     "duration": 0.379001,
     "end_time": "2024-08-25T12:03:08.476678",
     "exception": false,
     "start_time": "2024-08-25T12:03:08.097677",
     "status": "completed"
    },
    "tags": []
   },
   "outputs": [
    {
     "name": "stdout",
     "output_type": "stream",
     "text": [
      "subscribed: Train RMSE: 90.95, Validation RMSE: 90.86\n"
     ]
    }
   ],
   "source": [
    "train_inv_ocaler_values_o = scaler_o.inverse_transform(train_plot[LOOKBACK:len(train_plot)-720])\n",
    "train_inv_bc_values_o = [invboxcox(x, lamdba=best_lambda_o)[0] for x in train_inv_ocaler_values_o]\n",
    "train_score = np.sqrt(\n",
    "    mean_squared_error(train_df_o.iloc[LOOKBACK:]['Rental_Bicycles_Count'], train_inv_bc_values_o)\n",
    ")\n",
    "\n",
    "valid_inv_scaler_values_o = scaler_o.inverse_transform(valid_plot[train_df_o.shape[0]:])\n",
    "valid_inv_bc_values_o = [invboxcox(x, lamdba=best_lambda_o)[0] for x in valid_inv_scaler_values_o]\n",
    "valid_score = np.sqrt(mean_squared_error(valid_df_o['Rental_Bicycles_Count'], valid_inv_bc_values_o))\n",
    "\n",
    "print(f\"subscribed: Train RMSE: {train_score:.2f}, Validation RMSE: {valid_score:.2f}\")"
   ]
  },
  {
   "cell_type": "code",
   "execution_count": 32,
   "id": "25fff164",
   "metadata": {
    "execution": {
     "iopub.execute_input": "2024-08-25T12:03:08.509616Z",
     "iopub.status.busy": "2024-08-25T12:03:08.509040Z",
     "iopub.status.idle": "2024-08-25T12:03:09.040611Z",
     "shell.execute_reply": "2024-08-25T12:03:09.039687Z"
    },
    "papermill": {
     "duration": 0.550329,
     "end_time": "2024-08-25T12:03:09.043256",
     "exception": false,
     "start_time": "2024-08-25T12:03:08.492927",
     "status": "completed"
    },
    "tags": []
   },
   "outputs": [],
   "source": [
    "test_pred = np.zeros((720, 1))\n",
    "\n",
    "for i in range(LOOKBACK):\n",
    "    if i != 0:\n",
    "        temp_test = np.zeros(LOOKBACK)\n",
    "        temp_test[:LOOKBACK-i] = valid_df_o.iloc[-(LOOKBACK-i):][\"Rental_Bicycles_Count\"].values\n",
    "        temp_test[LOOKBACK-i:] = test_pred[:i].reshape(-1,)\n",
    "    else:\n",
    "        temp_test = valid_df_o.iloc[-(LOOKBACK-i):][\"Rental_Bicycles_Count\"].values\n",
    "    temp_test = torch.as_tensor(temp_test).view(1, -1, 1).float()\n",
    "    test_pred[i] = model_o(temp_test.to(device)).detach().cpu()[:, -1, :]\n",
    "    \n",
    "for i in range(LOOKBACK, test_pred.shape[0]):\n",
    "    temp_test = test_pred[i-LOOKBACK:i]\n",
    "    temp_test = torch.as_tensor(temp_test).view(1, -1, 1).float()\n",
    "    test_pred[i] = model_o(temp_test.to(device)).detach().cpu()[:, -1, :]\n",
    "    \n",
    "test_inv_scaler_values_o = scaler_o.inverse_transform(test_pred.reshape(-1, 1))\n",
    "test_inv_bc_values_o = [invboxcox(x, lamdba=best_lambda_o)[0] for x in test_inv_scaler_values_o]"
   ]
  },
  {
   "cell_type": "code",
   "execution_count": 33,
   "id": "94a5729f",
   "metadata": {
    "execution": {
     "iopub.execute_input": "2024-08-25T12:03:09.075874Z",
     "iopub.status.busy": "2024-08-25T12:03:09.075471Z",
     "iopub.status.idle": "2024-08-25T12:03:09.087980Z",
     "shell.execute_reply": "2024-08-25T12:03:09.087095Z"
    },
    "papermill": {
     "duration": 0.029894,
     "end_time": "2024-08-25T12:03:09.089865",
     "exception": false,
     "start_time": "2024-08-25T12:03:09.059971",
     "status": "completed"
    },
    "tags": []
   },
   "outputs": [
    {
     "data": {
      "text/html": [
       "<div>\n",
       "<style scoped>\n",
       "    .dataframe tbody tr th:only-of-type {\n",
       "        vertical-align: middle;\n",
       "    }\n",
       "\n",
       "    .dataframe tbody tr th {\n",
       "        vertical-align: top;\n",
       "    }\n",
       "\n",
       "    .dataframe thead th {\n",
       "        text-align: right;\n",
       "    }\n",
       "</style>\n",
       "<table border=\"1\" class=\"dataframe\">\n",
       "  <thead>\n",
       "    <tr style=\"text-align: right;\">\n",
       "      <th></th>\n",
       "      <th>index</th>\n",
       "      <th>Rental_Bicycles_Count</th>\n",
       "    </tr>\n",
       "  </thead>\n",
       "  <tbody>\n",
       "    <tr>\n",
       "      <th>0</th>\n",
       "      <td>0</td>\n",
       "      <td>91.398546</td>\n",
       "    </tr>\n",
       "    <tr>\n",
       "      <th>1</th>\n",
       "      <td>2</td>\n",
       "      <td>91.398546</td>\n",
       "    </tr>\n",
       "    <tr>\n",
       "      <th>2</th>\n",
       "      <td>4</td>\n",
       "      <td>91.398546</td>\n",
       "    </tr>\n",
       "    <tr>\n",
       "      <th>3</th>\n",
       "      <td>6</td>\n",
       "      <td>91.398546</td>\n",
       "    </tr>\n",
       "    <tr>\n",
       "      <th>4</th>\n",
       "      <td>8</td>\n",
       "      <td>91.398546</td>\n",
       "    </tr>\n",
       "  </tbody>\n",
       "</table>\n",
       "</div>"
      ],
      "text/plain": [
       "   index  Rental_Bicycles_Count\n",
       "0      0              91.398546\n",
       "1      2              91.398546\n",
       "2      4              91.398546\n",
       "3      6              91.398546\n",
       "4      8              91.398546"
      ]
     },
     "execution_count": 33,
     "metadata": {},
     "output_type": "execute_result"
    }
   ],
   "source": [
    "X_test_o = pd.DataFrame()\n",
    "X_test_o['index'] = test_df_o['index']\n",
    "X_test_o['Rental_Bicycles_Count'] = test_inv_bc_values_o\n",
    "X_test_o.head()"
   ]
  },
  {
   "cell_type": "code",
   "execution_count": 34,
   "id": "1688ce09",
   "metadata": {
    "execution": {
     "iopub.execute_input": "2024-08-25T12:03:09.119683Z",
     "iopub.status.busy": "2024-08-25T12:03:09.119185Z",
     "iopub.status.idle": "2024-08-25T12:03:09.138513Z",
     "shell.execute_reply": "2024-08-25T12:03:09.137655Z"
    },
    "papermill": {
     "duration": 0.036529,
     "end_time": "2024-08-25T12:03:09.140644",
     "exception": false,
     "start_time": "2024-08-25T12:03:09.104115",
     "status": "completed"
    },
    "tags": []
   },
   "outputs": [
    {
     "data": {
      "text/html": [
       "<div>\n",
       "<style scoped>\n",
       "    .dataframe tbody tr th:only-of-type {\n",
       "        vertical-align: middle;\n",
       "    }\n",
       "\n",
       "    .dataframe tbody tr th {\n",
       "        vertical-align: top;\n",
       "    }\n",
       "\n",
       "    .dataframe thead th {\n",
       "        text-align: right;\n",
       "    }\n",
       "</style>\n",
       "<table border=\"1\" class=\"dataframe\">\n",
       "  <thead>\n",
       "    <tr style=\"text-align: right;\">\n",
       "      <th></th>\n",
       "      <th>Rental_Bicycles_Count</th>\n",
       "    </tr>\n",
       "  </thead>\n",
       "  <tbody>\n",
       "    <tr>\n",
       "      <th>0</th>\n",
       "      <td>91.398546</td>\n",
       "    </tr>\n",
       "    <tr>\n",
       "      <th>1</th>\n",
       "      <td>180.678127</td>\n",
       "    </tr>\n",
       "    <tr>\n",
       "      <th>2</th>\n",
       "      <td>91.398546</td>\n",
       "    </tr>\n",
       "    <tr>\n",
       "      <th>3</th>\n",
       "      <td>180.678127</td>\n",
       "    </tr>\n",
       "    <tr>\n",
       "      <th>4</th>\n",
       "      <td>91.398546</td>\n",
       "    </tr>\n",
       "  </tbody>\n",
       "</table>\n",
       "</div>"
      ],
      "text/plain": [
       "   Rental_Bicycles_Count\n",
       "0              91.398546\n",
       "1             180.678127\n",
       "2              91.398546\n",
       "3             180.678127\n",
       "4              91.398546"
      ]
     },
     "execution_count": 34,
     "metadata": {},
     "output_type": "execute_result"
    }
   ],
   "source": [
    "test_pred = pd.concat(\n",
    "    [\n",
    "        X_test_s[['index', 'Rental_Bicycles_Count']], \n",
    "        X_test_o[['index', 'Rental_Bicycles_Count']]\n",
    "    ]\n",
    ").sort_values('index', ascending=True).set_index('index')\n",
    "\n",
    "sub_df['Rental_Bicycles_Count'] = test_pred['Rental_Bicycles_Count']\n",
    "sub_df.to_csv('solution7_submit.csv', index=False)\n",
    "sub_df.head()"
   ]
  },
  {
   "cell_type": "code",
   "execution_count": 35,
   "id": "9f0fbf12",
   "metadata": {
    "execution": {
     "iopub.execute_input": "2024-08-25T12:03:09.171502Z",
     "iopub.status.busy": "2024-08-25T12:03:09.171244Z",
     "iopub.status.idle": "2024-08-25T12:03:09.183449Z",
     "shell.execute_reply": "2024-08-25T12:03:09.182540Z"
    },
    "papermill": {
     "duration": 0.029448,
     "end_time": "2024-08-25T12:03:09.185394",
     "exception": false,
     "start_time": "2024-08-25T12:03:09.155946",
     "status": "completed"
    },
    "tags": []
   },
   "outputs": [
    {
     "data": {
      "text/html": [
       "<div>\n",
       "<style scoped>\n",
       "    .dataframe tbody tr th:only-of-type {\n",
       "        vertical-align: middle;\n",
       "    }\n",
       "\n",
       "    .dataframe tbody tr th {\n",
       "        vertical-align: top;\n",
       "    }\n",
       "\n",
       "    .dataframe thead th {\n",
       "        text-align: right;\n",
       "    }\n",
       "</style>\n",
       "<table border=\"1\" class=\"dataframe\">\n",
       "  <thead>\n",
       "    <tr style=\"text-align: right;\">\n",
       "      <th></th>\n",
       "      <th>Rental_Bicycles_Count</th>\n",
       "    </tr>\n",
       "  </thead>\n",
       "  <tbody>\n",
       "    <tr>\n",
       "      <th>0</th>\n",
       "      <td>91</td>\n",
       "    </tr>\n",
       "    <tr>\n",
       "      <th>1</th>\n",
       "      <td>181</td>\n",
       "    </tr>\n",
       "    <tr>\n",
       "      <th>2</th>\n",
       "      <td>91</td>\n",
       "    </tr>\n",
       "    <tr>\n",
       "      <th>3</th>\n",
       "      <td>181</td>\n",
       "    </tr>\n",
       "    <tr>\n",
       "      <th>4</th>\n",
       "      <td>91</td>\n",
       "    </tr>\n",
       "  </tbody>\n",
       "</table>\n",
       "</div>"
      ],
      "text/plain": [
       "   Rental_Bicycles_Count\n",
       "0                     91\n",
       "1                    181\n",
       "2                     91\n",
       "3                    181\n",
       "4                     91"
      ]
     },
     "execution_count": 35,
     "metadata": {},
     "output_type": "execute_result"
    }
   ],
   "source": [
    "sub_df['Rental_Bicycles_Count'] = test_pred['Rental_Bicycles_Count'].apply(lambda x: round(x))\n",
    "sub_df.to_csv('rounded_solution7_submit.csv', index=False)\n",
    "sub_df.head()"
   ]
  },
  {
   "cell_type": "code",
   "execution_count": null,
   "id": "f9ef047c",
   "metadata": {
    "papermill": {
     "duration": 0.014274,
     "end_time": "2024-08-25T12:03:09.215793",
     "exception": false,
     "start_time": "2024-08-25T12:03:09.201519",
     "status": "completed"
    },
    "tags": []
   },
   "outputs": [],
   "source": []
  }
 ],
 "metadata": {
  "kaggle": {
   "accelerator": "nvidiaTeslaT4",
   "dataSources": [
    {
     "datasetId": 5589484,
     "sourceId": 9240329,
     "sourceType": "datasetVersion"
    }
   ],
   "dockerImageVersionId": 30762,
   "isGpuEnabled": true,
   "isInternetEnabled": true,
   "language": "python",
   "sourceType": "notebook"
  },
  "kernelspec": {
   "display_name": "Python 3",
   "language": "python",
   "name": "python3"
  },
  "language_info": {
   "codemirror_mode": {
    "name": "ipython",
    "version": 3
   },
   "file_extension": ".py",
   "mimetype": "text/x-python",
   "name": "python",
   "nbconvert_exporter": "python",
   "pygments_lexer": "ipython3",
   "version": "3.10.14"
  },
  "papermill": {
   "default_parameters": {},
   "duration": 2305.960036,
   "end_time": "2024-08-25T12:03:10.651991",
   "environment_variables": {},
   "exception": null,
   "input_path": "__notebook__.ipynb",
   "output_path": "__notebook__.ipynb",
   "parameters": {},
   "start_time": "2024-08-25T11:24:44.691955",
   "version": "2.6.0"
  }
 },
 "nbformat": 4,
 "nbformat_minor": 5
}
