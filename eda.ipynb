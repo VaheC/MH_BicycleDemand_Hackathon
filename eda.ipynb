{
 "cells": [
  {
   "cell_type": "markdown",
   "metadata": {},
   "source": [
    "# Importing some packages"
   ]
  },
  {
   "cell_type": "code",
   "execution_count": 1,
   "metadata": {},
   "outputs": [],
   "source": [
    "import numpy as np\n",
    "import pandas as pd"
   ]
  },
  {
   "cell_type": "markdown",
   "metadata": {},
   "source": [
    "# Loading data"
   ]
  },
  {
   "cell_type": "code",
   "execution_count": 2,
   "metadata": {},
   "outputs": [],
   "source": [
    "train_df = pd.read_excel('Train.xlsx')\n",
    "test_df = pd.read_excel('Test.xlsx')\n",
    "sub_df = pd.read_csv('Submission.csv')"
   ]
  },
  {
   "cell_type": "markdown",
   "metadata": {},
   "source": [
    "# EDA"
   ]
  },
  {
   "cell_type": "code",
   "execution_count": 3,
   "metadata": {},
   "outputs": [
    {
     "name": "stdout",
     "output_type": "stream",
     "text": [
      "<class 'pandas.core.frame.DataFrame'>\n",
      "RangeIndex: 59709 entries, 0 to 59708\n",
      "Data columns (total 8 columns):\n",
      " #   Column                 Non-Null Count  Dtype         \n",
      "---  ------                 --------------  -----         \n",
      " 0   Unnamed: 0             59709 non-null  int64         \n",
      " 1   St_Hour                59709 non-null  int64         \n",
      " 2   St_Day                 59709 non-null  int64         \n",
      " 3   St_Month               59709 non-null  int64         \n",
      " 4   St_Year                59709 non-null  int64         \n",
      " 5   User_type              59709 non-null  object        \n",
      " 6   Datetime               59709 non-null  datetime64[ns]\n",
      " 7   Rental_Bicycles_Count  59709 non-null  int64         \n",
      "dtypes: datetime64[ns](1), int64(6), object(1)\n",
      "memory usage: 3.6+ MB\n"
     ]
    }
   ],
   "source": [
    "train_df.info()"
   ]
  },
  {
   "cell_type": "code",
   "execution_count": 5,
   "metadata": {},
   "outputs": [
    {
     "data": {
      "text/html": [
       "<div>\n",
       "<style scoped>\n",
       "    .dataframe tbody tr th:only-of-type {\n",
       "        vertical-align: middle;\n",
       "    }\n",
       "\n",
       "    .dataframe tbody tr th {\n",
       "        vertical-align: top;\n",
       "    }\n",
       "\n",
       "    .dataframe thead th {\n",
       "        text-align: right;\n",
       "    }\n",
       "</style>\n",
       "<table border=\"1\" class=\"dataframe\">\n",
       "  <thead>\n",
       "    <tr style=\"text-align: right;\">\n",
       "      <th></th>\n",
       "      <th>Unnamed: 0</th>\n",
       "      <th>St_Hour</th>\n",
       "      <th>St_Day</th>\n",
       "      <th>St_Month</th>\n",
       "      <th>St_Year</th>\n",
       "      <th>User_type</th>\n",
       "      <th>Datetime</th>\n",
       "      <th>Rental_Bicycles_Count</th>\n",
       "    </tr>\n",
       "  </thead>\n",
       "  <tbody>\n",
       "    <tr>\n",
       "      <th>0</th>\n",
       "      <td>0</td>\n",
       "      <td>0</td>\n",
       "      <td>1</td>\n",
       "      <td>1</td>\n",
       "      <td>2013</td>\n",
       "      <td>occasional</td>\n",
       "      <td>2013-01-01 00:00:00</td>\n",
       "      <td>20</td>\n",
       "    </tr>\n",
       "    <tr>\n",
       "      <th>1</th>\n",
       "      <td>1</td>\n",
       "      <td>0</td>\n",
       "      <td>1</td>\n",
       "      <td>1</td>\n",
       "      <td>2013</td>\n",
       "      <td>subscribed</td>\n",
       "      <td>2013-01-01 00:00:00</td>\n",
       "      <td>26</td>\n",
       "    </tr>\n",
       "    <tr>\n",
       "      <th>2</th>\n",
       "      <td>2</td>\n",
       "      <td>1</td>\n",
       "      <td>1</td>\n",
       "      <td>1</td>\n",
       "      <td>2013</td>\n",
       "      <td>occasional</td>\n",
       "      <td>2013-01-01 01:00:00</td>\n",
       "      <td>23</td>\n",
       "    </tr>\n",
       "    <tr>\n",
       "      <th>3</th>\n",
       "      <td>3</td>\n",
       "      <td>1</td>\n",
       "      <td>1</td>\n",
       "      <td>1</td>\n",
       "      <td>2013</td>\n",
       "      <td>subscribed</td>\n",
       "      <td>2013-01-01 01:00:00</td>\n",
       "      <td>23</td>\n",
       "    </tr>\n",
       "    <tr>\n",
       "      <th>4</th>\n",
       "      <td>4</td>\n",
       "      <td>2</td>\n",
       "      <td>1</td>\n",
       "      <td>1</td>\n",
       "      <td>2013</td>\n",
       "      <td>occasional</td>\n",
       "      <td>2013-01-01 02:00:00</td>\n",
       "      <td>20</td>\n",
       "    </tr>\n",
       "  </tbody>\n",
       "</table>\n",
       "</div>"
      ],
      "text/plain": [
       "   Unnamed: 0  St_Hour  St_Day  St_Month  St_Year   User_type  \\\n",
       "0           0        0       1         1     2013  occasional   \n",
       "1           1        0       1         1     2013  subscribed   \n",
       "2           2        1       1         1     2013  occasional   \n",
       "3           3        1       1         1     2013  subscribed   \n",
       "4           4        2       1         1     2013  occasional   \n",
       "\n",
       "             Datetime  Rental_Bicycles_Count  \n",
       "0 2013-01-01 00:00:00                     20  \n",
       "1 2013-01-01 00:00:00                     26  \n",
       "2 2013-01-01 01:00:00                     23  \n",
       "3 2013-01-01 01:00:00                     23  \n",
       "4 2013-01-01 02:00:00                     20  "
      ]
     },
     "execution_count": 5,
     "metadata": {},
     "output_type": "execute_result"
    }
   ],
   "source": [
    "train_df.head()"
   ]
  },
  {
   "cell_type": "code",
   "execution_count": 28,
   "metadata": {},
   "outputs": [
    {
     "data": {
      "text/html": [
       "<div>\n",
       "<style scoped>\n",
       "    .dataframe tbody tr th:only-of-type {\n",
       "        vertical-align: middle;\n",
       "    }\n",
       "\n",
       "    .dataframe tbody tr th {\n",
       "        vertical-align: top;\n",
       "    }\n",
       "\n",
       "    .dataframe thead th {\n",
       "        text-align: right;\n",
       "    }\n",
       "</style>\n",
       "<table border=\"1\" class=\"dataframe\">\n",
       "  <thead>\n",
       "    <tr style=\"text-align: right;\">\n",
       "      <th></th>\n",
       "      <th>Unnamed: 0</th>\n",
       "      <th>St_Hour</th>\n",
       "      <th>St_Day</th>\n",
       "      <th>St_Month</th>\n",
       "      <th>St_Year</th>\n",
       "      <th>User_type</th>\n",
       "      <th>Datetime</th>\n",
       "      <th>Rental_Bicycles_Count</th>\n",
       "    </tr>\n",
       "  </thead>\n",
       "  <tbody>\n",
       "    <tr>\n",
       "      <th>59704</th>\n",
       "      <td>59704</td>\n",
       "      <td>21</td>\n",
       "      <td>31</td>\n",
       "      <td>5</td>\n",
       "      <td>2016</td>\n",
       "      <td>subscribed</td>\n",
       "      <td>2016-05-31 21:00:00</td>\n",
       "      <td>529</td>\n",
       "    </tr>\n",
       "    <tr>\n",
       "      <th>59705</th>\n",
       "      <td>59705</td>\n",
       "      <td>22</td>\n",
       "      <td>31</td>\n",
       "      <td>5</td>\n",
       "      <td>2016</td>\n",
       "      <td>occasional</td>\n",
       "      <td>2016-05-31 22:00:00</td>\n",
       "      <td>298</td>\n",
       "    </tr>\n",
       "    <tr>\n",
       "      <th>59706</th>\n",
       "      <td>59706</td>\n",
       "      <td>22</td>\n",
       "      <td>31</td>\n",
       "      <td>5</td>\n",
       "      <td>2016</td>\n",
       "      <td>subscribed</td>\n",
       "      <td>2016-05-31 22:00:00</td>\n",
       "      <td>455</td>\n",
       "    </tr>\n",
       "    <tr>\n",
       "      <th>59707</th>\n",
       "      <td>59707</td>\n",
       "      <td>23</td>\n",
       "      <td>31</td>\n",
       "      <td>5</td>\n",
       "      <td>2016</td>\n",
       "      <td>occasional</td>\n",
       "      <td>2016-05-31 23:00:00</td>\n",
       "      <td>292</td>\n",
       "    </tr>\n",
       "    <tr>\n",
       "      <th>59708</th>\n",
       "      <td>59708</td>\n",
       "      <td>23</td>\n",
       "      <td>31</td>\n",
       "      <td>5</td>\n",
       "      <td>2016</td>\n",
       "      <td>subscribed</td>\n",
       "      <td>2016-05-31 23:00:00</td>\n",
       "      <td>450</td>\n",
       "    </tr>\n",
       "  </tbody>\n",
       "</table>\n",
       "</div>"
      ],
      "text/plain": [
       "       Unnamed: 0  St_Hour  St_Day  St_Month  St_Year   User_type  \\\n",
       "59704       59704       21      31         5     2016  subscribed   \n",
       "59705       59705       22      31         5     2016  occasional   \n",
       "59706       59706       22      31         5     2016  subscribed   \n",
       "59707       59707       23      31         5     2016  occasional   \n",
       "59708       59708       23      31         5     2016  subscribed   \n",
       "\n",
       "                 Datetime  Rental_Bicycles_Count  \n",
       "59704 2016-05-31 21:00:00                    529  \n",
       "59705 2016-05-31 22:00:00                    298  \n",
       "59706 2016-05-31 22:00:00                    455  \n",
       "59707 2016-05-31 23:00:00                    292  \n",
       "59708 2016-05-31 23:00:00                    450  "
      ]
     },
     "execution_count": 28,
     "metadata": {},
     "output_type": "execute_result"
    }
   ],
   "source": [
    "train_df.tail()"
   ]
  },
  {
   "cell_type": "markdown",
   "metadata": {},
   "source": [
    "The training data doesn't contain any missing values judging by the tables above."
   ]
  },
  {
   "cell_type": "code",
   "execution_count": 10,
   "metadata": {},
   "outputs": [
    {
     "data": {
      "text/plain": [
       "0"
      ]
     },
     "execution_count": 10,
     "metadata": {},
     "output_type": "execute_result"
    }
   ],
   "source": [
    "train_df.duplicated().sum()"
   ]
  },
  {
   "cell_type": "markdown",
   "metadata": {},
   "source": [
    "The output of the above cell confirms that there are no duplicates in the training data."
   ]
  },
  {
   "cell_type": "markdown",
   "metadata": {},
   "source": [
    "Let's check whether the difference between all subsequent dates is an hour. If not, then we have missing dates."
   ]
  },
  {
   "cell_type": "code",
   "execution_count": 53,
   "metadata": {},
   "outputs": [
    {
     "name": "stdout",
     "output_type": "stream",
     "text": [
      "########## occasional ##########\n",
      "89 not subsequent dates\n",
      "\n",
      "\n",
      "Dates differences except for hourly\n",
      "date_diff\n",
      "7200     82\n",
      "10800     6\n",
      "14400     1\n",
      "Name: count, dtype: int64\n",
      "\n",
      "\n",
      "########## subscribed ##########\n",
      "43 not subsequent dates\n",
      "\n",
      "\n",
      "Dates differences except for hourly\n",
      "date_diff\n",
      "7200     37\n",
      "10800     5\n",
      "14400     1\n",
      "Name: count, dtype: int64\n",
      "\n",
      "\n"
     ]
    }
   ],
   "source": [
    "for user_type in train_df['User_type'].unique():\n",
    "    filtered_df = train_df[train_df['User_type']==user_type].sort_values('Datetime', ascending=True).reset_index(drop=True)\n",
    "    filtered_df['date_diff'] = filtered_df['Datetime'].diff().apply(lambda x: x if pd.isna(x) else x.seconds).to_frame()\n",
    "    inconsitency_mask = (filtered_df['date_diff'].iloc[1:] != 3600)\n",
    "    n_inconsistency = inconsitency_mask.sum()\n",
    "    print(10*\"#\" + f\" {user_type} \" + 10*\"#\")\n",
    "    print(f\"{n_inconsistency} not subsequent dates\")\n",
    "    print('\\n')\n",
    "    print('Dates differences except for hourly')\n",
    "    print(filtered_df[filtered_df['date_diff'] != 3600]['date_diff'].value_counts())\n",
    "    print('\\n')\n"
   ]
  },
  {
   "cell_type": "markdown",
   "metadata": {},
   "source": [
    "It turned out that the train data contain data for some dates. Let's find these dates and save in a dictionary."
   ]
  },
  {
   "cell_type": "code",
   "execution_count": 35,
   "metadata": {},
   "outputs": [
    {
     "data": {
      "text/plain": [
       "DatetimeIndex(['2013-01-01 00:00:00', '2013-01-01 01:00:00',\n",
       "               '2013-01-01 02:00:00', '2013-01-01 03:00:00',\n",
       "               '2013-01-01 04:00:00', '2013-01-01 05:00:00',\n",
       "               '2013-01-01 06:00:00', '2013-01-01 07:00:00',\n",
       "               '2013-01-01 08:00:00', '2013-01-01 09:00:00',\n",
       "               ...\n",
       "               '2016-05-31 14:00:00', '2016-05-31 15:00:00',\n",
       "               '2016-05-31 16:00:00', '2016-05-31 17:00:00',\n",
       "               '2016-05-31 18:00:00', '2016-05-31 19:00:00',\n",
       "               '2016-05-31 20:00:00', '2016-05-31 21:00:00',\n",
       "               '2016-05-31 22:00:00', '2016-05-31 23:00:00'],\n",
       "              dtype='datetime64[ns]', length=29928, freq='60min')"
      ]
     },
     "execution_count": 35,
     "metadata": {},
     "output_type": "execute_result"
    }
   ],
   "source": [
    "train_full_dates = pd.date_range(start='2013-01-01', end='2016-06-01', freq='60min')[:-1]\n",
    "train_full_dates"
   ]
  },
  {
   "cell_type": "code",
   "execution_count": 48,
   "metadata": {},
   "outputs": [
    {
     "name": "stdout",
     "output_type": "stream",
     "text": [
      "occasional: 97 missing dates\n",
      "subscribed: 50 missing dates\n"
     ]
    }
   ],
   "source": [
    "missing_dates_dict = {}\n",
    "for user_type in train_df['User_type'].unique():\n",
    "    train_date = train_df[train_df['User_type']==user_type]['Datetime'].tolist()\n",
    "    missing_dates = [i for i in train_full_dates if i not in train_date]\n",
    "    missing_dates_dict[user_type] = missing_dates\n",
    "    print(f\"{user_type}: {len(missing_dates)} missing dates\")"
   ]
  },
  {
   "cell_type": "code",
   "execution_count": 4,
   "metadata": {},
   "outputs": [
    {
     "name": "stdout",
     "output_type": "stream",
     "text": [
      "<class 'pandas.core.frame.DataFrame'>\n",
      "RangeIndex: 1440 entries, 0 to 1439\n",
      "Data columns (total 7 columns):\n",
      " #   Column      Non-Null Count  Dtype         \n",
      "---  ------      --------------  -----         \n",
      " 0   Unnamed: 0  1440 non-null   int64         \n",
      " 1   St_Hour     1440 non-null   int64         \n",
      " 2   St_Day      1440 non-null   int64         \n",
      " 3   St_Month    1440 non-null   int64         \n",
      " 4   St_Year     1440 non-null   int64         \n",
      " 5   User_type   1440 non-null   object        \n",
      " 6   Datetime    1440 non-null   datetime64[ns]\n",
      "dtypes: datetime64[ns](1), int64(5), object(1)\n",
      "memory usage: 78.9+ KB\n"
     ]
    }
   ],
   "source": [
    "test_df.info()"
   ]
  },
  {
   "cell_type": "code",
   "execution_count": 6,
   "metadata": {},
   "outputs": [
    {
     "data": {
      "text/html": [
       "<div>\n",
       "<style scoped>\n",
       "    .dataframe tbody tr th:only-of-type {\n",
       "        vertical-align: middle;\n",
       "    }\n",
       "\n",
       "    .dataframe tbody tr th {\n",
       "        vertical-align: top;\n",
       "    }\n",
       "\n",
       "    .dataframe thead th {\n",
       "        text-align: right;\n",
       "    }\n",
       "</style>\n",
       "<table border=\"1\" class=\"dataframe\">\n",
       "  <thead>\n",
       "    <tr style=\"text-align: right;\">\n",
       "      <th></th>\n",
       "      <th>Unnamed: 0</th>\n",
       "      <th>St_Hour</th>\n",
       "      <th>St_Day</th>\n",
       "      <th>St_Month</th>\n",
       "      <th>St_Year</th>\n",
       "      <th>User_type</th>\n",
       "      <th>Datetime</th>\n",
       "    </tr>\n",
       "  </thead>\n",
       "  <tbody>\n",
       "    <tr>\n",
       "      <th>0</th>\n",
       "      <td>0</td>\n",
       "      <td>0</td>\n",
       "      <td>1</td>\n",
       "      <td>6</td>\n",
       "      <td>2016</td>\n",
       "      <td>occasional</td>\n",
       "      <td>2016-06-01 00:00:00</td>\n",
       "    </tr>\n",
       "    <tr>\n",
       "      <th>1</th>\n",
       "      <td>1</td>\n",
       "      <td>0</td>\n",
       "      <td>1</td>\n",
       "      <td>6</td>\n",
       "      <td>2016</td>\n",
       "      <td>subscribed</td>\n",
       "      <td>2016-06-01 00:00:00</td>\n",
       "    </tr>\n",
       "    <tr>\n",
       "      <th>2</th>\n",
       "      <td>2</td>\n",
       "      <td>1</td>\n",
       "      <td>1</td>\n",
       "      <td>6</td>\n",
       "      <td>2016</td>\n",
       "      <td>occasional</td>\n",
       "      <td>2016-06-01 01:00:00</td>\n",
       "    </tr>\n",
       "    <tr>\n",
       "      <th>3</th>\n",
       "      <td>3</td>\n",
       "      <td>1</td>\n",
       "      <td>1</td>\n",
       "      <td>6</td>\n",
       "      <td>2016</td>\n",
       "      <td>subscribed</td>\n",
       "      <td>2016-06-01 01:00:00</td>\n",
       "    </tr>\n",
       "    <tr>\n",
       "      <th>4</th>\n",
       "      <td>4</td>\n",
       "      <td>2</td>\n",
       "      <td>1</td>\n",
       "      <td>6</td>\n",
       "      <td>2016</td>\n",
       "      <td>occasional</td>\n",
       "      <td>2016-06-01 02:00:00</td>\n",
       "    </tr>\n",
       "  </tbody>\n",
       "</table>\n",
       "</div>"
      ],
      "text/plain": [
       "   Unnamed: 0  St_Hour  St_Day  St_Month  St_Year   User_type  \\\n",
       "0           0        0       1         6     2016  occasional   \n",
       "1           1        0       1         6     2016  subscribed   \n",
       "2           2        1       1         6     2016  occasional   \n",
       "3           3        1       1         6     2016  subscribed   \n",
       "4           4        2       1         6     2016  occasional   \n",
       "\n",
       "             Datetime  \n",
       "0 2016-06-01 00:00:00  \n",
       "1 2016-06-01 00:00:00  \n",
       "2 2016-06-01 01:00:00  \n",
       "3 2016-06-01 01:00:00  \n",
       "4 2016-06-01 02:00:00  "
      ]
     },
     "execution_count": 6,
     "metadata": {},
     "output_type": "execute_result"
    }
   ],
   "source": [
    "test_df.head()"
   ]
  },
  {
   "cell_type": "markdown",
   "metadata": {},
   "source": [
    "Checking whether the difference between all subsequent dates is an hour in the test set."
   ]
  },
  {
   "cell_type": "code",
   "execution_count": 54,
   "metadata": {},
   "outputs": [
    {
     "name": "stdout",
     "output_type": "stream",
     "text": [
      "########## occasional ##########\n",
      "0 not subsequent dates\n",
      "\n",
      "\n",
      "Dates differences except for hourly\n",
      "Series([], Name: count, dtype: int64)\n",
      "\n",
      "\n",
      "########## subscribed ##########\n",
      "0 not subsequent dates\n",
      "\n",
      "\n",
      "Dates differences except for hourly\n",
      "Series([], Name: count, dtype: int64)\n",
      "\n",
      "\n"
     ]
    }
   ],
   "source": [
    "for user_type in test_df['User_type'].unique():\n",
    "    filtered_df = test_df[test_df['User_type']==user_type].sort_values('Datetime', ascending=True).reset_index(drop=True)\n",
    "    filtered_df['date_diff'] = filtered_df['Datetime'].diff().apply(lambda x: x if pd.isna(x) else x.seconds).to_frame()\n",
    "    inconsitency_mask = (filtered_df['date_diff'].iloc[1:] != 3600)\n",
    "    n_inconsistency = inconsitency_mask.sum()\n",
    "    print(10*\"#\" + f\" {user_type} \" + 10*\"#\")\n",
    "    print(f\"{n_inconsistency} not subsequent dates\")\n",
    "    print('\\n')\n",
    "    print('Dates differences except for hourly')\n",
    "    print(filtered_df[filtered_df['date_diff'] != 3600]['date_diff'].value_counts())\n",
    "    print('\\n')\n"
   ]
  },
  {
   "cell_type": "code",
   "execution_count": 8,
   "metadata": {},
   "outputs": [
    {
     "data": {
      "text/html": [
       "<div>\n",
       "<style scoped>\n",
       "    .dataframe tbody tr th:only-of-type {\n",
       "        vertical-align: middle;\n",
       "    }\n",
       "\n",
       "    .dataframe tbody tr th {\n",
       "        vertical-align: top;\n",
       "    }\n",
       "\n",
       "    .dataframe thead th {\n",
       "        text-align: right;\n",
       "    }\n",
       "</style>\n",
       "<table border=\"1\" class=\"dataframe\">\n",
       "  <thead>\n",
       "    <tr style=\"text-align: right;\">\n",
       "      <th></th>\n",
       "      <th>Rental_Bicycles_Count</th>\n",
       "    </tr>\n",
       "  </thead>\n",
       "  <tbody>\n",
       "    <tr>\n",
       "      <th>0</th>\n",
       "      <td>0</td>\n",
       "    </tr>\n",
       "    <tr>\n",
       "      <th>1</th>\n",
       "      <td>0</td>\n",
       "    </tr>\n",
       "    <tr>\n",
       "      <th>2</th>\n",
       "      <td>0</td>\n",
       "    </tr>\n",
       "    <tr>\n",
       "      <th>3</th>\n",
       "      <td>0</td>\n",
       "    </tr>\n",
       "    <tr>\n",
       "      <th>4</th>\n",
       "      <td>0</td>\n",
       "    </tr>\n",
       "  </tbody>\n",
       "</table>\n",
       "</div>"
      ],
      "text/plain": [
       "   Rental_Bicycles_Count\n",
       "0                      0\n",
       "1                      0\n",
       "2                      0\n",
       "3                      0\n",
       "4                      0"
      ]
     },
     "execution_count": 8,
     "metadata": {},
     "output_type": "execute_result"
    }
   ],
   "source": [
    "sub_df.head()"
   ]
  },
  {
   "cell_type": "markdown",
   "metadata": {},
   "source": [
    "## Univariate analysis"
   ]
  },
  {
   "cell_type": "markdown",
   "metadata": {},
   "source": [
    "### Categorical data"
   ]
  },
  {
   "cell_type": "code",
   "execution_count": 11,
   "metadata": {},
   "outputs": [
    {
     "data": {
      "text/plain": [
       "User_type\n",
       "subscribed    29878\n",
       "occasional    29831\n",
       "Name: count, dtype: int64"
      ]
     },
     "execution_count": 11,
     "metadata": {},
     "output_type": "execute_result"
    }
   ],
   "source": [
    "train_df['User_type'].value_counts()"
   ]
  },
  {
   "cell_type": "code",
   "execution_count": 12,
   "metadata": {},
   "outputs": [
    {
     "data": {
      "text/plain": [
       "User_type\n",
       "occasional    720\n",
       "subscribed    720\n",
       "Name: count, dtype: int64"
      ]
     },
     "execution_count": 12,
     "metadata": {},
     "output_type": "execute_result"
    }
   ],
   "source": [
    "test_df['User_type'].value_counts()"
   ]
  },
  {
   "cell_type": "code",
   "execution_count": null,
   "metadata": {},
   "outputs": [],
   "source": []
  }
 ],
 "metadata": {
  "kernelspec": {
   "display_name": "ml_projects",
   "language": "python",
   "name": "python3"
  },
  "language_info": {
   "codemirror_mode": {
    "name": "ipython",
    "version": 3
   },
   "file_extension": ".py",
   "mimetype": "text/x-python",
   "name": "python",
   "nbconvert_exporter": "python",
   "pygments_lexer": "ipython3",
   "version": "3.10.14"
  }
 },
 "nbformat": 4,
 "nbformat_minor": 2
}
