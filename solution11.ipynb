{
 "cells": [
  {
   "cell_type": "markdown",
   "metadata": {},
   "source": [
    "# Importing some packages"
   ]
  },
  {
   "cell_type": "code",
   "execution_count": 92,
   "metadata": {},
   "outputs": [],
   "source": [
    "from tqdm.auto import tqdm\n",
    "\n",
    "import numpy as np\n",
    "import pandas as pd\n",
    "\n",
    "import matplotlib.pyplot as plt\n",
    "import seaborn as sns\n",
    "\n",
    "from collections import defaultdict\n",
    "\n",
    "from scipy.stats import iqr\n",
    "from statsmodels.tsa.deterministic import CalendarFourier\n",
    "\n",
    "from sklearn.preprocessing import OneHotEncoder\n",
    "from sklearn.linear_model import LinearRegression\n",
    "from sklearn.metrics import mean_squared_error\n",
    "\n",
    "from xgboost import XGBRegressor"
   ]
  },
  {
   "cell_type": "markdown",
   "metadata": {},
   "source": [
    "# Loading data"
   ]
  },
  {
   "cell_type": "code",
   "execution_count": 93,
   "metadata": {},
   "outputs": [],
   "source": [
    "train_df = pd.read_excel('Train.xlsx')\n",
    "test_df = pd.read_excel('Test.xlsx')\n",
    "sub_df = pd.read_csv('Submission.csv')"
   ]
  },
  {
   "cell_type": "markdown",
   "metadata": {},
   "source": [
    "# Splitting data"
   ]
  },
  {
   "cell_type": "markdown",
   "metadata": {},
   "source": [
    "First of all let's extract some features from datetime to facilitate future calculations: otherwise I will be forced to extract the same features for each split of the data."
   ]
  },
  {
   "cell_type": "code",
   "execution_count": 94,
   "metadata": {},
   "outputs": [],
   "source": [
    "train_df['dayofweek'] = train_df['Datetime'].apply(lambda x: x.dayofweek)\n",
    "train_df['weekofyear'] = train_df['Datetime'].apply(lambda x: x.isocalendar()[1])\n",
    "# train_df['weekofyear'] = train_df['weekofyear'].apply(int)\n",
    "train_df['dayofyear'] = train_df['Datetime'].dt.dayofyear\n",
    "\n",
    "test_df['dayofweek'] = test_df['Datetime'].apply(lambda x: x.dayofweek)\n",
    "test_df['weekofyear'] = test_df['Datetime'].apply(lambda x: x.isocalendar()[1])\n",
    "# test_df['weekofyear'] = test_df['weekofyear'].apply(int)\n",
    "test_df['dayofyear'] = test_df['Datetime'].dt.dayofyear"
   ]
  },
  {
   "cell_type": "markdown",
   "metadata": {},
   "source": [
    "Let's find missing dates in the train data: the code comes from eda.ipynb notebook, but is self-explanatory too."
   ]
  },
  {
   "cell_type": "code",
   "execution_count": 95,
   "metadata": {},
   "outputs": [
    {
     "name": "stdout",
     "output_type": "stream",
     "text": [
      "occasional: 97 missing dates\n",
      "subscribed: 50 missing dates\n"
     ]
    }
   ],
   "source": [
    "train_full_dates = pd.date_range(start='2013-01-01', end='2016-06-01', freq='60min')[:-1]\n",
    "\n",
    "missing_dates_dict = {}\n",
    "for user_type in train_df['User_type'].unique():\n",
    "    train_date = train_df[train_df['User_type']==user_type]['Datetime'].tolist()\n",
    "    missing_dates = [i for i in train_full_dates if i not in train_date]\n",
    "    missing_dates_dict[user_type] = missing_dates\n",
    "    print(f\"{user_type}: {len(missing_dates)} missing dates\")"
   ]
  },
  {
   "cell_type": "markdown",
   "metadata": {},
   "source": [
    "Let's separate train and test data by user type as there will be a model for each user type."
   ]
  },
  {
   "cell_type": "code",
   "execution_count": 96,
   "metadata": {},
   "outputs": [
    {
     "name": "stdout",
     "output_type": "stream",
     "text": [
      "(29878, 10) (29831, 10)\n"
     ]
    }
   ],
   "source": [
    "train_df.drop(columns='Unnamed: 0', inplace=True)\n",
    "\n",
    "train_df_s = train_df[train_df['User_type']=='subscribed'].reset_index(drop=True)\n",
    "train_df_s.sort_values('Datetime', ascending=True, inplace=True)\n",
    "train_df_o = train_df[train_df['User_type']=='occasional'].reset_index(drop=True)\n",
    "train_df_o.sort_values('Datetime', ascending=True, inplace=True)\n",
    "\n",
    "print(train_df_s.shape, train_df_o.shape)"
   ]
  },
  {
   "cell_type": "code",
   "execution_count": 97,
   "metadata": {},
   "outputs": [
    {
     "name": "stdout",
     "output_type": "stream",
     "text": [
      "(720, 10) (720, 10)\n"
     ]
    }
   ],
   "source": [
    "test_df.rename(\n",
    "    columns={'Unnamed: 0': 'index'},\n",
    "    inplace=True\n",
    ")\n",
    "\n",
    "test_df_s = test_df[test_df['User_type']=='subscribed'].reset_index(drop=True)\n",
    "test_df_s.sort_values('Datetime', ascending=True, inplace=True)\n",
    "test_df_o = test_df[test_df['User_type']=='occasional'].reset_index(drop=True)\n",
    "test_df_o.sort_values('Datetime', ascending=True, inplace=True)\n",
    "\n",
    "print(test_df_s.shape, test_df_o.shape)"
   ]
  },
  {
   "cell_type": "markdown",
   "metadata": {},
   "source": [
    "Choosing last 720 (this is the length of the test set) values as a validation set for each split."
   ]
  },
  {
   "cell_type": "code",
   "execution_count": 98,
   "metadata": {},
   "outputs": [
    {
     "name": "stdout",
     "output_type": "stream",
     "text": [
      "(720, 10) (29158, 10)\n"
     ]
    }
   ],
   "source": [
    "valid_df_s = train_df_s.iloc[-720:]\n",
    "train_df_s = train_df_s.iloc[:-720]\n",
    "print(valid_df_s.shape, train_df_s.shape)"
   ]
  },
  {
   "cell_type": "code",
   "execution_count": 99,
   "metadata": {},
   "outputs": [
    {
     "name": "stdout",
     "output_type": "stream",
     "text": [
      "(720, 10) (29111, 10)\n"
     ]
    }
   ],
   "source": [
    "valid_df_o = train_df_o.iloc[-720:]\n",
    "train_df_o = train_df_o.iloc[:-720]\n",
    "print(valid_df_o.shape, train_df_o.shape)"
   ]
  },
  {
   "cell_type": "markdown",
   "metadata": {},
   "source": [
    "Filling missing dates and corresponding feature values"
   ]
  },
  {
   "cell_type": "code",
   "execution_count": 100,
   "metadata": {},
   "outputs": [
    {
     "name": "stdout",
     "output_type": "stream",
     "text": [
      "(720, 10) (29208, 10)\n",
      "(720, 10) (29208, 10)\n"
     ]
    }
   ],
   "source": [
    "for user_type in train_df['User_type'].unique():\n",
    "\n",
    "    if user_type == 'occasional':\n",
    "        temp_train_df = train_df_o.copy()\n",
    "    else:\n",
    "        temp_train_df = train_df_s.copy()\n",
    "\n",
    "    train_dict = defaultdict(list)\n",
    "    valid_dict = defaultdict(list)\n",
    "\n",
    "    for missing_date in missing_dates_dict[user_type]:\n",
    "\n",
    "        if missing_date < valid_df_s.iloc[0]['Datetime']:\n",
    "            train_dict['Datetime'].append(missing_date)\n",
    "            train_dict['St_Hour'].append(missing_date.hour)\n",
    "            train_dict['St_Day'].append(missing_date.day)\n",
    "            train_dict['St_Month'].append(missing_date.month)\n",
    "            train_dict['St_Year'].append(missing_date.year)\n",
    "            train_dict['dayofweek'].append(missing_date.dayofweek)\n",
    "            train_dict['weekofyear'].append(missing_date.isocalendar()[1])\n",
    "            train_dict['dayofyear'].append(missing_date.dayofyear)\n",
    "            train_dict['User_type'].append(user_type)\n",
    "            temp_df = temp_train_df[\n",
    "                (temp_train_df['Datetime']<missing_date) & \n",
    "                (temp_train_df['St_Hour']==missing_date.hour)\n",
    "            ]\n",
    "            train_dict['Rental_Bicycles_Count'] = temp_df['Rental_Bicycles_Count'].median()\n",
    "        else:\n",
    "            valid_dict['Datetime'].append(missing_date)\n",
    "            valid_dict['St_Hour'].append(missing_date.hour)\n",
    "            valid_dict['St_Day'].append(missing_date.day)\n",
    "            valid_dict['St_Month'].append(missing_date.month)\n",
    "            valid_dict['St_Year'].append(missing_date.year)\n",
    "            valid_dict['dayofweek'].append(missing_date.dayofweek)\n",
    "            valid_dict['weekofyear'].append(missing_date.isocalendar()[1])\n",
    "            valid_dict['dayofyear'].append(missing_date.dayofyear)\n",
    "            valid_dict['User_type'].append(user_type)\n",
    "            valid_dict['Rental_Bicycles_Count'] = temp_train_df[temp_train_df['St_Hour']==missing_date.hour]['Rental_Bicycles_Count'].median()\n",
    "\n",
    "    if user_type == 'occasional':\n",
    "        temp_train_df_o = pd.DataFrame(train_dict)\n",
    "        temp_train_df_o = temp_train_df_o[train_df_o.columns]\n",
    "        train_df_o = pd.concat([train_df_o, temp_train_df_o], axis=0).reset_index(drop=True)\n",
    "        train_df_o.sort_values('Datetime', ascending=True, inplace=True)\n",
    "\n",
    "        if len(valid_dict) != 0:\n",
    "            temp_valid_df_o = pd.DataFrame(valid_dict)\n",
    "            temp_valid_df_o = temp_valid_df_o[valid_df_o.columns]\n",
    "            valid_df_o = pd.concat([valid_df_o, temp_valid_df_o], axis=0).reset_index(drop=True)\n",
    "            valid_df_o.sort_values('Datetime', ascending=True, inplace=True)\n",
    "    else:\n",
    "        temp_train_df_s = pd.DataFrame(train_dict)\n",
    "        temp_train_df_s = temp_train_df_s[train_df_s.columns]\n",
    "        train_df_s = pd.concat([train_df_s, temp_train_df_s], axis=0).reset_index(drop=True)\n",
    "        train_df_s.sort_values('Datetime', ascending=True, inplace=True)\n",
    "\n",
    "        if len(valid_dict) != 0:\n",
    "            temp_valid_df_s = pd.DataFrame(valid_dict)\n",
    "            temp_valid_df_s = temp_valid_df_s[valid_df_s.columns]\n",
    "            valid_df_s = pd.concat([valid_df_s, temp_valid_df_s], axis=0).reset_index(drop=True)\n",
    "            valid_df_s.sort_values('Datetime', ascending=True, inplace=True)\n",
    "\n",
    "print(valid_df_s.shape, train_df_s.shape)\n",
    "print(valid_df_o.shape, train_df_o.shape)"
   ]
  },
  {
   "cell_type": "markdown",
   "metadata": {},
   "source": [
    "Checking the new datasets"
   ]
  },
  {
   "cell_type": "code",
   "execution_count": 101,
   "metadata": {},
   "outputs": [
    {
     "name": "stdout",
     "output_type": "stream",
     "text": [
      "<class 'pandas.core.frame.DataFrame'>\n",
      "Index: 29208 entries, 0 to 29157\n",
      "Data columns (total 10 columns):\n",
      " #   Column                 Non-Null Count  Dtype         \n",
      "---  ------                 --------------  -----         \n",
      " 0   St_Hour                29208 non-null  int64         \n",
      " 1   St_Day                 29208 non-null  int64         \n",
      " 2   St_Month               29208 non-null  int64         \n",
      " 3   St_Year                29208 non-null  int64         \n",
      " 4   User_type              29208 non-null  object        \n",
      " 5   Datetime               29208 non-null  datetime64[ns]\n",
      " 6   Rental_Bicycles_Count  29208 non-null  float64       \n",
      " 7   dayofweek              29208 non-null  int64         \n",
      " 8   weekofyear             29208 non-null  int64         \n",
      " 9   dayofyear              29208 non-null  int64         \n",
      "dtypes: datetime64[ns](1), float64(1), int64(7), object(1)\n",
      "memory usage: 2.5+ MB\n"
     ]
    }
   ],
   "source": [
    "train_df_s.info()"
   ]
  },
  {
   "cell_type": "code",
   "execution_count": 102,
   "metadata": {},
   "outputs": [
    {
     "name": "stdout",
     "output_type": "stream",
     "text": [
      "<class 'pandas.core.frame.DataFrame'>\n",
      "Index: 29208 entries, 0 to 29110\n",
      "Data columns (total 10 columns):\n",
      " #   Column                 Non-Null Count  Dtype         \n",
      "---  ------                 --------------  -----         \n",
      " 0   St_Hour                29208 non-null  int64         \n",
      " 1   St_Day                 29208 non-null  int64         \n",
      " 2   St_Month               29208 non-null  int64         \n",
      " 3   St_Year                29208 non-null  int64         \n",
      " 4   User_type              29208 non-null  object        \n",
      " 5   Datetime               29208 non-null  datetime64[ns]\n",
      " 6   Rental_Bicycles_Count  29208 non-null  float64       \n",
      " 7   dayofweek              29208 non-null  int64         \n",
      " 8   weekofyear             29208 non-null  int64         \n",
      " 9   dayofyear              29208 non-null  int64         \n",
      "dtypes: datetime64[ns](1), float64(1), int64(7), object(1)\n",
      "memory usage: 2.5+ MB\n"
     ]
    }
   ],
   "source": [
    "train_df_o.info()"
   ]
  },
  {
   "cell_type": "markdown",
   "metadata": {},
   "source": [
    "# Feature Engineering"
   ]
  },
  {
   "cell_type": "markdown",
   "metadata": {},
   "source": [
    "Let's create some dummy features which will take into account day of week, week of year, hour of day, and month."
   ]
  },
  {
   "cell_type": "code",
   "execution_count": 103,
   "metadata": {},
   "outputs": [
    {
     "name": "stdout",
     "output_type": "stream",
     "text": [
      "(720, 92) (29208, 92) (720, 92)\n"
     ]
    }
   ],
   "source": [
    "encoder_s = OneHotEncoder(drop='first')\n",
    "\n",
    "dummy_columns = ['St_Hour', 'St_Month', 'dayofweek', 'weekofyear']\n",
    "\n",
    "train_array_s_dummies = encoder_s.fit_transform(\n",
    "    train_df_s[dummy_columns]\n",
    ").toarray()\n",
    "\n",
    "train_s_columns = []\n",
    "\n",
    "for i in range(len(encoder_s.categories_)):\n",
    "    for j in encoder_s.categories_[i][1:]:\n",
    "        train_s_columns.append(dummy_columns[i]+'_'+str(j))\n",
    "\n",
    "train_df_s_dummies = pd.DataFrame(\n",
    "    train_array_s_dummies,\n",
    "    columns=train_s_columns\n",
    ")\n",
    "\n",
    "valid_array_s_dummies = encoder_s.transform(\n",
    "    valid_df_s[dummy_columns]\n",
    ").toarray()\n",
    "\n",
    "valid_df_s_dummies = pd.DataFrame(\n",
    "    valid_array_s_dummies,\n",
    "    columns=train_s_columns\n",
    ")\n",
    "\n",
    "test_array_s_dummies = encoder_s.transform(\n",
    "    test_df_s[dummy_columns]\n",
    ").toarray()\n",
    "\n",
    "test_df_s_dummies = pd.DataFrame(\n",
    "    test_array_s_dummies,\n",
    "    columns=train_s_columns\n",
    ")\n",
    "\n",
    "print(valid_df_s_dummies.shape, train_df_s_dummies.shape, test_df_s_dummies.shape)"
   ]
  },
  {
   "cell_type": "code",
   "execution_count": 104,
   "metadata": {},
   "outputs": [
    {
     "name": "stdout",
     "output_type": "stream",
     "text": [
      "(720, 92) (29208, 92) (720, 92)\n"
     ]
    }
   ],
   "source": [
    "encoder_o = OneHotEncoder(drop='first')\n",
    "\n",
    "dummy_columns = ['St_Hour', 'St_Month', 'dayofweek', 'weekofyear']\n",
    "\n",
    "train_array_o_dummies = encoder_o.fit_transform(\n",
    "    train_df_o[dummy_columns]\n",
    ").toarray()\n",
    "\n",
    "train_o_columns = []\n",
    "\n",
    "for i in range(len(encoder_o.categories_)):\n",
    "    for j in encoder_o.categories_[i][1:]:\n",
    "        train_o_columns.append(dummy_columns[i]+'_'+str(j))\n",
    "\n",
    "train_df_o_dummies = pd.DataFrame(\n",
    "    train_array_o_dummies,\n",
    "    columns=train_o_columns\n",
    ")\n",
    "\n",
    "valid_array_o_dummies = encoder_o.transform(\n",
    "    valid_df_o[dummy_columns]\n",
    ").toarray()\n",
    "\n",
    "valid_df_o_dummies = pd.DataFrame(\n",
    "    valid_array_o_dummies,\n",
    "    columns=train_o_columns\n",
    ")\n",
    "\n",
    "test_array_o_dummies = encoder_o.transform(\n",
    "    test_df_o[dummy_columns]\n",
    ").toarray()\n",
    "\n",
    "test_df_o_dummies = pd.DataFrame(\n",
    "    test_array_o_dummies,\n",
    "    columns=train_o_columns\n",
    ")\n",
    "\n",
    "print(valid_df_o_dummies.shape, train_df_o_dummies.shape, test_df_o_dummies.shape)"
   ]
  },
  {
   "cell_type": "markdown",
   "metadata": {},
   "source": [
    "Creating target enconding map dictionary for day of year column using mean, max, min, std, and median values of the target"
   ]
  },
  {
   "cell_type": "code",
   "execution_count": 105,
   "metadata": {},
   "outputs": [],
   "source": [
    "dayofyear_grouped_df_s = train_df_s.groupby('dayofyear')['Rental_Bicycles_Count'].agg(['mean', 'max', 'min', 'std', 'median', iqr])\n",
    "dayofyear_map_dict_s = dayofyear_grouped_df_s.to_dict()\n",
    "\n",
    "dayofyear_grouped_df_o = train_df_o.groupby('dayofyear')['Rental_Bicycles_Count'].agg(['mean', 'max', 'min', 'std', 'median', iqr])\n",
    "dayofyear_map_dict_o = dayofyear_grouped_df_o.to_dict()"
   ]
  },
  {
   "cell_type": "markdown",
   "metadata": {},
   "source": [
    "Creating target enconding map dictionary for month and day of month columns' combination using mean, max, min, std, and median values of the target"
   ]
  },
  {
   "cell_type": "code",
   "execution_count": 106,
   "metadata": {},
   "outputs": [],
   "source": [
    "month_day_grouped_df_s = train_df_s.groupby(\n",
    "    ['St_Month', 'St_Day'], as_index=False\n",
    ")['Rental_Bicycles_Count'].agg(['mean', 'max', 'min', 'std', 'median', iqr])\n",
    "month_day_grouped_df_s['index'] = list(month_day_grouped_df_s[['St_Month', 'St_Day']].itertuples(index=False, name=None))\n",
    "month_day_grouped_df_s.drop(columns=['St_Month', 'St_Day'], inplace=True)\n",
    "month_day_map_dict_s = month_day_grouped_df_s.set_index('index').to_dict()\n",
    "\n",
    "train_df_s['St_Month_Day'] = list(train_df_s[['St_Month', 'St_Day']].itertuples(index=False, name=None))\n",
    "valid_df_s['St_Month_Day'] = list(valid_df_s[['St_Month', 'St_Day']].itertuples(index=False, name=None))\n",
    "\n",
    "month_day_grouped_df_o = train_df_o.groupby(\n",
    "    ['St_Month', 'St_Day'], as_index=False\n",
    ")['Rental_Bicycles_Count'].agg(['mean', 'max', 'min', 'std', 'median', iqr])\n",
    "month_day_grouped_df_o['index'] = list(month_day_grouped_df_o[['St_Month', 'St_Day']].itertuples(index=False, name=None))\n",
    "month_day_grouped_df_o.drop(columns=['St_Month', 'St_Day'], inplace=True)\n",
    "month_day_map_dict_o = month_day_grouped_df_o.set_index('index').to_dict()\n",
    "\n",
    "train_df_o['St_Month_Day'] = list(train_df_o[['St_Month', 'St_Day']].itertuples(index=False, name=None))\n",
    "valid_df_o['St_Month_Day'] = list(valid_df_o[['St_Month', 'St_Day']].itertuples(index=False, name=None))"
   ]
  },
  {
   "cell_type": "markdown",
   "metadata": {},
   "source": [
    "Creating target enconding map dictionary for St_Month column using mean, max, min, std, and median values of the target"
   ]
  },
  {
   "cell_type": "code",
   "execution_count": 107,
   "metadata": {},
   "outputs": [],
   "source": [
    "month_grouped_df_s = train_df_s.groupby('St_Month')['Rental_Bicycles_Count'].agg(['mean', 'max', 'min', 'std', 'median', iqr])\n",
    "month_map_dict_s = month_grouped_df_s.to_dict()\n",
    "\n",
    "month_grouped_df_o = train_df_o.groupby('St_Month')['Rental_Bicycles_Count'].agg(['mean', 'max', 'min', 'std', 'median', iqr])\n",
    "month_map_dict_o = month_grouped_df_o.to_dict()"
   ]
  },
  {
   "cell_type": "markdown",
   "metadata": {},
   "source": [
    "Creating target enconding map dictionary for St_Hour column using mean, max, min, std, and median values of the target"
   ]
  },
  {
   "cell_type": "code",
   "execution_count": 108,
   "metadata": {},
   "outputs": [],
   "source": [
    "hour_grouped_df_s = train_df_s.groupby('St_Hour')['Rental_Bicycles_Count'].agg(['mean', 'max', 'min', 'std', 'median', iqr])\n",
    "hour_map_dict_s = hour_grouped_df_s.to_dict()\n",
    "\n",
    "hour_grouped_df_o = train_df_o.groupby('St_Hour')['Rental_Bicycles_Count'].agg(['mean', 'max', 'min', 'std', 'median', iqr])\n",
    "hour_map_dict_o = hour_grouped_df_o.to_dict()    "
   ]
  },
  {
   "cell_type": "markdown",
   "metadata": {},
   "source": [
    "Creating target enconding map dictionary for day of week column using mean, max, min, std, and median values of the target"
   ]
  },
  {
   "cell_type": "code",
   "execution_count": 109,
   "metadata": {},
   "outputs": [],
   "source": [
    "dayofweek_grouped_df_s = train_df_s.groupby('dayofweek')['Rental_Bicycles_Count'].agg(['mean', 'max', 'min', 'std', 'median', iqr])\n",
    "dayofweek_map_dict_s = dayofweek_grouped_df_s.to_dict()\n",
    "\n",
    "dayofweek_grouped_df_o = train_df_o.groupby('dayofweek')['Rental_Bicycles_Count'].agg(['mean', 'max', 'min', 'std', 'median', iqr])\n",
    "dayofweek_map_dict_o = dayofweek_grouped_df_o.to_dict()"
   ]
  },
  {
   "cell_type": "markdown",
   "metadata": {},
   "source": [
    "Creating target enconding map dictionary for week of year column using mean, max, min, std, and median values of the target"
   ]
  },
  {
   "cell_type": "code",
   "execution_count": 110,
   "metadata": {},
   "outputs": [],
   "source": [
    "weekofyear_grouped_df_s = train_df_s.groupby('weekofyear')['Rental_Bicycles_Count'].agg(['mean', 'max', 'min', 'std', 'median', iqr])\n",
    "weekofyear_map_dict_s = weekofyear_grouped_df_s.to_dict()\n",
    "\n",
    "weekofyear_grouped_df_o = train_df_o.groupby('weekofyear')['Rental_Bicycles_Count'].agg(['mean', 'max', 'min', 'std', 'median', iqr])\n",
    "weekofyear_map_dict_o = weekofyear_grouped_df_o.to_dict()"
   ]
  },
  {
   "cell_type": "markdown",
   "metadata": {},
   "source": [
    "Applying the map dictionaries to create the target encoded features"
   ]
  },
  {
   "cell_type": "code",
   "execution_count": 111,
   "metadata": {},
   "outputs": [],
   "source": [
    "for k in ['mean', 'max', 'min', 'std', 'median', 'iqr']:\n",
    "\n",
    "    train_df_s[f'dayofyear_{k}_te'] = train_df_s['dayofyear'].map(dayofyear_map_dict_s[k])\n",
    "    valid_df_s[f'dayofyear_{k}_te'] = valid_df_s['dayofyear'].map(dayofyear_map_dict_s[k])\n",
    "\n",
    "    train_df_o[f'dayofyear_{k}_te'] = train_df_o['dayofyear'].map(dayofyear_map_dict_o[k])\n",
    "    valid_df_o[f'dayofyear_{k}_te'] = valid_df_o['dayofyear'].map(dayofyear_map_dict_o[k])\n",
    "\n",
    "    train_df_s[f'month_day_{k}_te'] = train_df_s['St_Month_Day'].map(month_day_map_dict_s[k])\n",
    "    valid_df_s[f'month_day_{k}_te'] = valid_df_s['St_Month_Day'].map(month_day_map_dict_s[k])\n",
    "\n",
    "    train_df_o[f'month_day_{k}_te'] = train_df_o['St_Month_Day'].map(month_day_map_dict_o[k])\n",
    "    valid_df_o[f'month_day_{k}_te'] = valid_df_o['St_Month_Day'].map(month_day_map_dict_o[k])\n",
    "\n",
    "    train_df_s[f'month_{k}_te'] = train_df_s['St_Month'].map(month_map_dict_s[k])\n",
    "    valid_df_s[f'month_{k}_te'] = valid_df_s['St_Month'].map(month_map_dict_s[k])\n",
    "\n",
    "    train_df_o[f'month_{k}_te'] = train_df_o['St_Month'].map(month_map_dict_o[k])\n",
    "    valid_df_o[f'month_{k}_te'] = valid_df_o['St_Month'].map(month_map_dict_o[k])\n",
    "\n",
    "    train_df_s[f'hour_{k}_te'] = train_df_s['St_Hour'].map(hour_map_dict_s[k])\n",
    "    valid_df_s[f'hour_{k}_te'] = valid_df_s['St_Hour'].map(hour_map_dict_s[k])\n",
    "\n",
    "    train_df_o[f'hour_{k}_te'] = train_df_o['St_Hour'].map(hour_map_dict_o[k])\n",
    "    valid_df_o[f'hour_{k}_te'] = valid_df_o['St_Hour'].map(hour_map_dict_o[k])\n",
    "\n",
    "    train_df_s[f'dayofweek_{k}_te'] = train_df_s['dayofweek'].map(dayofweek_map_dict_s[k])\n",
    "    valid_df_s[f'dayofweek_{k}_te'] = valid_df_s['dayofweek'].map(dayofweek_map_dict_s[k])\n",
    "\n",
    "    train_df_o[f'dayofweek_{k}_te'] = train_df_o['dayofweek'].map(dayofweek_map_dict_o[k])\n",
    "    valid_df_o[f'dayofweek_{k}_te'] = valid_df_o['dayofweek'].map(dayofweek_map_dict_o[k])\n",
    "\n",
    "    train_df_s[f'weekofyear_{k}_te'] = train_df_s['weekofyear'].map(weekofyear_map_dict_s[k])\n",
    "    valid_df_s[f'weekofyear_{k}_te'] = valid_df_s['weekofyear'].map(weekofyear_map_dict_s[k])\n",
    "\n",
    "    train_df_o[f'weekofyear_{k}_te'] = train_df_o['weekofyear'].map(weekofyear_map_dict_o[k])\n",
    "    valid_df_o[f'weekofyear_{k}_te'] = valid_df_o['weekofyear'].map(weekofyear_map_dict_o[k])\n",
    "\n",
    "redundant_columns = [\n",
    "    'St_Hour',  'St_Day', 'St_Month',\n",
    "    'St_Year', 'User_type','dayofweek', \n",
    "    'weekofyear','dayofyear', 'St_Month_Day'\n",
    "]\n",
    "\n",
    "train_df_s.drop(columns=redundant_columns, inplace=True)\n",
    "valid_df_s.drop(columns=redundant_columns, inplace=True)\n",
    "\n",
    "train_df_o.drop(columns=redundant_columns, inplace=True)\n",
    "valid_df_o.drop(columns=redundant_columns, inplace=True)"
   ]
  },
  {
   "cell_type": "markdown",
   "metadata": {},
   "source": [
    "Let's also add lag and rolling stats features in the training data and concatenate the train datasets with the dummy datasets created for the training data. Moreover let's remove NaN values emerged due to computing lag values."
   ]
  },
  {
   "cell_type": "code",
   "execution_count": 112,
   "metadata": {},
   "outputs": [],
   "source": [
    "N_LAGS = 25\n",
    "\n",
    "for i in range(1, N_LAGS+1):\n",
    "    train_df_s[f'lag{i}_target'] = train_df_s['Rental_Bicycles_Count'].shift(i)\n",
    "    train_df_o[f'lag{i}_target'] = train_df_o['Rental_Bicycles_Count'].shift(i)"
   ]
  },
  {
   "cell_type": "code",
   "execution_count": 113,
   "metadata": {},
   "outputs": [],
   "source": [
    "def create_rolling_stats(df, lags = [1, 24], wins = [4, 12]):\n",
    "    dt = df.copy()\n",
    "    lag_cols = [f\"lag_{lag}\" for lag in lags ]\n",
    "    for lag, lag_col in zip(lags, lag_cols):\n",
    "        dt[lag_col] = dt['Rental_Bicycles_Count'].shift(lag).fillna(-1)\n",
    "\n",
    "    # dt.dropna(inplace=True)\n",
    "\n",
    "    for win in wins :\n",
    "        for lag,lag_col in zip(lags, lag_cols):\n",
    "            dt[f\"rmean_{lag}_{win}\"] = dt[lag_col].transform(lambda x : x.rolling(win).mean()).fillna(-1)\n",
    "            dt[f\"rstd_{lag}_{win}\"] = dt[lag_col].transform(lambda x : x.rolling(win).std()).fillna(-1)\n",
    "\n",
    "    # dt.dropna(inplace=True)\n",
    "    # dt.reset_index(inplace=True, drop=True)\n",
    "\n",
    "    dt.drop(columns=lag_cols, inplace=True)\n",
    "        \n",
    "    return dt\n",
    "\n",
    "train_df_s = create_rolling_stats(df=train_df_s)\n",
    "train_df_o = create_rolling_stats(df=train_df_o)"
   ]
  },
  {
   "cell_type": "code",
   "execution_count": 114,
   "metadata": {},
   "outputs": [],
   "source": [
    "train_df_s = pd.concat([train_df_s, train_df_s_dummies], axis=1)\n",
    "train_df_s.dropna(inplace=True)\n",
    "train_df_s.reset_index(inplace=True, drop=True)\n",
    "\n",
    "train_df_o = pd.concat([train_df_o, train_df_o_dummies], axis=1)\n",
    "train_df_o.dropna(inplace=True)\n",
    "train_df_o.reset_index(inplace=True, drop=True)"
   ]
  },
  {
   "cell_type": "code",
   "execution_count": 115,
   "metadata": {},
   "outputs": [
    {
     "data": {
      "text/plain": [
       "0"
      ]
     },
     "execution_count": 115,
     "metadata": {},
     "output_type": "execute_result"
    }
   ],
   "source": [
    "train_df_s.isnull().sum().sum()"
   ]
  },
  {
   "cell_type": "markdown",
   "metadata": {},
   "source": [
    "Let's derive the Fourier series."
   ]
  },
  {
   "cell_type": "code",
   "execution_count": 116,
   "metadata": {},
   "outputs": [
    {
     "name": "stdout",
     "output_type": "stream",
     "text": [
      "720 29183 720\n"
     ]
    }
   ],
   "source": [
    "FT_PERIODS = 1\n",
    "\n",
    "cal_fourier_gen_s = CalendarFourier(\"YE\", FT_PERIODS)\n",
    "index = pd.DatetimeIndex(train_df_s['Datetime'])\n",
    "fs_train_df_s = cal_fourier_gen_s.in_sample(index)\n",
    "fs_train_df_s.columns = [\n",
    "    f'sin{int(i/2)+1}'\n",
    "    if i%2==0 else f'cos{int(i/2)+1}'\n",
    "    for i in range(FT_PERIODS*2)\n",
    "]\n",
    "fs_train_df_s.reset_index(inplace=True)\n",
    "fs_train_df_s.rename(columns={'index': 'Datetime'}, inplace=True)\n",
    "\n",
    "out_of_sample_periods = 2 * valid_df_s.shape[0]\n",
    "fs_valid_df_s = cal_fourier_gen_s.out_of_sample(\n",
    "    steps=out_of_sample_periods,\n",
    "    index=pd.date_range(\n",
    "        start=train_df_s.iloc[0]['Datetime'].strftime('%Y-%m-%d %H:%M:%S'),\n",
    "        periods=train_df_s.shape[0],\n",
    "        freq='60min'\n",
    "    )\n",
    ")\n",
    "fs_valid_df_s.columns = [\n",
    "    f'sin{int(i/2)+1}'\n",
    "    if i%2==0 else f'cos{int(i/2)+1}'\n",
    "    for i in range(FT_PERIODS*2)\n",
    "]\n",
    "fs_valid_df_s.reset_index(inplace=True)\n",
    "fs_valid_df_s.rename(columns={'index': 'Datetime'}, inplace=True)\n",
    "\n",
    "fs_test_df_s = fs_valid_df_s.iloc[-720:]\n",
    "fs_valid_df_s = fs_valid_df_s.iloc[:720]\n",
    "\n",
    "print(fs_valid_df_s.shape[0], fs_train_df_s.shape[0], fs_test_df_s.shape[0])"
   ]
  },
  {
   "cell_type": "code",
   "execution_count": 117,
   "metadata": {},
   "outputs": [
    {
     "name": "stdout",
     "output_type": "stream",
     "text": [
      "720 29183 720\n"
     ]
    }
   ],
   "source": [
    "FT_PERIODS = 1\n",
    "\n",
    "cal_fourier_gen_o = CalendarFourier(\"YE\", FT_PERIODS)\n",
    "index = pd.DatetimeIndex(train_df_o['Datetime'])\n",
    "fs_train_df_o = cal_fourier_gen_o.in_sample(index)\n",
    "fs_train_df_o.columns = [\n",
    "    f'sin{int(i/2)+1}'\n",
    "    if i%2==0 else f'cos{int(i/2)+1}'\n",
    "    for i in range(FT_PERIODS*2)\n",
    "]\n",
    "fs_train_df_o.reset_index(inplace=True)\n",
    "fs_train_df_o.rename(columns={'index': 'Datetime'}, inplace=True)\n",
    "\n",
    "out_of_sample_periods = 2 * valid_df_o.shape[0]\n",
    "fs_valid_df_o = cal_fourier_gen_o.out_of_sample(\n",
    "    steps=out_of_sample_periods,\n",
    "    index=pd.date_range(\n",
    "        start=train_df_o.iloc[0]['Datetime'].strftime('%Y-%m-%d %H:%M:%S'),\n",
    "        periods=train_df_o.shape[0],\n",
    "        freq='60min'\n",
    "    )\n",
    ")\n",
    "fs_valid_df_o.columns = [\n",
    "    f'sin{int(i/2)+1}'\n",
    "    if i%2==0 else f'cos{int(i/2)+1}'\n",
    "    for i in range(FT_PERIODS*2)\n",
    "]\n",
    "fs_valid_df_o.reset_index(inplace=True)\n",
    "fs_valid_df_o.rename(columns={'index': 'Datetime'}, inplace=True)\n",
    "\n",
    "fs_test_df_o = fs_valid_df_o.iloc[-720:]\n",
    "fs_valid_df_o = fs_valid_df_o.iloc[:720]\n",
    "\n",
    "print(fs_valid_df_o.shape[0], fs_train_df_o.shape[0], fs_test_df_o.shape[0])"
   ]
  },
  {
   "cell_type": "markdown",
   "metadata": {},
   "source": [
    "Merging and concatenating all available features for train and validation sets"
   ]
  },
  {
   "cell_type": "code",
   "execution_count": 118,
   "metadata": {},
   "outputs": [],
   "source": [
    "train_df_s = pd.merge(train_df_s, fs_train_df_s, on='Datetime')\n",
    "train_df_s.set_index('Datetime', inplace=True)\n",
    "\n",
    "valid_df_s = pd.merge(valid_df_s, fs_valid_df_s, on='Datetime')\n",
    "valid_df_s = pd.concat([valid_df_s, valid_df_s_dummies], axis=1)\n",
    "valid_df_s.set_index('Datetime', inplace=True)\n",
    "\n",
    "train_df_o = pd.merge(train_df_o, fs_train_df_o, on='Datetime')\n",
    "train_df_o.set_index('Datetime', inplace=True)\n",
    "\n",
    "valid_df_o = pd.merge(valid_df_o, fs_valid_df_o, on='Datetime')\n",
    "valid_df_o = pd.concat([valid_df_o, valid_df_o_dummies], axis=1)\n",
    "valid_df_o.set_index('Datetime', inplace=True)"
   ]
  },
  {
   "cell_type": "markdown",
   "metadata": {},
   "source": [
    "Checking the derived train sets"
   ]
  },
  {
   "cell_type": "code",
   "execution_count": 119,
   "metadata": {},
   "outputs": [
    {
     "data": {
      "text/html": [
       "<div>\n",
       "<style scoped>\n",
       "    .dataframe tbody tr th:only-of-type {\n",
       "        vertical-align: middle;\n",
       "    }\n",
       "\n",
       "    .dataframe tbody tr th {\n",
       "        vertical-align: top;\n",
       "    }\n",
       "\n",
       "    .dataframe thead th {\n",
       "        text-align: right;\n",
       "    }\n",
       "</style>\n",
       "<table border=\"1\" class=\"dataframe\">\n",
       "  <thead>\n",
       "    <tr style=\"text-align: right;\">\n",
       "      <th></th>\n",
       "      <th>Rental_Bicycles_Count</th>\n",
       "      <th>dayofyear_mean_te</th>\n",
       "      <th>month_day_mean_te</th>\n",
       "      <th>month_mean_te</th>\n",
       "      <th>hour_mean_te</th>\n",
       "      <th>dayofweek_mean_te</th>\n",
       "      <th>weekofyear_mean_te</th>\n",
       "      <th>dayofyear_max_te</th>\n",
       "      <th>month_day_max_te</th>\n",
       "      <th>month_max_te</th>\n",
       "      <th>...</th>\n",
       "      <th>weekofyear_46</th>\n",
       "      <th>weekofyear_47</th>\n",
       "      <th>weekofyear_48</th>\n",
       "      <th>weekofyear_49</th>\n",
       "      <th>weekofyear_50</th>\n",
       "      <th>weekofyear_51</th>\n",
       "      <th>weekofyear_52</th>\n",
       "      <th>weekofyear_53</th>\n",
       "      <th>sin1</th>\n",
       "      <th>cos1</th>\n",
       "    </tr>\n",
       "    <tr>\n",
       "      <th>Datetime</th>\n",
       "      <th></th>\n",
       "      <th></th>\n",
       "      <th></th>\n",
       "      <th></th>\n",
       "      <th></th>\n",
       "      <th></th>\n",
       "      <th></th>\n",
       "      <th></th>\n",
       "      <th></th>\n",
       "      <th></th>\n",
       "      <th></th>\n",
       "      <th></th>\n",
       "      <th></th>\n",
       "      <th></th>\n",
       "      <th></th>\n",
       "      <th></th>\n",
       "      <th></th>\n",
       "      <th></th>\n",
       "      <th></th>\n",
       "      <th></th>\n",
       "      <th></th>\n",
       "    </tr>\n",
       "  </thead>\n",
       "  <tbody>\n",
       "    <tr>\n",
       "      <th>2013-01-02 01:00:00</th>\n",
       "      <td>10.0</td>\n",
       "      <td>161.96875</td>\n",
       "      <td>161.96875</td>\n",
       "      <td>156.010417</td>\n",
       "      <td>36.276910</td>\n",
       "      <td>238.455699</td>\n",
       "      <td>136.574074</td>\n",
       "      <td>711.0</td>\n",
       "      <td>711.0</td>\n",
       "      <td>1023.0</td>\n",
       "      <td>...</td>\n",
       "      <td>0.0</td>\n",
       "      <td>0.0</td>\n",
       "      <td>0.0</td>\n",
       "      <td>0.0</td>\n",
       "      <td>0.0</td>\n",
       "      <td>0.0</td>\n",
       "      <td>0.0</td>\n",
       "      <td>0.0</td>\n",
       "      <td>0.017931</td>\n",
       "      <td>0.999839</td>\n",
       "    </tr>\n",
       "    <tr>\n",
       "      <th>2013-01-02 02:00:00</th>\n",
       "      <td>11.0</td>\n",
       "      <td>161.96875</td>\n",
       "      <td>161.96875</td>\n",
       "      <td>156.010417</td>\n",
       "      <td>22.052588</td>\n",
       "      <td>238.455699</td>\n",
       "      <td>136.574074</td>\n",
       "      <td>711.0</td>\n",
       "      <td>711.0</td>\n",
       "      <td>1023.0</td>\n",
       "      <td>...</td>\n",
       "      <td>0.0</td>\n",
       "      <td>0.0</td>\n",
       "      <td>0.0</td>\n",
       "      <td>0.0</td>\n",
       "      <td>0.0</td>\n",
       "      <td>0.0</td>\n",
       "      <td>0.0</td>\n",
       "      <td>0.0</td>\n",
       "      <td>0.018648</td>\n",
       "      <td>0.999826</td>\n",
       "    </tr>\n",
       "    <tr>\n",
       "      <th>2013-01-02 03:00:00</th>\n",
       "      <td>1.0</td>\n",
       "      <td>161.96875</td>\n",
       "      <td>161.96875</td>\n",
       "      <td>156.010417</td>\n",
       "      <td>12.148726</td>\n",
       "      <td>238.455699</td>\n",
       "      <td>136.574074</td>\n",
       "      <td>711.0</td>\n",
       "      <td>711.0</td>\n",
       "      <td>1023.0</td>\n",
       "      <td>...</td>\n",
       "      <td>0.0</td>\n",
       "      <td>0.0</td>\n",
       "      <td>0.0</td>\n",
       "      <td>0.0</td>\n",
       "      <td>0.0</td>\n",
       "      <td>0.0</td>\n",
       "      <td>0.0</td>\n",
       "      <td>0.0</td>\n",
       "      <td>0.019365</td>\n",
       "      <td>0.999812</td>\n",
       "    </tr>\n",
       "    <tr>\n",
       "      <th>2013-01-02 04:00:00</th>\n",
       "      <td>2.0</td>\n",
       "      <td>161.96875</td>\n",
       "      <td>161.96875</td>\n",
       "      <td>156.010417</td>\n",
       "      <td>12.774035</td>\n",
       "      <td>238.455699</td>\n",
       "      <td>136.574074</td>\n",
       "      <td>711.0</td>\n",
       "      <td>711.0</td>\n",
       "      <td>1023.0</td>\n",
       "      <td>...</td>\n",
       "      <td>0.0</td>\n",
       "      <td>0.0</td>\n",
       "      <td>0.0</td>\n",
       "      <td>0.0</td>\n",
       "      <td>0.0</td>\n",
       "      <td>0.0</td>\n",
       "      <td>0.0</td>\n",
       "      <td>0.0</td>\n",
       "      <td>0.020082</td>\n",
       "      <td>0.999798</td>\n",
       "    </tr>\n",
       "    <tr>\n",
       "      <th>2013-01-02 05:00:00</th>\n",
       "      <td>4.0</td>\n",
       "      <td>161.96875</td>\n",
       "      <td>161.96875</td>\n",
       "      <td>156.010417</td>\n",
       "      <td>39.130649</td>\n",
       "      <td>238.455699</td>\n",
       "      <td>136.574074</td>\n",
       "      <td>711.0</td>\n",
       "      <td>711.0</td>\n",
       "      <td>1023.0</td>\n",
       "      <td>...</td>\n",
       "      <td>0.0</td>\n",
       "      <td>0.0</td>\n",
       "      <td>0.0</td>\n",
       "      <td>0.0</td>\n",
       "      <td>0.0</td>\n",
       "      <td>0.0</td>\n",
       "      <td>0.0</td>\n",
       "      <td>0.0</td>\n",
       "      <td>0.020799</td>\n",
       "      <td>0.999784</td>\n",
       "    </tr>\n",
       "  </tbody>\n",
       "</table>\n",
       "<p>5 rows × 164 columns</p>\n",
       "</div>"
      ],
      "text/plain": [
       "                     Rental_Bicycles_Count  dayofyear_mean_te  \\\n",
       "Datetime                                                        \n",
       "2013-01-02 01:00:00                   10.0          161.96875   \n",
       "2013-01-02 02:00:00                   11.0          161.96875   \n",
       "2013-01-02 03:00:00                    1.0          161.96875   \n",
       "2013-01-02 04:00:00                    2.0          161.96875   \n",
       "2013-01-02 05:00:00                    4.0          161.96875   \n",
       "\n",
       "                     month_day_mean_te  month_mean_te  hour_mean_te  \\\n",
       "Datetime                                                              \n",
       "2013-01-02 01:00:00          161.96875     156.010417     36.276910   \n",
       "2013-01-02 02:00:00          161.96875     156.010417     22.052588   \n",
       "2013-01-02 03:00:00          161.96875     156.010417     12.148726   \n",
       "2013-01-02 04:00:00          161.96875     156.010417     12.774035   \n",
       "2013-01-02 05:00:00          161.96875     156.010417     39.130649   \n",
       "\n",
       "                     dayofweek_mean_te  weekofyear_mean_te  dayofyear_max_te  \\\n",
       "Datetime                                                                       \n",
       "2013-01-02 01:00:00         238.455699          136.574074             711.0   \n",
       "2013-01-02 02:00:00         238.455699          136.574074             711.0   \n",
       "2013-01-02 03:00:00         238.455699          136.574074             711.0   \n",
       "2013-01-02 04:00:00         238.455699          136.574074             711.0   \n",
       "2013-01-02 05:00:00         238.455699          136.574074             711.0   \n",
       "\n",
       "                     month_day_max_te  month_max_te  ...  weekofyear_46  \\\n",
       "Datetime                                             ...                  \n",
       "2013-01-02 01:00:00             711.0        1023.0  ...            0.0   \n",
       "2013-01-02 02:00:00             711.0        1023.0  ...            0.0   \n",
       "2013-01-02 03:00:00             711.0        1023.0  ...            0.0   \n",
       "2013-01-02 04:00:00             711.0        1023.0  ...            0.0   \n",
       "2013-01-02 05:00:00             711.0        1023.0  ...            0.0   \n",
       "\n",
       "                     weekofyear_47  weekofyear_48  weekofyear_49  \\\n",
       "Datetime                                                           \n",
       "2013-01-02 01:00:00            0.0            0.0            0.0   \n",
       "2013-01-02 02:00:00            0.0            0.0            0.0   \n",
       "2013-01-02 03:00:00            0.0            0.0            0.0   \n",
       "2013-01-02 04:00:00            0.0            0.0            0.0   \n",
       "2013-01-02 05:00:00            0.0            0.0            0.0   \n",
       "\n",
       "                     weekofyear_50  weekofyear_51  weekofyear_52  \\\n",
       "Datetime                                                           \n",
       "2013-01-02 01:00:00            0.0            0.0            0.0   \n",
       "2013-01-02 02:00:00            0.0            0.0            0.0   \n",
       "2013-01-02 03:00:00            0.0            0.0            0.0   \n",
       "2013-01-02 04:00:00            0.0            0.0            0.0   \n",
       "2013-01-02 05:00:00            0.0            0.0            0.0   \n",
       "\n",
       "                     weekofyear_53      sin1      cos1  \n",
       "Datetime                                                \n",
       "2013-01-02 01:00:00            0.0  0.017931  0.999839  \n",
       "2013-01-02 02:00:00            0.0  0.018648  0.999826  \n",
       "2013-01-02 03:00:00            0.0  0.019365  0.999812  \n",
       "2013-01-02 04:00:00            0.0  0.020082  0.999798  \n",
       "2013-01-02 05:00:00            0.0  0.020799  0.999784  \n",
       "\n",
       "[5 rows x 164 columns]"
      ]
     },
     "execution_count": 119,
     "metadata": {},
     "output_type": "execute_result"
    }
   ],
   "source": [
    "train_df_s.head()"
   ]
  },
  {
   "cell_type": "code",
   "execution_count": 120,
   "metadata": {},
   "outputs": [
    {
     "data": {
      "text/plain": [
       "0"
      ]
     },
     "execution_count": 120,
     "metadata": {},
     "output_type": "execute_result"
    }
   ],
   "source": [
    "train_df_s.isnull().sum().sum()"
   ]
  },
  {
   "cell_type": "code",
   "execution_count": 121,
   "metadata": {},
   "outputs": [
    {
     "data": {
      "text/html": [
       "<div>\n",
       "<style scoped>\n",
       "    .dataframe tbody tr th:only-of-type {\n",
       "        vertical-align: middle;\n",
       "    }\n",
       "\n",
       "    .dataframe tbody tr th {\n",
       "        vertical-align: top;\n",
       "    }\n",
       "\n",
       "    .dataframe thead th {\n",
       "        text-align: right;\n",
       "    }\n",
       "</style>\n",
       "<table border=\"1\" class=\"dataframe\">\n",
       "  <thead>\n",
       "    <tr style=\"text-align: right;\">\n",
       "      <th></th>\n",
       "      <th>Rental_Bicycles_Count</th>\n",
       "      <th>dayofyear_mean_te</th>\n",
       "      <th>month_day_mean_te</th>\n",
       "      <th>month_mean_te</th>\n",
       "      <th>hour_mean_te</th>\n",
       "      <th>dayofweek_mean_te</th>\n",
       "      <th>weekofyear_mean_te</th>\n",
       "      <th>dayofyear_max_te</th>\n",
       "      <th>month_day_max_te</th>\n",
       "      <th>month_max_te</th>\n",
       "      <th>...</th>\n",
       "      <th>weekofyear_46</th>\n",
       "      <th>weekofyear_47</th>\n",
       "      <th>weekofyear_48</th>\n",
       "      <th>weekofyear_49</th>\n",
       "      <th>weekofyear_50</th>\n",
       "      <th>weekofyear_51</th>\n",
       "      <th>weekofyear_52</th>\n",
       "      <th>weekofyear_53</th>\n",
       "      <th>sin1</th>\n",
       "      <th>cos1</th>\n",
       "    </tr>\n",
       "    <tr>\n",
       "      <th>Datetime</th>\n",
       "      <th></th>\n",
       "      <th></th>\n",
       "      <th></th>\n",
       "      <th></th>\n",
       "      <th></th>\n",
       "      <th></th>\n",
       "      <th></th>\n",
       "      <th></th>\n",
       "      <th></th>\n",
       "      <th></th>\n",
       "      <th></th>\n",
       "      <th></th>\n",
       "      <th></th>\n",
       "      <th></th>\n",
       "      <th></th>\n",
       "      <th></th>\n",
       "      <th></th>\n",
       "      <th></th>\n",
       "      <th></th>\n",
       "      <th></th>\n",
       "      <th></th>\n",
       "    </tr>\n",
       "  </thead>\n",
       "  <tbody>\n",
       "    <tr>\n",
       "      <th>2013-01-02 01:00:00</th>\n",
       "      <td>4.0</td>\n",
       "      <td>110.90625</td>\n",
       "      <td>110.90625</td>\n",
       "      <td>63.415659</td>\n",
       "      <td>32.239934</td>\n",
       "      <td>221.815374</td>\n",
       "      <td>77.013889</td>\n",
       "      <td>499.0</td>\n",
       "      <td>499.0</td>\n",
       "      <td>515.0</td>\n",
       "      <td>...</td>\n",
       "      <td>0.0</td>\n",
       "      <td>0.0</td>\n",
       "      <td>0.0</td>\n",
       "      <td>0.0</td>\n",
       "      <td>0.0</td>\n",
       "      <td>0.0</td>\n",
       "      <td>0.0</td>\n",
       "      <td>0.0</td>\n",
       "      <td>0.017931</td>\n",
       "      <td>0.999839</td>\n",
       "    </tr>\n",
       "    <tr>\n",
       "      <th>2013-01-02 02:00:00</th>\n",
       "      <td>1.0</td>\n",
       "      <td>110.90625</td>\n",
       "      <td>110.90625</td>\n",
       "      <td>63.415659</td>\n",
       "      <td>21.067379</td>\n",
       "      <td>221.815374</td>\n",
       "      <td>77.013889</td>\n",
       "      <td>499.0</td>\n",
       "      <td>499.0</td>\n",
       "      <td>515.0</td>\n",
       "      <td>...</td>\n",
       "      <td>0.0</td>\n",
       "      <td>0.0</td>\n",
       "      <td>0.0</td>\n",
       "      <td>0.0</td>\n",
       "      <td>0.0</td>\n",
       "      <td>0.0</td>\n",
       "      <td>0.0</td>\n",
       "      <td>0.0</td>\n",
       "      <td>0.018648</td>\n",
       "      <td>0.999826</td>\n",
       "    </tr>\n",
       "    <tr>\n",
       "      <th>2013-01-02 03:00:00</th>\n",
       "      <td>1.0</td>\n",
       "      <td>110.90625</td>\n",
       "      <td>110.90625</td>\n",
       "      <td>63.415659</td>\n",
       "      <td>11.478225</td>\n",
       "      <td>221.815374</td>\n",
       "      <td>77.013889</td>\n",
       "      <td>499.0</td>\n",
       "      <td>499.0</td>\n",
       "      <td>515.0</td>\n",
       "      <td>...</td>\n",
       "      <td>0.0</td>\n",
       "      <td>0.0</td>\n",
       "      <td>0.0</td>\n",
       "      <td>0.0</td>\n",
       "      <td>0.0</td>\n",
       "      <td>0.0</td>\n",
       "      <td>0.0</td>\n",
       "      <td>0.0</td>\n",
       "      <td>0.019365</td>\n",
       "      <td>0.999812</td>\n",
       "    </tr>\n",
       "    <tr>\n",
       "      <th>2013-01-02 04:00:00</th>\n",
       "      <td>4.0</td>\n",
       "      <td>110.90625</td>\n",
       "      <td>110.90625</td>\n",
       "      <td>63.415659</td>\n",
       "      <td>7.755957</td>\n",
       "      <td>221.815374</td>\n",
       "      <td>77.013889</td>\n",
       "      <td>499.0</td>\n",
       "      <td>499.0</td>\n",
       "      <td>515.0</td>\n",
       "      <td>...</td>\n",
       "      <td>0.0</td>\n",
       "      <td>0.0</td>\n",
       "      <td>0.0</td>\n",
       "      <td>0.0</td>\n",
       "      <td>0.0</td>\n",
       "      <td>0.0</td>\n",
       "      <td>0.0</td>\n",
       "      <td>0.0</td>\n",
       "      <td>0.020082</td>\n",
       "      <td>0.999798</td>\n",
       "    </tr>\n",
       "    <tr>\n",
       "      <th>2013-01-02 05:00:00</th>\n",
       "      <td>2.0</td>\n",
       "      <td>110.90625</td>\n",
       "      <td>110.90625</td>\n",
       "      <td>63.415659</td>\n",
       "      <td>16.463435</td>\n",
       "      <td>221.815374</td>\n",
       "      <td>77.013889</td>\n",
       "      <td>499.0</td>\n",
       "      <td>499.0</td>\n",
       "      <td>515.0</td>\n",
       "      <td>...</td>\n",
       "      <td>0.0</td>\n",
       "      <td>0.0</td>\n",
       "      <td>0.0</td>\n",
       "      <td>0.0</td>\n",
       "      <td>0.0</td>\n",
       "      <td>0.0</td>\n",
       "      <td>0.0</td>\n",
       "      <td>0.0</td>\n",
       "      <td>0.020799</td>\n",
       "      <td>0.999784</td>\n",
       "    </tr>\n",
       "  </tbody>\n",
       "</table>\n",
       "<p>5 rows × 164 columns</p>\n",
       "</div>"
      ],
      "text/plain": [
       "                     Rental_Bicycles_Count  dayofyear_mean_te  \\\n",
       "Datetime                                                        \n",
       "2013-01-02 01:00:00                    4.0          110.90625   \n",
       "2013-01-02 02:00:00                    1.0          110.90625   \n",
       "2013-01-02 03:00:00                    1.0          110.90625   \n",
       "2013-01-02 04:00:00                    4.0          110.90625   \n",
       "2013-01-02 05:00:00                    2.0          110.90625   \n",
       "\n",
       "                     month_day_mean_te  month_mean_te  hour_mean_te  \\\n",
       "Datetime                                                              \n",
       "2013-01-02 01:00:00          110.90625      63.415659     32.239934   \n",
       "2013-01-02 02:00:00          110.90625      63.415659     21.067379   \n",
       "2013-01-02 03:00:00          110.90625      63.415659     11.478225   \n",
       "2013-01-02 04:00:00          110.90625      63.415659      7.755957   \n",
       "2013-01-02 05:00:00          110.90625      63.415659     16.463435   \n",
       "\n",
       "                     dayofweek_mean_te  weekofyear_mean_te  dayofyear_max_te  \\\n",
       "Datetime                                                                       \n",
       "2013-01-02 01:00:00         221.815374           77.013889             499.0   \n",
       "2013-01-02 02:00:00         221.815374           77.013889             499.0   \n",
       "2013-01-02 03:00:00         221.815374           77.013889             499.0   \n",
       "2013-01-02 04:00:00         221.815374           77.013889             499.0   \n",
       "2013-01-02 05:00:00         221.815374           77.013889             499.0   \n",
       "\n",
       "                     month_day_max_te  month_max_te  ...  weekofyear_46  \\\n",
       "Datetime                                             ...                  \n",
       "2013-01-02 01:00:00             499.0         515.0  ...            0.0   \n",
       "2013-01-02 02:00:00             499.0         515.0  ...            0.0   \n",
       "2013-01-02 03:00:00             499.0         515.0  ...            0.0   \n",
       "2013-01-02 04:00:00             499.0         515.0  ...            0.0   \n",
       "2013-01-02 05:00:00             499.0         515.0  ...            0.0   \n",
       "\n",
       "                     weekofyear_47  weekofyear_48  weekofyear_49  \\\n",
       "Datetime                                                           \n",
       "2013-01-02 01:00:00            0.0            0.0            0.0   \n",
       "2013-01-02 02:00:00            0.0            0.0            0.0   \n",
       "2013-01-02 03:00:00            0.0            0.0            0.0   \n",
       "2013-01-02 04:00:00            0.0            0.0            0.0   \n",
       "2013-01-02 05:00:00            0.0            0.0            0.0   \n",
       "\n",
       "                     weekofyear_50  weekofyear_51  weekofyear_52  \\\n",
       "Datetime                                                           \n",
       "2013-01-02 01:00:00            0.0            0.0            0.0   \n",
       "2013-01-02 02:00:00            0.0            0.0            0.0   \n",
       "2013-01-02 03:00:00            0.0            0.0            0.0   \n",
       "2013-01-02 04:00:00            0.0            0.0            0.0   \n",
       "2013-01-02 05:00:00            0.0            0.0            0.0   \n",
       "\n",
       "                     weekofyear_53      sin1      cos1  \n",
       "Datetime                                                \n",
       "2013-01-02 01:00:00            0.0  0.017931  0.999839  \n",
       "2013-01-02 02:00:00            0.0  0.018648  0.999826  \n",
       "2013-01-02 03:00:00            0.0  0.019365  0.999812  \n",
       "2013-01-02 04:00:00            0.0  0.020082  0.999798  \n",
       "2013-01-02 05:00:00            0.0  0.020799  0.999784  \n",
       "\n",
       "[5 rows x 164 columns]"
      ]
     },
     "execution_count": 121,
     "metadata": {},
     "output_type": "execute_result"
    }
   ],
   "source": [
    "train_df_o.head()"
   ]
  },
  {
   "cell_type": "code",
   "execution_count": 122,
   "metadata": {},
   "outputs": [
    {
     "data": {
      "text/plain": [
       "0"
      ]
     },
     "execution_count": 122,
     "metadata": {},
     "output_type": "execute_result"
    }
   ],
   "source": [
    "train_df_o.isnull().sum().sum()"
   ]
  },
  {
   "cell_type": "markdown",
   "metadata": {},
   "source": [
    "# Model construction"
   ]
  },
  {
   "cell_type": "markdown",
   "metadata": {},
   "source": [
    "Now we can proceed to model creation. Specifically we apply XBGRession."
   ]
  },
  {
   "cell_type": "markdown",
   "metadata": {},
   "source": [
    "Let's use XGBRegressor feature importances to select top 15 features."
   ]
  },
  {
   "cell_type": "code",
   "execution_count": 123,
   "metadata": {},
   "outputs": [
    {
     "data": {
      "text/plain": [
       "['lag10_target',\n",
       " 'dayofweek_mean_te',\n",
       " 'lag3_target',\n",
       " 'lag14_target',\n",
       " 'rstd_1_4',\n",
       " 'hour_min_te',\n",
       " 'lag9_target',\n",
       " 'dayofyear_max_te',\n",
       " 'lag21_target',\n",
       " 'lag23_target',\n",
       " 'lag24_target',\n",
       " 'hour_mean_te',\n",
       " 'hour_std_te',\n",
       " 'lag1_target',\n",
       " 'hour_iqr_te']"
      ]
     },
     "execution_count": 123,
     "metadata": {},
     "output_type": "execute_result"
    }
   ],
   "source": [
    "y_train_s = train_df_s.pop('Rental_Bicycles_Count').to_frame()\n",
    "X_train_s = train_df_s.copy()\n",
    "\n",
    "xgboost_features_s = [col for col in X_train_s.columns if col!='time_step']\n",
    "\n",
    "xgbr_s = XGBRegressor()\n",
    "\n",
    "xgbr_s.fit(X_train_s[xgboost_features_s], y_train_s)\n",
    "\n",
    "# importance_df_s = pd.DataFrame()\n",
    "# importance_df_s['feature'] = X_train_s.columns\n",
    "# importance_df_s['importance'] = xgbr_s.feature_importances_\n",
    "# importance_df_s.sort_values('importance', ascending=False, inplace=True)\n",
    "# importance_df_s.reset_index(inplace=True, drop=True)\n",
    "# importance_df_s = importance_df_s[importance_df_s['importance']>0.01]\n",
    "# selected_feats_s = importance_df_s['feature'].tolist()\n",
    "\n",
    "top_features_idxs = list(np.argpartition(xgbr_s.feature_importances_, -15)[-15:])\n",
    "selected_feats_s = list(X_train_s.columns[top_features_idxs])\n",
    "selected_feats_s"
   ]
  },
  {
   "cell_type": "code",
   "execution_count": 124,
   "metadata": {},
   "outputs": [
    {
     "data": {
      "text/plain": [
       "['dayofweek_median_te',\n",
       " 'lag14_target',\n",
       " 'lag4_target',\n",
       " 'hour_iqr_te',\n",
       " 'lag23_target',\n",
       " 'hour_min_te',\n",
       " 'rmean_1_12',\n",
       " 'lag22_target',\n",
       " 'hour_max_te',\n",
       " 'lag1_target',\n",
       " 'hour_std_te',\n",
       " 'lag9_target',\n",
       " 'hour_mean_te',\n",
       " 'hour_median_te',\n",
       " 'lag21_target']"
      ]
     },
     "execution_count": 124,
     "metadata": {},
     "output_type": "execute_result"
    }
   ],
   "source": [
    "y_train_o = train_df_o.pop('Rental_Bicycles_Count').to_frame()\n",
    "X_train_o = train_df_o.copy()\n",
    "\n",
    "xgboost_features_o = [col for col in X_train_o.columns if col!='time_otep']\n",
    "\n",
    "xgbr_o = XGBRegressor()\n",
    "\n",
    "xgbr_o.fit(X_train_o[xgboost_features_o], y_train_o)\n",
    "\n",
    "# importance_df_o = pd.DataFrame()\n",
    "# importance_df_o['feature'] = X_train_o.columns\n",
    "# importance_df_o['importance'] = xgbr_o.feature_importances_\n",
    "# importance_df_o.sort_values('importance', ascending=False, inplace=True)\n",
    "# importance_df_o.reset_index(inplace=True, drop=True)\n",
    "# importance_df_o = importance_df_o[importance_df_o['importance']>0.01]\n",
    "# selected_feats_o = importance_df_o['feature'].tolist()\n",
    "\n",
    "top_features_idxs = list(np.argpartition(xgbr_o.feature_importances_, -15)[-15:])\n",
    "selected_feats_o = list(X_train_o.columns[top_features_idxs])\n",
    "selected_feats_o"
   ]
  },
  {
   "cell_type": "markdown",
   "metadata": {},
   "source": [
    "Let's apply XGBRegressor to predict the data."
   ]
  },
  {
   "cell_type": "code",
   "execution_count": 125,
   "metadata": {},
   "outputs": [
    {
     "name": "stdout",
     "output_type": "stream",
     "text": [
      "subscribed clients' RMSE for train set : 26.698980875336986\n"
     ]
    }
   ],
   "source": [
    "# y_train_s = train_df_s.pop('Rental_Bicycles_Count').to_frame()\n",
    "# X_train_s = train_df_s.copy()\n",
    "\n",
    "# xgboost_features_s = [col for col in X_train_s.columns if col!='time_step']\n",
    "xgboost_features_s = selected_feats_s.copy()\n",
    "\n",
    "xgbr_s = XGBRegressor()\n",
    "\n",
    "xgbr_s.fit(X_train_s[xgboost_features_s], y_train_s)\n",
    "\n",
    "y_train_pred_s = xgbr_s.predict(X_train_s[xgboost_features_s]).reshape(-1, 1)\n",
    "\n",
    "train_score_s = np.sqrt(mean_squared_error(y_train_s, y_train_pred_s))\n",
    "\n",
    "print(f\"subscribed clients' RMSE for train set : {train_score_s}\")"
   ]
  },
  {
   "cell_type": "code",
   "execution_count": 126,
   "metadata": {},
   "outputs": [
    {
     "name": "stdout",
     "output_type": "stream",
     "text": [
      "occasional clients' RMSE for train set : 23.063003729402208\n"
     ]
    }
   ],
   "source": [
    "# y_train_o = train_df_o.pop('Rental_Bicycles_Count').to_frame()\n",
    "# X_train_o = train_df_o.copy()\n",
    "\n",
    "# xgboost_features_o = [col for col in X_train_o.columns if col!='time_step']\n",
    "xgboost_features_o = selected_feats_o.copy()\n",
    "\n",
    "xgbr_o = XGBRegressor()\n",
    "\n",
    "xgbr_o.fit(X_train_o[xgboost_features_o], y_train_o)\n",
    "\n",
    "y_train_pred_o = xgbr_o.predict(X_train_o[xgboost_features_o]).reshape(-1, 1)\n",
    "\n",
    "train_score_o = np.sqrt(mean_squared_error(y_train_o, y_train_pred_o))\n",
    "\n",
    "print(f\"occasional clients' RMSE for train set : {train_score_o}\")"
   ]
  },
  {
   "cell_type": "code",
   "execution_count": 127,
   "metadata": {},
   "outputs": [
    {
     "name": "stdout",
     "output_type": "stream",
     "text": [
      "RMSE for train set : 24.947321707991325\n"
     ]
    }
   ],
   "source": [
    "y_train = pd.concat([y_train_s, y_train_o])\n",
    "y_train_pred = np.concatenate([y_train_pred_s, y_train_pred_o])\n",
    "train_score = np.sqrt(mean_squared_error(y_train, y_train_pred))\n",
    "print(f\"RMSE for train set : {train_score}\")"
   ]
  },
  {
   "cell_type": "markdown",
   "metadata": {},
   "source": [
    "## Validation prediction"
   ]
  },
  {
   "cell_type": "code",
   "execution_count": 128,
   "metadata": {},
   "outputs": [
    {
     "name": "stderr",
     "output_type": "stream",
     "text": [
      "  0%|          | 0/720 [00:00<?, ?it/s]"
     ]
    },
    {
     "name": "stderr",
     "output_type": "stream",
     "text": [
      "100%|██████████| 720/720 [00:49<00:00, 14.47it/s]\n"
     ]
    }
   ],
   "source": [
    "y_valid_s = valid_df_s.pop('Rental_Bicycles_Count').to_frame()\n",
    "X_valid_s = valid_df_s.copy()\n",
    "\n",
    "X_valid_s['Rental_Bicycles_Count'] = np.zeros(X_valid_s.shape[0])\n",
    "\n",
    "for i in range(1, N_LAGS+1):\n",
    "    X_valid_s[f'lag{i}_target'] = np.zeros(X_valid_s.shape[0])\n",
    "\n",
    "for j in tqdm(range(X_valid_s.shape[0])):\n",
    "    for i in range(1, N_LAGS+1):\n",
    "        if i - j > 0:\n",
    "            X_valid_s.loc[X_valid_s.index[j], f'lag{i}_target'] = y_train_s.iloc[-i+j]['Rental_Bicycles_Count']\n",
    "        else:\n",
    "            X_valid_s.loc[X_valid_s.index[j], f'lag{i}_target'] = X_valid_s.iloc[j-i]['Rental_Bicycles_Count']\n",
    "\n",
    "    for win in [4, 12]:\n",
    "        for lag in [1, 24]:\n",
    "            if j == 0:\n",
    "                temp_data = X_train_s.iloc[-win:][f'lag{lag}_target']\n",
    "            elif j >= win:\n",
    "                temp_data = X_valid_s.iloc[j-win:j][f'lag{lag}_target']\n",
    "            else:\n",
    "                temp_data = np.zeros(win)\n",
    "                temp_data[:win-j] = X_train_s.iloc[-(win-j):][f'lag{lag}_target']\n",
    "                temp_data[win-j:] = X_valid_s.iloc[0:j][f'lag{lag}_target']\n",
    "            X_valid_s.loc[X_valid_s.index[j], f\"rmean_{lag}_{win}\"] = np.mean(temp_data)\n",
    "            X_valid_s.loc[X_valid_s.index[j], f\"rstd_{lag}_{win}\"] = np.std(temp_data)\n",
    "\n",
    "\n",
    "    X_valid_s.loc[X_valid_s.index[j], 'Rental_Bicycles_Count'] = xgbr_s.predict(\n",
    "        np.array(list(X_valid_s.iloc[j][xgboost_features_s])).reshape(1, -1)\n",
    "    )[0]\n",
    "\n",
    "y_valid_pred_s = X_valid_s[['Rental_Bicycles_Count']]"
   ]
  },
  {
   "cell_type": "code",
   "execution_count": 129,
   "metadata": {},
   "outputs": [
    {
     "name": "stderr",
     "output_type": "stream",
     "text": [
      "100%|██████████| 720/720 [01:00<00:00, 11.97it/s]\n"
     ]
    }
   ],
   "source": [
    "y_valid_o = valid_df_o.pop('Rental_Bicycles_Count').to_frame()\n",
    "X_valid_o = valid_df_o.copy()\n",
    "\n",
    "X_valid_o['Rental_Bicycles_Count'] = np.zeros(X_valid_o.shape[0])\n",
    "\n",
    "for i in range(1, N_LAGS+1):\n",
    "    X_valid_o[f'lag{i}_target'] = np.zeros(X_valid_o.shape[0])\n",
    "\n",
    "for j in tqdm(range(X_valid_o.shape[0])):\n",
    "    for i in range(1, N_LAGS+1):\n",
    "        if i - j > 0:\n",
    "            X_valid_o.loc[X_valid_o.index[j], f'lag{i}_target'] = y_train_o.iloc[-i+j]['Rental_Bicycles_Count']\n",
    "        else:\n",
    "            X_valid_o.loc[X_valid_o.index[j], f'lag{i}_target'] = X_valid_o.iloc[j-i]['Rental_Bicycles_Count']\n",
    "\n",
    "    for win in [4, 12]:\n",
    "        for lag in [1, 24]:\n",
    "            if j == 0:\n",
    "                temp_data = X_train_o.iloc[-win:][f'lag{lag}_target']\n",
    "            elif j >= win:\n",
    "                temp_data = X_valid_o.iloc[j-win:j][f'lag{lag}_target']\n",
    "            else:\n",
    "                temp_data = np.zeros(win)\n",
    "                temp_data[:win-j] = X_train_o.iloc[-(win-j):][f'lag{lag}_target']\n",
    "                temp_data[win-j:] = X_valid_o.iloc[0:j][f'lag{lag}_target']\n",
    "            X_valid_o.loc[X_valid_o.index[j], f\"rmean_{lag}_{win}\"] = np.mean(temp_data)\n",
    "            X_valid_o.loc[X_valid_o.index[j], f\"rstd_{lag}_{win}\"] = np.std(temp_data)\n",
    "\n",
    "    X_valid_o.loc[X_valid_o.index[j], 'Rental_Bicycles_Count'] = xgbr_o.predict(\n",
    "        np.array(list(X_valid_o.iloc[j][xgboost_features_o])).reshape(1, -1)\n",
    "    )[0]\n",
    "\n",
    "y_valid_pred_o = X_valid_o[['Rental_Bicycles_Count']]"
   ]
  },
  {
   "cell_type": "code",
   "execution_count": 130,
   "metadata": {},
   "outputs": [
    {
     "data": {
      "image/png": "[encoded data removed]",
      "text/plain": [
       "<Figure size 1000x400 with 2 Axes>"
      ]
     },
     "metadata": {},
     "output_type": "display_data"
    }
   ],
   "source": [
    "valid_score_s = np.sqrt(mean_squared_error(y_valid_s, y_valid_pred_s))\n",
    "valid_score_o = np.sqrt(mean_squared_error(y_valid_o, y_valid_pred_o))\n",
    "\n",
    "y_valid = pd.concat([y_valid_s, y_valid_o])\n",
    "y_valid_pred = pd.concat([y_valid_pred_s, y_valid_pred_o])\n",
    "valid_score = np.sqrt(mean_squared_error(y_valid, y_valid_pred))\n",
    "\n",
    "fig = plt.figure(figsize=(10, 4))\n",
    "\n",
    "plt.subplot(1, 2, 1)\n",
    "plt.plot(y_valid_s, label='true')\n",
    "plt.plot(y_valid_pred_s, label='predicted')\n",
    "plt.xticks(rotation=45)\n",
    "plt.legend()\n",
    "plt.title(f\"subscribed: RMSE = {valid_score_s:.2f}\")\n",
    "\n",
    "plt.subplot(1, 2, 2)\n",
    "plt.plot(y_valid_o, label='true')\n",
    "plt.plot(y_valid_pred_o, label='predicted')\n",
    "plt.xticks(rotation=45)\n",
    "plt.legend()\n",
    "plt.title(f\"occasional: RMSE = {valid_score_o:.2f}\")\n",
    "\n",
    "plt.suptitle(f\"Validation: RMSE = {valid_score:.2f}\", y=1.01)\n",
    "\n",
    "plt.tight_layout()"
   ]
  },
  {
   "cell_type": "markdown",
   "metadata": {},
   "source": [
    "## Test prediction"
   ]
  },
  {
   "cell_type": "markdown",
   "metadata": {},
   "source": [
    "First of all let's construct the missing features for the test sets except lag features: lag features will be constructed during prediction."
   ]
  },
  {
   "cell_type": "code",
   "execution_count": 131,
   "metadata": {},
   "outputs": [],
   "source": [
    "test_df_s['St_Month_Day'] = list(test_df_s[['St_Month', 'St_Day']].itertuples(index=False, name=None))\n",
    "test_df_o['St_Month_Day'] = list(test_df_o[['St_Month', 'St_Day']].itertuples(index=False, name=None))\n",
    "\n",
    "for k in ['mean', 'max', 'min', 'std', 'median', 'iqr']:\n",
    "\n",
    "    test_df_s[f'dayofyear_{k}_te'] = test_df_s['dayofyear'].map(dayofyear_map_dict_s[k])\n",
    "    test_df_o[f'dayofyear_{k}_te'] = test_df_o['dayofyear'].map(dayofyear_map_dict_o[k])\n",
    "\n",
    "    test_df_s[f'month_day_{k}_te'] = test_df_s['St_Month_Day'].map(month_day_map_dict_s[k])\n",
    "    test_df_o[f'month_day_{k}_te'] = test_df_o['St_Month_Day'].map(month_day_map_dict_o[k])\n",
    "\n",
    "    test_df_s[f'month_{k}_te'] = test_df_s['St_Month'].map(month_map_dict_s[k])\n",
    "    test_df_o[f'month_{k}_te'] = test_df_o['St_Month'].map(month_map_dict_o[k])\n",
    "\n",
    "    test_df_s[f'hour_{k}_te'] = test_df_s['St_Hour'].map(hour_map_dict_s[k])\n",
    "    test_df_o[f'hour_{k}_te'] = test_df_o['St_Hour'].map(hour_map_dict_o[k])\n",
    "\n",
    "    test_df_s[f'dayofweek_{k}_te'] = test_df_s['dayofweek'].map(dayofweek_map_dict_s[k])\n",
    "    test_df_o[f'dayofweek_{k}_te'] = test_df_o['dayofweek'].map(dayofweek_map_dict_o[k])\n",
    "\n",
    "    test_df_s[f'weekofyear_{k}_te'] = test_df_s['weekofyear'].map(weekofyear_map_dict_s[k])\n",
    "    test_df_o[f'weekofyear_{k}_te'] = test_df_o['weekofyear'].map(weekofyear_map_dict_o[k])\n",
    "\n",
    "redundant_columns = [\n",
    "    'St_Hour',  'St_Day', 'St_Month',\n",
    "    'St_Year', 'User_type','dayofweek', \n",
    "    'weekofyear','dayofyear', 'St_Month_Day'\n",
    "]\n",
    "\n",
    "test_df_s.drop(columns=redundant_columns, inplace=True)\n",
    "test_df_s = pd.merge(test_df_s, fs_test_df_s, on='Datetime')\n",
    "test_df_s = pd.concat([test_df_s, test_df_s_dummies], axis=1)\n",
    "test_df_s.set_index('Datetime', inplace=True)\n",
    "\n",
    "test_df_o.drop(columns=redundant_columns, inplace=True)\n",
    "test_df_o = pd.merge(test_df_o, fs_test_df_o, on='Datetime')\n",
    "test_df_o = pd.concat([test_df_o, test_df_s_dummies], axis=1)\n",
    "test_df_o.set_index('Datetime', inplace=True)"
   ]
  },
  {
   "cell_type": "markdown",
   "metadata": {},
   "source": [
    "Let's make the prediction."
   ]
  },
  {
   "cell_type": "code",
   "execution_count": 132,
   "metadata": {},
   "outputs": [
    {
     "name": "stderr",
     "output_type": "stream",
     "text": [
      "100%|██████████| 720/720 [01:14<00:00,  9.70it/s]\n"
     ]
    }
   ],
   "source": [
    "X_test_s = test_df_s.copy()\n",
    "\n",
    "X_test_s['Rental_Bicycles_Count'] = np.zeros(X_test_s.shape[0])\n",
    "\n",
    "for i in range(1, N_LAGS+1):\n",
    "    X_test_s[f'lag{i}_target'] = np.zeros(X_test_s.shape[0])\n",
    "\n",
    "for j in tqdm(range(X_test_s.shape[0])):\n",
    "    for i in range(1, N_LAGS+1):\n",
    "        if i - j > 0:\n",
    "            X_test_s.loc[X_test_s.index[j], f'lag{i}_target'] = y_valid_s.iloc[-i+j]['Rental_Bicycles_Count']\n",
    "        else:\n",
    "            X_test_s.loc[X_test_s.index[j], f'lag{i}_target'] = X_test_s.iloc[j-i]['Rental_Bicycles_Count']\n",
    "\n",
    "    for win in [4, 12]:\n",
    "        for lag in [1, 24]:\n",
    "            if j == 0:\n",
    "                temp_data = X_valid_s.iloc[-win:][f'lag{lag}_target']\n",
    "            elif j >= win:\n",
    "                temp_data = X_test_s.iloc[j-win:j][f'lag{lag}_target']\n",
    "            else:\n",
    "                temp_data = np.zeros(win)\n",
    "                temp_data[:win-j] = X_valid_s.iloc[-(win-j):][f'lag{lag}_target']\n",
    "                temp_data[win-j:] = X_test_s.iloc[0:j][f'lag{lag}_target']\n",
    "            X_test_s.loc[X_test_s.index[j], f\"rmean_{lag}_{win}\"] = np.mean(temp_data)\n",
    "            X_test_s.loc[X_test_s.index[j], f\"rstd_{lag}_{win}\"] = np.std(temp_data)\n",
    "\n",
    "    X_test_s.loc[X_test_s.index[j], 'Rental_Bicycles_Count'] = xgbr_s.predict(\n",
    "        np.array(list(X_test_s.iloc[j][xgboost_features_s])).reshape(1, -1)\n",
    "    )[0]\n",
    "\n",
    "y_test_pred_s = X_test_s[['Rental_Bicycles_Count']]"
   ]
  },
  {
   "cell_type": "code",
   "execution_count": 133,
   "metadata": {},
   "outputs": [
    {
     "name": "stderr",
     "output_type": "stream",
     "text": [
      "100%|██████████| 720/720 [00:15<00:00, 47.67it/s]\n"
     ]
    }
   ],
   "source": [
    "X_test_o = test_df_o.copy()\n",
    "\n",
    "X_test_o['Rental_Bicycles_Count'] = np.zeros(X_test_o.shape[0])\n",
    "\n",
    "for i in range(1, N_LAGS+1):\n",
    "    X_test_o[f'lag{i}_target'] = np.zeros(X_test_o.shape[0])\n",
    "\n",
    "for j in tqdm(range(X_test_o.shape[0])):\n",
    "    for i in range(1, N_LAGS+1):\n",
    "        if i - j > 0:\n",
    "            X_test_o.loc[X_test_o.index[j], f'lag{i}_target'] = y_valid_o.iloc[-i+j]['Rental_Bicycles_Count']\n",
    "        else:\n",
    "            X_test_o.loc[X_test_o.index[j], f'lag{i}_target'] = X_test_o.iloc[j-i]['Rental_Bicycles_Count']\n",
    "\n",
    "    for win in [4, 12]:\n",
    "        for lag in [1, 24]:\n",
    "            if j == 0:\n",
    "                temp_data = X_valid_o.iloc[-win:][f'lag{lag}_target']\n",
    "            elif j >= win:\n",
    "                temp_data = X_test_o.iloc[j-win:j][f'lag{lag}_target']\n",
    "            else:\n",
    "                temp_data = np.zeros(win)\n",
    "                temp_data[:win-j] = X_valid_o.iloc[-(win-j):][f'lag{lag}_target']\n",
    "                temp_data[win-j:] = X_test_o.iloc[0:j][f'lag{lag}_target']\n",
    "            X_test_o.loc[X_test_o.index[j], f\"rmean_{lag}_{win}\"] = np.mean(temp_data)\n",
    "            X_test_o.loc[X_test_o.index[j], f\"rstd_{lag}_{win}\"] = np.std(temp_data)\n",
    "\n",
    "    X_test_o.loc[X_test_o.index[j], 'Rental_Bicycles_Count'] = xgbr_o.predict(\n",
    "        np.array(list(X_test_o.iloc[j][xgboost_features_o])).reshape(1, -1)\n",
    "    )[0]\n",
    "\n",
    "y_test_pred_o = X_test_o[['Rental_Bicycles_Count']]"
   ]
  },
  {
   "cell_type": "code",
   "execution_count": 134,
   "metadata": {},
   "outputs": [
    {
     "data": {
      "image/png": "[encoded data removed]",
      "text/plain": [
       "<Figure size 1000x400 with 2 Axes>"
      ]
     },
     "metadata": {},
     "output_type": "display_data"
    }
   ],
   "source": [
    "fig = plt.figure(figsize=(10, 4))\n",
    "\n",
    "plt.subplot(1, 2, 1)\n",
    "plt.plot(y_test_pred_s)\n",
    "plt.title(\"subscribed\")\n",
    "plt.xticks(rotation=45)\n",
    "\n",
    "plt.subplot(1, 2, 2)\n",
    "plt.plot(y_valid_pred_o)\n",
    "plt.xticks(rotation=45)\n",
    "plt.title(\"occasional\")\n",
    "\n",
    "plt.suptitle(\"Rental predictions for the test set\", y=1.01)\n",
    "\n",
    "plt.tight_layout()"
   ]
  },
  {
   "cell_type": "code",
   "execution_count": 135,
   "metadata": {},
   "outputs": [
    {
     "data": {
      "text/html": [
       "<div>\n",
       "<style scoped>\n",
       "    .dataframe tbody tr th:only-of-type {\n",
       "        vertical-align: middle;\n",
       "    }\n",
       "\n",
       "    .dataframe tbody tr th {\n",
       "        vertical-align: top;\n",
       "    }\n",
       "\n",
       "    .dataframe thead th {\n",
       "        text-align: right;\n",
       "    }\n",
       "</style>\n",
       "<table border=\"1\" class=\"dataframe\">\n",
       "  <thead>\n",
       "    <tr style=\"text-align: right;\">\n",
       "      <th></th>\n",
       "      <th>Rental_Bicycles_Count</th>\n",
       "    </tr>\n",
       "  </thead>\n",
       "  <tbody>\n",
       "    <tr>\n",
       "      <th>0</th>\n",
       "      <td>183.972031</td>\n",
       "    </tr>\n",
       "    <tr>\n",
       "      <th>1</th>\n",
       "      <td>240.850494</td>\n",
       "    </tr>\n",
       "    <tr>\n",
       "      <th>2</th>\n",
       "      <td>135.288040</td>\n",
       "    </tr>\n",
       "    <tr>\n",
       "      <th>3</th>\n",
       "      <td>145.234634</td>\n",
       "    </tr>\n",
       "    <tr>\n",
       "      <th>4</th>\n",
       "      <td>89.195694</td>\n",
       "    </tr>\n",
       "  </tbody>\n",
       "</table>\n",
       "</div>"
      ],
      "text/plain": [
       "   Rental_Bicycles_Count\n",
       "0             183.972031\n",
       "1             240.850494\n",
       "2             135.288040\n",
       "3             145.234634\n",
       "4              89.195694"
      ]
     },
     "execution_count": 135,
     "metadata": {},
     "output_type": "execute_result"
    }
   ],
   "source": [
    "test_pred = pd.concat(\n",
    "    [\n",
    "        X_test_s[['index', 'Rental_Bicycles_Count']], \n",
    "        X_test_o[['index', 'Rental_Bicycles_Count']]\n",
    "    ]\n",
    ").sort_values('index', ascending=True).set_index('index')\n",
    "\n",
    "sub_df['Rental_Bicycles_Count'] = test_pred['Rental_Bicycles_Count']\n",
    "sub_df.to_csv('solution11_submit.csv', index=False)\n",
    "sub_df.head()"
   ]
  },
  {
   "cell_type": "code",
   "execution_count": 136,
   "metadata": {},
   "outputs": [
    {
     "data": {
      "text/html": [
       "<div>\n",
       "<style scoped>\n",
       "    .dataframe tbody tr th:only-of-type {\n",
       "        vertical-align: middle;\n",
       "    }\n",
       "\n",
       "    .dataframe tbody tr th {\n",
       "        vertical-align: top;\n",
       "    }\n",
       "\n",
       "    .dataframe thead th {\n",
       "        text-align: right;\n",
       "    }\n",
       "</style>\n",
       "<table border=\"1\" class=\"dataframe\">\n",
       "  <thead>\n",
       "    <tr style=\"text-align: right;\">\n",
       "      <th></th>\n",
       "      <th>Rental_Bicycles_Count</th>\n",
       "    </tr>\n",
       "  </thead>\n",
       "  <tbody>\n",
       "    <tr>\n",
       "      <th>0</th>\n",
       "      <td>184</td>\n",
       "    </tr>\n",
       "    <tr>\n",
       "      <th>1</th>\n",
       "      <td>241</td>\n",
       "    </tr>\n",
       "    <tr>\n",
       "      <th>2</th>\n",
       "      <td>135</td>\n",
       "    </tr>\n",
       "    <tr>\n",
       "      <th>3</th>\n",
       "      <td>145</td>\n",
       "    </tr>\n",
       "    <tr>\n",
       "      <th>4</th>\n",
       "      <td>89</td>\n",
       "    </tr>\n",
       "  </tbody>\n",
       "</table>\n",
       "</div>"
      ],
      "text/plain": [
       "   Rental_Bicycles_Count\n",
       "0                    184\n",
       "1                    241\n",
       "2                    135\n",
       "3                    145\n",
       "4                     89"
      ]
     },
     "execution_count": 136,
     "metadata": {},
     "output_type": "execute_result"
    }
   ],
   "source": [
    "sub_df['Rental_Bicycles_Count'] = test_pred['Rental_Bicycles_Count'].apply(lambda x: round(x))\n",
    "sub_df.to_csv('rounded_solution11_submit.csv', index=False)\n",
    "sub_df.head()"
   ]
  },
  {
   "cell_type": "code",
   "execution_count": 137,
   "metadata": {},
   "outputs": [
    {
     "data": {
      "text/html": [
       "<div>\n",
       "<style scoped>\n",
       "    .dataframe tbody tr th:only-of-type {\n",
       "        vertical-align: middle;\n",
       "    }\n",
       "\n",
       "    .dataframe tbody tr th {\n",
       "        vertical-align: top;\n",
       "    }\n",
       "\n",
       "    .dataframe thead th {\n",
       "        text-align: right;\n",
       "    }\n",
       "</style>\n",
       "<table border=\"1\" class=\"dataframe\">\n",
       "  <thead>\n",
       "    <tr style=\"text-align: right;\">\n",
       "      <th></th>\n",
       "      <th>subscribed</th>\n",
       "      <th>occasional</th>\n",
       "    </tr>\n",
       "  </thead>\n",
       "  <tbody>\n",
       "    <tr>\n",
       "      <th>0</th>\n",
       "      <td>9.533608</td>\n",
       "      <td>11.085679</td>\n",
       "    </tr>\n",
       "    <tr>\n",
       "      <th>1</th>\n",
       "      <td>11.366840</td>\n",
       "      <td>1.579756</td>\n",
       "    </tr>\n",
       "    <tr>\n",
       "      <th>2</th>\n",
       "      <td>1.663711</td>\n",
       "      <td>0.133297</td>\n",
       "    </tr>\n",
       "    <tr>\n",
       "      <th>3</th>\n",
       "      <td>-3.508587</td>\n",
       "      <td>-1.457313</td>\n",
       "    </tr>\n",
       "    <tr>\n",
       "      <th>4</th>\n",
       "      <td>7.532129</td>\n",
       "      <td>2.362867</td>\n",
       "    </tr>\n",
       "  </tbody>\n",
       "</table>\n",
       "</div>"
      ],
      "text/plain": [
       "   subscribed  occasional\n",
       "0    9.533608   11.085679\n",
       "1   11.366840    1.579756\n",
       "2    1.663711    0.133297\n",
       "3   -3.508587   -1.457313\n",
       "4    7.532129    2.362867"
      ]
     },
     "execution_count": 137,
     "metadata": {},
     "output_type": "execute_result"
    }
   ],
   "source": [
    "pred_df = pd.DataFrame()\n",
    "pred_df['subscribed'] = [i[0] for i in np.concatenate([y_train_pred_s, y_valid_s.values])]\n",
    "pred_df['occasional'] = [i[0] for i in np.concatenate([y_train_pred_o, y_valid_o.values])]\n",
    "pred_df.to_csv('pred_solution11.csv', index=False)\n",
    "pred_df.head()"
   ]
  },
  {
   "cell_type": "code",
   "execution_count": null,
   "metadata": {},
   "outputs": [],
   "source": []
  }
 ],
 "metadata": {
  "kernelspec": {
   "display_name": "ml_projects",
   "language": "python",
   "name": "python3"
  },
  "language_info": {
   "codemirror_mode": {
    "name": "ipython",
    "version": 3
   },
   "file_extension": ".py",
   "mimetype": "text/x-python",
   "name": "python",
   "nbconvert_exporter": "python",
   "pygments_lexer": "ipython3",
   "version": "3.10.14"
  }
 },
 "nbformat": 4,
 "nbformat_minor": 2
}
