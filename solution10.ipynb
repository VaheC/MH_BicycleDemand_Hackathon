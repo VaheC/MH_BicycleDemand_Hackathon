{
 "cells": [
  {
   "cell_type": "markdown",
   "id": "ca567018",
   "metadata": {
    "papermill": {
     "duration": 0.010607,
     "end_time": "2024-08-25T12:36:38.034572",
     "exception": false,
     "start_time": "2024-08-25T12:36:38.023965",
     "status": "completed"
    },
    "tags": []
   },
   "source": []
  },
  {
   "cell_type": "code",
   "execution_count": 1,
   "id": "72b01b7a",
   "metadata": {
    "execution": {
     "iopub.execute_input": "2024-08-25T12:36:38.056019Z",
     "iopub.status.busy": "2024-08-25T12:36:38.055246Z",
     "iopub.status.idle": "2024-08-25T12:36:42.954739Z",
     "shell.execute_reply": "2024-08-25T12:36:42.953348Z"
    },
    "papermill": {
     "duration": 4.913976,
     "end_time": "2024-08-25T12:36:42.958341",
     "exception": false,
     "start_time": "2024-08-25T12:36:38.044365",
     "status": "completed"
    },
    "tags": []
   },
   "outputs": [],
   "source": [
    "import matplotlib.pyplot as plt\n",
    "\n",
    "import numpy as np\n",
    "import pandas as pd\n",
    "\n",
    "from collections import defaultdict\n",
    "\n",
    "from scipy.stats import boxcox\n",
    "\n",
    "import torch\n",
    "import torch.nn as nn\n",
    "import torch.optim as optim\n",
    "import torch.utils.data as data\n",
    "\n",
    "from sklearn.preprocessing import StandardScaler, MinMaxScaler, RobustScaler\n",
    "from sklearn.metrics import mean_squared_error"
   ]
  },
  {
   "cell_type": "code",
   "execution_count": 2,
   "id": "934dd9c4",
   "metadata": {
    "execution": {
     "iopub.execute_input": "2024-08-25T12:36:42.993895Z",
     "iopub.status.busy": "2024-08-25T12:36:42.993122Z",
     "iopub.status.idle": "2024-08-25T12:36:54.379354Z",
     "shell.execute_reply": "2024-08-25T12:36:54.378357Z"
    },
    "papermill": {
     "duration": 11.407928,
     "end_time": "2024-08-25T12:36:54.381672",
     "exception": false,
     "start_time": "2024-08-25T12:36:42.973744",
     "status": "completed"
    },
    "tags": []
   },
   "outputs": [],
   "source": [
    "train_df = pd.read_excel('/kaggle/input/mh-rental-bicycle/Train.xlsx')\n",
    "test_df = pd.read_excel('/kaggle/input/mh-rental-bicycle/Test.xlsx')\n",
    "sub_df = pd.read_csv('/kaggle/input/mh-rental-bicycle/Submission.csv')"
   ]
  },
  {
   "cell_type": "code",
   "execution_count": 3,
   "id": "10ecbb08",
   "metadata": {
    "execution": {
     "iopub.execute_input": "2024-08-25T12:36:54.402632Z",
     "iopub.status.busy": "2024-08-25T12:36:54.402303Z",
     "iopub.status.idle": "2024-08-25T12:38:09.013743Z",
     "shell.execute_reply": "2024-08-25T12:38:09.012786Z"
    },
    "papermill": {
     "duration": 74.633753,
     "end_time": "2024-08-25T12:38:09.025350",
     "exception": false,
     "start_time": "2024-08-25T12:36:54.391597",
     "status": "completed"
    },
    "tags": []
   },
   "outputs": [
    {
     "name": "stdout",
     "output_type": "stream",
     "text": [
      "occasional: 97 missing dates\n",
      "subscribed: 50 missing dates\n"
     ]
    }
   ],
   "source": [
    "train_full_dates = pd.date_range(start='2013-01-01', end='2016-06-01', freq='60min')[:-1]\n",
    "\n",
    "missing_dates_dict = {}\n",
    "for user_type in train_df['User_type'].unique():\n",
    "    train_date = train_df[train_df['User_type']==user_type]['Datetime'].tolist()\n",
    "    missing_dates = [i for i in train_full_dates if i not in train_date]\n",
    "    missing_dates_dict[user_type] = missing_dates\n",
    "    print(f\"{user_type}: {len(missing_dates)} missing dates\")"
   ]
  },
  {
   "cell_type": "code",
   "execution_count": 4,
   "id": "b2df5f96",
   "metadata": {
    "execution": {
     "iopub.execute_input": "2024-08-25T12:38:09.046689Z",
     "iopub.status.busy": "2024-08-25T12:38:09.045986Z",
     "iopub.status.idle": "2024-08-25T12:38:09.090219Z",
     "shell.execute_reply": "2024-08-25T12:38:09.089170Z"
    },
    "papermill": {
     "duration": 0.057163,
     "end_time": "2024-08-25T12:38:09.092289",
     "exception": false,
     "start_time": "2024-08-25T12:38:09.035126",
     "status": "completed"
    },
    "tags": []
   },
   "outputs": [
    {
     "name": "stdout",
     "output_type": "stream",
     "text": [
      "(29878, 7) (29831, 7)\n"
     ]
    }
   ],
   "source": [
    "train_df.drop(columns='Unnamed: 0', inplace=True)\n",
    "\n",
    "train_df_s = train_df[train_df['User_type']=='subscribed'].reset_index(drop=True)\n",
    "train_df_s.sort_values('Datetime', ascending=True, inplace=True)\n",
    "train_df_o = train_df[train_df['User_type']=='occasional'].reset_index(drop=True)\n",
    "train_df_o.sort_values('Datetime', ascending=True, inplace=True)\n",
    "\n",
    "print(train_df_s.shape, train_df_o.shape)"
   ]
  },
  {
   "cell_type": "code",
   "execution_count": 5,
   "id": "59114067",
   "metadata": {
    "execution": {
     "iopub.execute_input": "2024-08-25T12:38:09.113654Z",
     "iopub.status.busy": "2024-08-25T12:38:09.113310Z",
     "iopub.status.idle": "2024-08-25T12:38:09.124432Z",
     "shell.execute_reply": "2024-08-25T12:38:09.123438Z"
    },
    "papermill": {
     "duration": 0.024304,
     "end_time": "2024-08-25T12:38:09.126624",
     "exception": false,
     "start_time": "2024-08-25T12:38:09.102320",
     "status": "completed"
    },
    "tags": []
   },
   "outputs": [
    {
     "name": "stdout",
     "output_type": "stream",
     "text": [
      "(720, 7) (720, 7)\n"
     ]
    }
   ],
   "source": [
    "test_df.rename(\n",
    "    columns={'Unnamed: 0': 'index'},\n",
    "    inplace=True\n",
    ")\n",
    "\n",
    "test_df_s = test_df[test_df['User_type']=='subscribed'].reset_index(drop=True)\n",
    "test_df_s.sort_values('Datetime', ascending=True, inplace=True)\n",
    "test_df_o = test_df[test_df['User_type']=='occasional'].reset_index(drop=True)\n",
    "test_df_o.sort_values('Datetime', ascending=True, inplace=True)\n",
    "\n",
    "print(test_df_s.shape, test_df_o.shape)"
   ]
  },
  {
   "cell_type": "code",
   "execution_count": 6,
   "id": "494a9007",
   "metadata": {
    "execution": {
     "iopub.execute_input": "2024-08-25T12:38:09.149324Z",
     "iopub.status.busy": "2024-08-25T12:38:09.148687Z",
     "iopub.status.idle": "2024-08-25T12:38:09.154830Z",
     "shell.execute_reply": "2024-08-25T12:38:09.153956Z"
    },
    "papermill": {
     "duration": 0.020188,
     "end_time": "2024-08-25T12:38:09.156978",
     "exception": false,
     "start_time": "2024-08-25T12:38:09.136790",
     "status": "completed"
    },
    "tags": []
   },
   "outputs": [
    {
     "name": "stdout",
     "output_type": "stream",
     "text": [
      "(720, 7) (29158, 7)\n",
      "(720, 7) (29111, 7)\n"
     ]
    }
   ],
   "source": [
    "valid_df_s = train_df_s.iloc[-720:]\n",
    "train_df_s = train_df_s.iloc[:-720]\n",
    "print(valid_df_s.shape, train_df_s.shape)\n",
    "\n",
    "valid_df_o = train_df_o.iloc[-720:]\n",
    "train_df_o = train_df_o.iloc[:-720]\n",
    "print(valid_df_o.shape, train_df_o.shape)"
   ]
  },
  {
   "cell_type": "code",
   "execution_count": 7,
   "id": "4118385d",
   "metadata": {
    "execution": {
     "iopub.execute_input": "2024-08-25T12:38:09.178721Z",
     "iopub.status.busy": "2024-08-25T12:38:09.178413Z",
     "iopub.status.idle": "2024-08-25T12:38:09.395411Z",
     "shell.execute_reply": "2024-08-25T12:38:09.394242Z"
    },
    "papermill": {
     "duration": 0.230525,
     "end_time": "2024-08-25T12:38:09.397554",
     "exception": false,
     "start_time": "2024-08-25T12:38:09.167029",
     "status": "completed"
    },
    "tags": []
   },
   "outputs": [
    {
     "name": "stdout",
     "output_type": "stream",
     "text": [
      "(720, 7) (29208, 7)\n",
      "(720, 7) (29208, 7)\n"
     ]
    }
   ],
   "source": [
    "for user_type in train_df['User_type'].unique():\n",
    "\n",
    "    if user_type == 'occasional':\n",
    "        temp_train_df = train_df_o.copy()\n",
    "    else:\n",
    "        temp_train_df = train_df_s.copy()\n",
    "\n",
    "    train_dict = defaultdict(list)\n",
    "    valid_dict = defaultdict(list)\n",
    "\n",
    "    for missing_date in missing_dates_dict[user_type]:\n",
    "\n",
    "        if missing_date < valid_df_s.iloc[0]['Datetime']:\n",
    "            train_dict['Datetime'].append(missing_date)\n",
    "            train_dict['St_Hour'].append(missing_date.hour)\n",
    "            train_dict['St_Day'].append(missing_date.day)\n",
    "            train_dict['St_Month'].append(missing_date.month)\n",
    "            train_dict['St_Year'].append(missing_date.year)\n",
    "#             train_dict['dayofweek'].append(missing_date.dayofweek)\n",
    "#             train_dict['weekofyear'].append(missing_date.isocalendar()[1])\n",
    "#             train_dict['dayofyear'].append(missing_date.dayofyear)\n",
    "            train_dict['User_type'].append(user_type)\n",
    "            temp_df = temp_train_df[\n",
    "                (temp_train_df['Datetime']<missing_date) & \n",
    "                (temp_train_df['St_Hour']==missing_date.hour)\n",
    "            ]\n",
    "            train_dict['Rental_Bicycles_Count'] = temp_df['Rental_Bicycles_Count'].median()\n",
    "        else:\n",
    "            valid_dict['Datetime'].append(missing_date)\n",
    "            valid_dict['St_Hour'].append(missing_date.hour)\n",
    "            valid_dict['St_Day'].append(missing_date.day)\n",
    "            valid_dict['St_Month'].append(missing_date.month)\n",
    "            valid_dict['St_Year'].append(missing_date.year)\n",
    "#             valid_dict['dayofweek'].append(missing_date.dayofweek)\n",
    "#             valid_dict['weekofyear'].append(missing_date.isocalendar()[1])\n",
    "#             valid_dict['dayofyear'].append(missing_date.dayofyear)\n",
    "            valid_dict['User_type'].append(user_type)\n",
    "            valid_dict['Rental_Bicycles_Count'] = temp_train_df[temp_train_df['St_Hour']==missing_date.hour]['Rental_Bicycles_Count'].median()\n",
    "\n",
    "    if user_type == 'occasional':\n",
    "        temp_train_df_o = pd.DataFrame(train_dict)\n",
    "        temp_train_df_o = temp_train_df_o[train_df_o.columns]\n",
    "        train_df_o = pd.concat([train_df_o, temp_train_df_o], axis=0).reset_index(drop=True)\n",
    "        train_df_o.sort_values('Datetime', ascending=True, inplace=True)\n",
    "\n",
    "        if len(valid_dict) != 0:\n",
    "            temp_valid_df_o = pd.DataFrame(valid_dict)\n",
    "            temp_valid_df_o = temp_valid_df_o[valid_df_o.columns]\n",
    "            valid_df_o = pd.concat([valid_df_o, temp_valid_df_o], axis=0).reset_index(drop=True)\n",
    "            valid_df_o.sort_values('Datetime', ascending=True, inplace=True)\n",
    "    else:\n",
    "        temp_train_df_s = pd.DataFrame(train_dict)\n",
    "        temp_train_df_s = temp_train_df_s[train_df_s.columns]\n",
    "        train_df_s = pd.concat([train_df_s, temp_train_df_s], axis=0).reset_index(drop=True)\n",
    "        train_df_s.sort_values('Datetime', ascending=True, inplace=True)\n",
    "\n",
    "        if len(valid_dict) != 0:\n",
    "            temp_valid_df_s = pd.DataFrame(valid_dict)\n",
    "            temp_valid_df_s = temp_valid_df_s[valid_df_s.columns]\n",
    "            valid_df_s = pd.concat([valid_df_s, temp_valid_df_s], axis=0).reset_index(drop=True)\n",
    "            valid_df_s.sort_values('Datetime', ascending=True, inplace=True)\n",
    "\n",
    "print(valid_df_s.shape, train_df_s.shape)\n",
    "print(valid_df_o.shape, train_df_o.shape)"
   ]
  },
  {
   "cell_type": "code",
   "execution_count": 8,
   "id": "aaa0582a",
   "metadata": {
    "execution": {
     "iopub.execute_input": "2024-08-25T12:38:09.420105Z",
     "iopub.status.busy": "2024-08-25T12:38:09.419749Z",
     "iopub.status.idle": "2024-08-25T12:38:09.841361Z",
     "shell.execute_reply": "2024-08-25T12:38:09.840359Z"
    },
    "papermill": {
     "duration": 0.434883,
     "end_time": "2024-08-25T12:38:09.843551",
     "exception": false,
     "start_time": "2024-08-25T12:38:09.408668",
     "status": "completed"
    },
    "tags": []
   },
   "outputs": [
    {
     "data": {
      "image/png": "[encoded data removed]",
      "text/plain": [
       "<Figure size 640x480 with 1 Axes>"
      ]
     },
     "metadata": {},
     "output_type": "display_data"
    }
   ],
   "source": [
    "transformed_data_s, best_lambda_s = boxcox(train_df_s['Rental_Bicycles_Count']) \n",
    "train_df_s['Rental_Bicycles_Count'] = transformed_data_s\n",
    "\n",
    "plt.hist(train_df_s['Rental_Bicycles_Count'], bins=20);"
   ]
  },
  {
   "cell_type": "code",
   "execution_count": 9,
   "id": "f2820fad",
   "metadata": {
    "execution": {
     "iopub.execute_input": "2024-08-25T12:38:09.865964Z",
     "iopub.status.busy": "2024-08-25T12:38:09.865617Z",
     "iopub.status.idle": "2024-08-25T12:38:10.227875Z",
     "shell.execute_reply": "2024-08-25T12:38:10.226945Z"
    },
    "papermill": {
     "duration": 0.375806,
     "end_time": "2024-08-25T12:38:10.230008",
     "exception": false,
     "start_time": "2024-08-25T12:38:09.854202",
     "status": "completed"
    },
    "tags": []
   },
   "outputs": [
    {
     "data": {
      "image/png": "[encoded data removed]",
      "text/plain": [
       "<Figure size 640x480 with 1 Axes>"
      ]
     },
     "metadata": {},
     "output_type": "display_data"
    }
   ],
   "source": [
    "transformed_data_o, best_lambda_o = boxcox(train_df_o['Rental_Bicycles_Count']) \n",
    "train_df_o['Rental_Bicycles_Count'] = transformed_data_o\n",
    "\n",
    "plt.hist(transformed_data_o, bins=20);"
   ]
  },
  {
   "cell_type": "code",
   "execution_count": 10,
   "id": "f2ebc881",
   "metadata": {
    "execution": {
     "iopub.execute_input": "2024-08-25T12:38:10.253138Z",
     "iopub.status.busy": "2024-08-25T12:38:10.252827Z",
     "iopub.status.idle": "2024-08-25T12:38:10.258872Z",
     "shell.execute_reply": "2024-08-25T12:38:10.257960Z"
    },
    "papermill": {
     "duration": 0.019912,
     "end_time": "2024-08-25T12:38:10.260883",
     "exception": false,
     "start_time": "2024-08-25T12:38:10.240971",
     "status": "completed"
    },
    "tags": []
   },
   "outputs": [],
   "source": [
    "def apply_box_cox_transform(x, lamdba):\n",
    "    if lamdba != 0:\n",
    "        x_tf = (x**lamdba - 1) / lamdba\n",
    "    else:\n",
    "        x_tf = np.log(x)\n",
    "        \n",
    "    return x_tf\n",
    "\n",
    "def invboxcox(x, lamdba):\n",
    "    if lamdba == 0:\n",
    "        reversed_x = np.exp(x)\n",
    "    else:\n",
    "        reversed_x = np.exp(np.log(lamdba*x+1)/lamdba)\n",
    "    return reversed_x"
   ]
  },
  {
   "cell_type": "code",
   "execution_count": 11,
   "id": "2ae5619b",
   "metadata": {
    "execution": {
     "iopub.execute_input": "2024-08-25T12:38:10.283465Z",
     "iopub.status.busy": "2024-08-25T12:38:10.283106Z",
     "iopub.status.idle": "2024-08-25T12:38:10.291635Z",
     "shell.execute_reply": "2024-08-25T12:38:10.290706Z"
    },
    "papermill": {
     "duration": 0.022022,
     "end_time": "2024-08-25T12:38:10.293541",
     "exception": false,
     "start_time": "2024-08-25T12:38:10.271519",
     "status": "completed"
    },
    "tags": []
   },
   "outputs": [],
   "source": [
    "valid_df_s['Rental_Bicycles_Count'] = valid_df_s['Rental_Bicycles_Count'].\\\n",
    "    apply(lambda x: apply_box_cox_transform(x, lamdba=best_lambda_s))\n",
    "\n",
    "valid_df_o['Rental_Bicycles_Count'] = valid_df_o['Rental_Bicycles_Count'].\\\n",
    "    apply(lambda x: apply_box_cox_transform(x, lamdba=best_lambda_o))"
   ]
  },
  {
   "cell_type": "code",
   "execution_count": 12,
   "id": "4ee568de",
   "metadata": {
    "execution": {
     "iopub.execute_input": "2024-08-25T12:38:10.316081Z",
     "iopub.status.busy": "2024-08-25T12:38:10.315749Z",
     "iopub.status.idle": "2024-08-25T12:38:10.329798Z",
     "shell.execute_reply": "2024-08-25T12:38:10.329077Z"
    },
    "papermill": {
     "duration": 0.027629,
     "end_time": "2024-08-25T12:38:10.331701",
     "exception": false,
     "start_time": "2024-08-25T12:38:10.304072",
     "status": "completed"
    },
    "tags": []
   },
   "outputs": [],
   "source": [
    "scaler_s = MinMaxScaler()\n",
    "\n",
    "train_df_s['Rental_Bicycles_Count'] = scaler_s.fit_transform(train_df_s['Rental_Bicycles_Count'].to_frame())\n",
    "valid_df_s['Rental_Bicycles_Count'] = scaler_s.transform(valid_df_s['Rental_Bicycles_Count'].to_frame())\n",
    "\n",
    "scaler_o = MinMaxScaler()\n",
    "\n",
    "train_df_o['Rental_Bicycles_Count'] = scaler_o.fit_transform(train_df_o['Rental_Bicycles_Count'].to_frame())\n",
    "valid_df_o['Rental_Bicycles_Count'] = scaler_o.transform(valid_df_o['Rental_Bicycles_Count'].to_frame())"
   ]
  },
  {
   "cell_type": "code",
   "execution_count": 13,
   "id": "b705b0d8",
   "metadata": {
    "execution": {
     "iopub.execute_input": "2024-08-25T12:38:10.354413Z",
     "iopub.status.busy": "2024-08-25T12:38:10.354069Z",
     "iopub.status.idle": "2024-08-25T12:38:10.360834Z",
     "shell.execute_reply": "2024-08-25T12:38:10.359836Z"
    },
    "papermill": {
     "duration": 0.020298,
     "end_time": "2024-08-25T12:38:10.362774",
     "exception": false,
     "start_time": "2024-08-25T12:38:10.342476",
     "status": "completed"
    },
    "tags": []
   },
   "outputs": [
    {
     "name": "stdout",
     "output_type": "stream",
     "text": [
      "(29208,) (29208,)\n",
      "(720,) (720,)\n"
     ]
    }
   ],
   "source": [
    "train_ts_s = train_df_s['Rental_Bicycles_Count'].values.astype('float32')\n",
    "train_ts_o = train_df_o['Rental_Bicycles_Count'].values.astype('float32')\n",
    "\n",
    "valid_ts_s = valid_df_s['Rental_Bicycles_Count'].values.astype('float32')\n",
    "valid_ts_o = valid_df_o['Rental_Bicycles_Count'].values.astype('float32')\n",
    "\n",
    "print(train_ts_s.shape, train_ts_o.shape)\n",
    "print(valid_ts_s.shape, valid_ts_o.shape)"
   ]
  },
  {
   "cell_type": "code",
   "execution_count": 14,
   "id": "2a352c46",
   "metadata": {
    "execution": {
     "iopub.execute_input": "2024-08-25T12:38:10.385489Z",
     "iopub.status.busy": "2024-08-25T12:38:10.385159Z",
     "iopub.status.idle": "2024-08-25T12:38:10.637573Z",
     "shell.execute_reply": "2024-08-25T12:38:10.636583Z"
    },
    "papermill": {
     "duration": 0.266163,
     "end_time": "2024-08-25T12:38:10.639583",
     "exception": false,
     "start_time": "2024-08-25T12:38:10.373420",
     "status": "completed"
    },
    "tags": []
   },
   "outputs": [
    {
     "data": {
      "image/png": "[encoded data removed]",
      "text/plain": [
       "<Figure size 640x480 with 1 Axes>"
      ]
     },
     "metadata": {},
     "output_type": "display_data"
    }
   ],
   "source": [
    "plt.hist(train_ts_s);"
   ]
  },
  {
   "cell_type": "code",
   "execution_count": 15,
   "id": "4b4ba29c",
   "metadata": {
    "execution": {
     "iopub.execute_input": "2024-08-25T12:38:10.663089Z",
     "iopub.status.busy": "2024-08-25T12:38:10.662718Z",
     "iopub.status.idle": "2024-08-25T12:38:10.906668Z",
     "shell.execute_reply": "2024-08-25T12:38:10.905723Z"
    },
    "papermill": {
     "duration": 0.257987,
     "end_time": "2024-08-25T12:38:10.908741",
     "exception": false,
     "start_time": "2024-08-25T12:38:10.650754",
     "status": "completed"
    },
    "tags": []
   },
   "outputs": [
    {
     "data": {
      "image/png": "[encoded data removed]",
      "text/plain": [
       "<Figure size 640x480 with 1 Axes>"
      ]
     },
     "metadata": {},
     "output_type": "display_data"
    }
   ],
   "source": [
    "plt.hist(train_ts_o);"
   ]
  },
  {
   "cell_type": "code",
   "execution_count": 16,
   "id": "1b84e855",
   "metadata": {
    "execution": {
     "iopub.execute_input": "2024-08-25T12:38:10.932834Z",
     "iopub.status.busy": "2024-08-25T12:38:10.932091Z",
     "iopub.status.idle": "2024-08-25T12:38:10.938717Z",
     "shell.execute_reply": "2024-08-25T12:38:10.937928Z"
    },
    "papermill": {
     "duration": 0.020532,
     "end_time": "2024-08-25T12:38:10.940564",
     "exception": false,
     "start_time": "2024-08-25T12:38:10.920032",
     "status": "completed"
    },
    "tags": []
   },
   "outputs": [],
   "source": [
    "def create_dataset(dataset, lookback):\n",
    "    \"\"\"Transform a time series into a prediction dataset\n",
    "    \n",
    "    Args:\n",
    "        dataset: A numpy array of time series, first dimension is the time steps\n",
    "        lookback: Size of window for prediction\n",
    "    \"\"\"\n",
    "    X, y = [], []\n",
    "    for i in range(len(dataset)-lookback):\n",
    "        feature = dataset[i:i+lookback]\n",
    "        target = dataset[i+1:i+lookback+1]\n",
    "        X.append(feature)\n",
    "        y.append(target)\n",
    "    return torch.tensor(X).unsqueeze(2), torch.tensor(y).unsqueeze(2)"
   ]
  },
  {
   "cell_type": "code",
   "execution_count": 17,
   "id": "6da32d77",
   "metadata": {
    "execution": {
     "iopub.execute_input": "2024-08-25T12:38:10.964108Z",
     "iopub.status.busy": "2024-08-25T12:38:10.963782Z",
     "iopub.status.idle": "2024-08-25T12:38:12.011047Z",
     "shell.execute_reply": "2024-08-25T12:38:12.009897Z"
    },
    "papermill": {
     "duration": 1.061412,
     "end_time": "2024-08-25T12:38:12.013145",
     "exception": false,
     "start_time": "2024-08-25T12:38:10.951733",
     "status": "completed"
    },
    "tags": []
   },
   "outputs": [
    {
     "name": "stderr",
     "output_type": "stream",
     "text": [
      "/tmp/ipykernel_23/1171032600.py:14: UserWarning: Creating a tensor from a list of numpy.ndarrays is extremely slow. Please consider converting the list to a single numpy.ndarray with numpy.array() before converting to a tensor. (Triggered internally at /usr/local/src/pytorch/torch/csrc/utils/tensor_new.cpp:278.)\n",
      "  return torch.tensor(X).unsqueeze(2), torch.tensor(y).unsqueeze(2)\n"
     ]
    },
    {
     "name": "stdout",
     "output_type": "stream",
     "text": [
      "torch.Size([29184, 24, 1]) torch.Size([29184, 24, 1])\n",
      "torch.Size([696, 24, 1]) torch.Size([696, 24, 1])\n",
      "torch.Size([29184, 24, 1]) torch.Size([29184, 24, 1])\n",
      "torch.Size([696, 24, 1]) torch.Size([696, 24, 1])\n"
     ]
    }
   ],
   "source": [
    "LOOKBACK = 24\n",
    "\n",
    "X_train_s, y_train_s = create_dataset(train_ts_s, lookback=LOOKBACK)\n",
    "X_valid_s, y_valid_s = create_dataset(valid_ts_s, lookback=LOOKBACK)\n",
    "print(X_train_s.shape, y_train_s.shape)\n",
    "print(X_valid_s.shape, y_valid_s.shape)\n",
    "\n",
    "X_train_o, y_train_o = create_dataset(train_ts_o, lookback=LOOKBACK)\n",
    "X_valid_o, y_valid_o = create_dataset(valid_ts_o, lookback=LOOKBACK)\n",
    "print(X_train_o.shape, y_train_o.shape)\n",
    "print(X_valid_o.shape, y_valid_o.shape)"
   ]
  },
  {
   "cell_type": "code",
   "execution_count": 18,
   "id": "3c72b4a3",
   "metadata": {
    "execution": {
     "iopub.execute_input": "2024-08-25T12:38:12.037261Z",
     "iopub.status.busy": "2024-08-25T12:38:12.036919Z",
     "iopub.status.idle": "2024-08-25T12:38:12.042906Z",
     "shell.execute_reply": "2024-08-25T12:38:12.042005Z"
    },
    "papermill": {
     "duration": 0.020104,
     "end_time": "2024-08-25T12:38:12.044820",
     "exception": false,
     "start_time": "2024-08-25T12:38:12.024716",
     "status": "completed"
    },
    "tags": []
   },
   "outputs": [],
   "source": [
    "class RentalModel(nn.Module):\n",
    "    def __init__(self):\n",
    "        super().__init__()\n",
    "        self.lstm = nn.GRU(input_size=1, hidden_size=50, num_layers=1, batch_first=True)\n",
    "        self.linear = nn.Linear(50, 1)\n",
    "    def forward(self, x):\n",
    "        x, _ = self.lstm(x)\n",
    "        x = self.linear(x)\n",
    "        return x"
   ]
  },
  {
   "cell_type": "code",
   "execution_count": 19,
   "id": "53e0fc98",
   "metadata": {
    "execution": {
     "iopub.execute_input": "2024-08-25T12:38:12.069017Z",
     "iopub.status.busy": "2024-08-25T12:38:12.068732Z",
     "iopub.status.idle": "2024-08-25T12:38:12.073229Z",
     "shell.execute_reply": "2024-08-25T12:38:12.072343Z"
    },
    "papermill": {
     "duration": 0.018721,
     "end_time": "2024-08-25T12:38:12.075090",
     "exception": false,
     "start_time": "2024-08-25T12:38:12.056369",
     "status": "completed"
    },
    "tags": []
   },
   "outputs": [],
   "source": [
    "# class RentalModel(nn.Module):\n",
    "    \n",
    "#     def __init__(self):\n",
    "#         super().__init__()\n",
    "#         self.lstm = nn.LSTM(input_size=1, hidden_size=128, num_layers=2, batch_first=True, dropout=1)\n",
    "#         self.linear1 = nn.Linear(128, 64)\n",
    "#         self.linear2 = nn.Linear(64, 32)\n",
    "#         self.linear3 = nn.Linear(32, 1)\n",
    "#         self.act = nn.ReLU()\n",
    "#         self.dropout = nn.Dropout(0.2)\n",
    "        \n",
    "#     def forward(self, x):\n",
    "#         x, _ = self.lstm(x)\n",
    "#         x = self.act(self.linear1(x))\n",
    "#         x = self.dropout(x)\n",
    "#         x = self.act(self.linear2(x))\n",
    "#         x = self.dropout(x)\n",
    "#         x = self.linear3(x)\n",
    "#         return x"
   ]
  },
  {
   "cell_type": "code",
   "execution_count": 20,
   "id": "25e72f50",
   "metadata": {
    "execution": {
     "iopub.execute_input": "2024-08-25T12:38:12.099819Z",
     "iopub.status.busy": "2024-08-25T12:38:12.099531Z",
     "iopub.status.idle": "2024-08-25T12:38:12.103397Z",
     "shell.execute_reply": "2024-08-25T12:38:12.102491Z"
    },
    "papermill": {
     "duration": 0.017893,
     "end_time": "2024-08-25T12:38:12.105255",
     "exception": false,
     "start_time": "2024-08-25T12:38:12.087362",
     "status": "completed"
    },
    "tags": []
   },
   "outputs": [],
   "source": [
    "# train_df.drop(columns='Unnamed: 0', inplace=True)\n",
    "\n",
    "# train_df_s = train_df[train_df['User_type']=='subscribed'].reset_index(drop=True)\n",
    "# train_df_s.sort_values('Datetime', ascending=True, inplace=True)\n",
    "# train_df_o = train_df[train_df['User_type']=='occasional'].reset_index(drop=True)\n",
    "# train_df_o.sort_values('Datetime', ascending=True, inplace=True)\n",
    "\n",
    "# print(train_df_s.shape, train_df_o.shape)"
   ]
  },
  {
   "cell_type": "code",
   "execution_count": 21,
   "id": "9d69cce3",
   "metadata": {
    "execution": {
     "iopub.execute_input": "2024-08-25T12:38:12.129886Z",
     "iopub.status.busy": "2024-08-25T12:38:12.129585Z",
     "iopub.status.idle": "2024-08-25T12:38:12.220175Z",
     "shell.execute_reply": "2024-08-25T12:38:12.219223Z"
    },
    "papermill": {
     "duration": 0.105351,
     "end_time": "2024-08-25T12:38:12.222049",
     "exception": false,
     "start_time": "2024-08-25T12:38:12.116698",
     "status": "completed"
    },
    "tags": []
   },
   "outputs": [
    {
     "data": {
      "text/plain": [
       "'cuda'"
      ]
     },
     "execution_count": 21,
     "metadata": {},
     "output_type": "execute_result"
    }
   ],
   "source": [
    "device = 'cuda' if torch.cuda.is_available() else 'cpu'\n",
    "device"
   ]
  },
  {
   "cell_type": "code",
   "execution_count": 22,
   "id": "858de107",
   "metadata": {
    "execution": {
     "iopub.execute_input": "2024-08-25T12:38:12.246958Z",
     "iopub.status.busy": "2024-08-25T12:38:12.246637Z",
     "iopub.status.idle": "2024-08-25T12:49:39.018292Z",
     "shell.execute_reply": "2024-08-25T12:49:39.017018Z"
    },
    "papermill": {
     "duration": 686.787198,
     "end_time": "2024-08-25T12:49:39.021141",
     "exception": false,
     "start_time": "2024-08-25T12:38:12.233943",
     "status": "completed"
    },
    "tags": []
   },
   "outputs": [
    {
     "name": "stdout",
     "output_type": "stream",
     "text": [
      "Epoch 0: train RMSE 0.0908, valid RMSE 0.0656\n",
      "Epoch 100: train RMSE 0.0386, valid RMSE 0.0445\n",
      "Epoch 200: train RMSE 0.0375, valid RMSE 0.0446\n"
     ]
    }
   ],
   "source": [
    "model_s = RentalModel()\n",
    "model_s = model_s.to(device)\n",
    "optimizer = optim.Adam(model_s.parameters())\n",
    "loss_fn = nn.MSELoss()\n",
    "loader = data.DataLoader(data.TensorDataset(X_train_s, y_train_s), shuffle=True, batch_size=32)\n",
    " \n",
    "n_epochs = 300\n",
    "\n",
    "train_losses = []\n",
    "valid_losses = []\n",
    "\n",
    "for epoch in range(n_epochs):\n",
    "    temp_train_losses = []\n",
    "    model_s.train()\n",
    "    for X_batch, y_batch in loader:\n",
    "        X_batch = X_batch.to(device)\n",
    "        y_batch = y_batch.to(device)\n",
    "        y_pred = model_s(X_batch)\n",
    "        loss = loss_fn(y_pred, y_batch)\n",
    "        temp_train_losses.append(np.sqrt(loss.detach().cpu().numpy()))\n",
    "        optimizer.zero_grad()\n",
    "        loss.backward()\n",
    "        optimizer.step()\n",
    "    train_rmse = np.mean(temp_train_losses)\n",
    "    train_losses.append(train_rmse)\n",
    "    \n",
    "    # Validation\n",
    "    model_s.eval()\n",
    "    with torch.no_grad():\n",
    "#         y_pred = model_s(X_train_s.to(device)).cpu()\n",
    "#         train_rmse = np.sqrt(loss_fn(y_pred, y_train_s))\n",
    "        y_pred = model_s(X_valid_s.to(device)).cpu()\n",
    "        valid_rmse = np.sqrt(loss_fn(y_pred, y_valid_s))\n",
    "        valid_losses.append(valid_rmse)\n",
    "        \n",
    "    if epoch % 100 != 0:\n",
    "        continue\n",
    "    print(\"Epoch %d: train RMSE %.4f, valid RMSE %.4f\" % (epoch, train_rmse, valid_rmse))"
   ]
  },
  {
   "cell_type": "code",
   "execution_count": 23,
   "id": "c1086d1b",
   "metadata": {
    "execution": {
     "iopub.execute_input": "2024-08-25T12:49:39.049263Z",
     "iopub.status.busy": "2024-08-25T12:49:39.048643Z",
     "iopub.status.idle": "2024-08-25T12:49:39.274050Z",
     "shell.execute_reply": "2024-08-25T12:49:39.273073Z"
    },
    "papermill": {
     "duration": 0.242112,
     "end_time": "2024-08-25T12:49:39.276423",
     "exception": false,
     "start_time": "2024-08-25T12:49:39.034311",
     "status": "completed"
    },
    "tags": []
   },
   "outputs": [
    {
     "data": {
      "image/png": "[encoded data removed]",
      "text/plain": [
       "<Figure size 640x480 with 1 Axes>"
      ]
     },
     "metadata": {},
     "output_type": "display_data"
    }
   ],
   "source": [
    "plt.plot(np.arange(len(train_losses)), train_losses, label='train')\n",
    "plt.plot(np.arange(len(valid_losses)), train_losses, label='valid')\n",
    "plt.ylabel('Loss')\n",
    "plt.xlabel('Epoch')\n",
    "plt.legend()\n",
    "plt.show()"
   ]
  },
  {
   "cell_type": "code",
   "execution_count": 24,
   "id": "c7c0e01b",
   "metadata": {
    "execution": {
     "iopub.execute_input": "2024-08-25T12:49:39.304645Z",
     "iopub.status.busy": "2024-08-25T12:49:39.304256Z",
     "iopub.status.idle": "2024-08-25T12:49:39.924625Z",
     "shell.execute_reply": "2024-08-25T12:49:39.923553Z"
    },
    "papermill": {
     "duration": 0.637439,
     "end_time": "2024-08-25T12:49:39.927287",
     "exception": false,
     "start_time": "2024-08-25T12:49:39.289848",
     "status": "completed"
    },
    "tags": []
   },
   "outputs": [
    {
     "data": {
      "image/png": "[encoded data removed]",
      "text/plain": [
       "<Figure size 640x480 with 1 Axes>"
      ]
     },
     "metadata": {},
     "output_type": "display_data"
    }
   ],
   "source": [
    "model_s.eval()\n",
    "\n",
    "timeseries = pd.concat(\n",
    "        [\n",
    "            train_df_s[[\"Rental_Bicycles_Count\"]],\n",
    "            valid_df_s[[\"Rental_Bicycles_Count\"]],\n",
    "        ],\n",
    "        axis=0\n",
    "    ).values.astype('float32')\n",
    "\n",
    "with torch.no_grad():\n",
    "    # shift train predictions for plotting\n",
    "    train_plot = np.ones_like(timeseries) * np.nan\n",
    "    y_pred = model_s(X_train_s.to(device)).cpu()\n",
    "    y_pred = y_pred[:, -1, :]\n",
    "    train_plot[LOOKBACK:train_df_s.shape[0]] = model_s(X_train_s.to(device)).cpu()[:, -1, :]\n",
    "    # shift valid predictions for plotting\n",
    "    valid_plot = np.ones_like(timeseries) * np.nan\n",
    "    valid_plot[train_df_s.shape[0]+LOOKBACK:len(timeseries)] = model_s(X_valid_s.to(device)).cpu()[:, -1, :]\n",
    "\n",
    "    for i in range(LOOKBACK):\n",
    "        if i != 0:\n",
    "            temp_valid = np.zeros(LOOKBACK)\n",
    "            temp_valid[:LOOKBACK-i] = train_df_s.iloc[-(LOOKBACK-i):][\"Rental_Bicycles_Count\"].values\n",
    "            temp_valid[LOOKBACK-i:] = valid_plot[train_df_s.shape[0]:train_df_s.shape[0]+i].reshape(-1,)\n",
    "        else:\n",
    "            temp_valid = train_df_s.iloc[-(LOOKBACK-i):][\"Rental_Bicycles_Count\"].values\n",
    "        temp_valid = torch.as_tensor(temp_valid).view(1, -1, 1).float()\n",
    "        valid_plot[train_df_s.shape[0]+i] = model_s(temp_valid.to(device)).cpu()[:, -1, :]\n",
    "\n",
    "# plot\n",
    "plt.plot(timeseries, c='b')\n",
    "plt.plot(train_plot, c='r')\n",
    "plt.plot(valid_plot, c='g')\n",
    "plt.show()"
   ]
  },
  {
   "cell_type": "code",
   "execution_count": 25,
   "id": "4fcf2b61",
   "metadata": {
    "execution": {
     "iopub.execute_input": "2024-08-25T12:49:39.956999Z",
     "iopub.status.busy": "2024-08-25T12:49:39.956309Z",
     "iopub.status.idle": "2024-08-25T12:49:40.312037Z",
     "shell.execute_reply": "2024-08-25T12:49:40.310845Z"
    },
    "papermill": {
     "duration": 0.373015,
     "end_time": "2024-08-25T12:49:40.314522",
     "exception": false,
     "start_time": "2024-08-25T12:49:39.941507",
     "status": "completed"
    },
    "tags": []
   },
   "outputs": [
    {
     "name": "stdout",
     "output_type": "stream",
     "text": [
      "subscribed: Train RMSE: 348.96, Validation RMSE: 561.40\n"
     ]
    }
   ],
   "source": [
    "train_inv_scaler_values_s = scaler_s.inverse_transform(train_plot[LOOKBACK:len(train_plot)-720])\n",
    "train_inv_bc_values_s = [invboxcox(x, lamdba=best_lambda_s)[0] for x in train_inv_scaler_values_s]\n",
    "train_score = np.sqrt(\n",
    "    mean_squared_error(train_df_s.iloc[LOOKBACK:]['Rental_Bicycles_Count'], train_inv_bc_values_s)\n",
    ")\n",
    "\n",
    "valid_inv_scaler_values_s = scaler_s.inverse_transform(valid_plot[train_df_s.shape[0]:])\n",
    "valid_inv_bc_values_s = [invboxcox(x, lamdba=best_lambda_s)[0] for x in valid_inv_scaler_values_s]\n",
    "valid_score = np.sqrt(mean_squared_error(valid_df_s['Rental_Bicycles_Count'], valid_inv_bc_values_s))\n",
    "\n",
    "print(f\"subscribed: Train RMSE: {train_score:.2f}, Validation RMSE: {valid_score:.2f}\")"
   ]
  },
  {
   "cell_type": "code",
   "execution_count": 26,
   "id": "63c9061c",
   "metadata": {
    "execution": {
     "iopub.execute_input": "2024-08-25T12:49:40.346262Z",
     "iopub.status.busy": "2024-08-25T12:49:40.345776Z",
     "iopub.status.idle": "2024-08-25T12:49:40.703427Z",
     "shell.execute_reply": "2024-08-25T12:49:40.702454Z"
    },
    "papermill": {
     "duration": 0.376365,
     "end_time": "2024-08-25T12:49:40.706295",
     "exception": false,
     "start_time": "2024-08-25T12:49:40.329930",
     "status": "completed"
    },
    "tags": []
   },
   "outputs": [],
   "source": [
    "test_pred = np.zeros((720, 1))\n",
    "\n",
    "for i in range(LOOKBACK):\n",
    "    if i != 0:\n",
    "        temp_test = np.zeros(LOOKBACK)\n",
    "        temp_test[:LOOKBACK-i] = valid_df_s.iloc[-(LOOKBACK-i):][\"Rental_Bicycles_Count\"].values\n",
    "        temp_test[LOOKBACK-i:] = test_pred[:i].reshape(-1,)\n",
    "    else:\n",
    "        temp_test = valid_df_s.iloc[-(LOOKBACK-i):][\"Rental_Bicycles_Count\"].values\n",
    "    temp_test = torch.as_tensor(temp_test).view(1, -1, 1).float()\n",
    "    test_pred[i] = model_s(temp_test.to(device)).detach().cpu()[:, -1, :]\n",
    "    \n",
    "for i in range(LOOKBACK, test_pred.shape[0]):\n",
    "    temp_test = test_pred[i-LOOKBACK:i]\n",
    "    temp_test = torch.as_tensor(temp_test).view(1, -1, 1).float()\n",
    "    test_pred[i] = model_s(temp_test.to(device)).detach().cpu()[:, -1, :]\n",
    "    \n",
    "test_inv_scaler_values_s = scaler_s.inverse_transform(test_pred.reshape(-1, 1))\n",
    "test_inv_bc_values_s = [invboxcox(x, lamdba=best_lambda_s)[0] for x in test_inv_scaler_values_s]"
   ]
  },
  {
   "cell_type": "code",
   "execution_count": 27,
   "id": "79e8b28a",
   "metadata": {
    "execution": {
     "iopub.execute_input": "2024-08-25T12:49:40.737040Z",
     "iopub.status.busy": "2024-08-25T12:49:40.736131Z",
     "iopub.status.idle": "2024-08-25T12:49:40.758636Z",
     "shell.execute_reply": "2024-08-25T12:49:40.757559Z"
    },
    "papermill": {
     "duration": 0.039814,
     "end_time": "2024-08-25T12:49:40.760944",
     "exception": false,
     "start_time": "2024-08-25T12:49:40.721130",
     "status": "completed"
    },
    "tags": []
   },
   "outputs": [
    {
     "data": {
      "text/html": [
       "<div>\n",
       "<style scoped>\n",
       "    .dataframe tbody tr th:only-of-type {\n",
       "        vertical-align: middle;\n",
       "    }\n",
       "\n",
       "    .dataframe tbody tr th {\n",
       "        vertical-align: top;\n",
       "    }\n",
       "\n",
       "    .dataframe thead th {\n",
       "        text-align: right;\n",
       "    }\n",
       "</style>\n",
       "<table border=\"1\" class=\"dataframe\">\n",
       "  <thead>\n",
       "    <tr style=\"text-align: right;\">\n",
       "      <th></th>\n",
       "      <th>index</th>\n",
       "      <th>Rental_Bicycles_Count</th>\n",
       "    </tr>\n",
       "  </thead>\n",
       "  <tbody>\n",
       "    <tr>\n",
       "      <th>0</th>\n",
       "      <td>1</td>\n",
       "      <td>336.352002</td>\n",
       "    </tr>\n",
       "    <tr>\n",
       "      <th>1</th>\n",
       "      <td>3</td>\n",
       "      <td>245.362397</td>\n",
       "    </tr>\n",
       "    <tr>\n",
       "      <th>2</th>\n",
       "      <td>5</td>\n",
       "      <td>180.790396</td>\n",
       "    </tr>\n",
       "    <tr>\n",
       "      <th>3</th>\n",
       "      <td>7</td>\n",
       "      <td>83.639060</td>\n",
       "    </tr>\n",
       "    <tr>\n",
       "      <th>4</th>\n",
       "      <td>9</td>\n",
       "      <td>34.191518</td>\n",
       "    </tr>\n",
       "  </tbody>\n",
       "</table>\n",
       "</div>"
      ],
      "text/plain": [
       "   index  Rental_Bicycles_Count\n",
       "0      1             336.352002\n",
       "1      3             245.362397\n",
       "2      5             180.790396\n",
       "3      7              83.639060\n",
       "4      9              34.191518"
      ]
     },
     "execution_count": 27,
     "metadata": {},
     "output_type": "execute_result"
    }
   ],
   "source": [
    "X_test_s = pd.DataFrame()\n",
    "X_test_s['index'] = test_df_s['index']\n",
    "X_test_s['Rental_Bicycles_Count'] = test_inv_bc_values_s\n",
    "X_test_s.head()"
   ]
  },
  {
   "cell_type": "code",
   "execution_count": 28,
   "id": "db9aa383",
   "metadata": {
    "execution": {
     "iopub.execute_input": "2024-08-25T12:49:40.793024Z",
     "iopub.status.busy": "2024-08-25T12:49:40.792645Z",
     "iopub.status.idle": "2024-08-25T13:01:06.635827Z",
     "shell.execute_reply": "2024-08-25T13:01:06.634915Z"
    },
    "papermill": {
     "duration": 685.861264,
     "end_time": "2024-08-25T13:01:06.638148",
     "exception": false,
     "start_time": "2024-08-25T12:49:40.776884",
     "status": "completed"
    },
    "tags": []
   },
   "outputs": [
    {
     "name": "stdout",
     "output_type": "stream",
     "text": [
      "Epoch 0: train RMSE 0.0875, valid RMSE 0.0639\n",
      "Epoch 100: train RMSE 0.0455, valid RMSE 0.0513\n",
      "Epoch 200: train RMSE 0.0442, valid RMSE 0.0519\n"
     ]
    }
   ],
   "source": [
    "model_o = RentalModel()\n",
    "model_o = model_o.to(device)\n",
    "optimizer = optim.Adam(model_o.parameters())\n",
    "loss_fn = nn.MSELoss()\n",
    "loader = data.DataLoader(data.TensorDataset(X_train_o, y_train_o), shuffle=True, batch_size=32)\n",
    " \n",
    "n_epochs = 300\n",
    "\n",
    "train_losses = []\n",
    "valid_losses = []\n",
    "\n",
    "for epoch in range(n_epochs):\n",
    "    temp_train_losses = []\n",
    "    model_o.train()\n",
    "    for X_batch, y_batch in loader:\n",
    "        X_batch = X_batch.to(device)\n",
    "        y_batch = y_batch.to(device)\n",
    "        y_pred = model_o(X_batch)\n",
    "        loss = loss_fn(y_pred, y_batch)\n",
    "        temp_train_losses.append(np.sqrt(loss.detach().cpu().numpy()))\n",
    "        optimizer.zero_grad()\n",
    "        loss.backward()\n",
    "        optimizer.step()\n",
    "    train_rmse = np.mean(temp_train_losses)\n",
    "    train_losses.append(train_rmse)\n",
    "    \n",
    "    # Validation\n",
    "    model_o.eval()\n",
    "    with torch.no_grad():\n",
    "#         y_pred = model_o(X_train_o.to(device)).cpu()\n",
    "#         train_rmse = np.sqrt(loss_fn(y_pred, y_train_o))\n",
    "        y_pred = model_o(X_valid_o.to(device)).cpu()\n",
    "        valid_rmse = np.sqrt(loss_fn(y_pred, y_valid_o))\n",
    "        valid_losses.append(valid_rmse)\n",
    "        \n",
    "    if epoch % 100 != 0:\n",
    "        continue\n",
    "    print(\"Epoch %d: train RMSE %.4f, valid RMSE %.4f\" % (epoch, train_rmse, valid_rmse))"
   ]
  },
  {
   "cell_type": "code",
   "execution_count": 29,
   "id": "efce029c",
   "metadata": {
    "execution": {
     "iopub.execute_input": "2024-08-25T13:01:06.666549Z",
     "iopub.status.busy": "2024-08-25T13:01:06.666204Z",
     "iopub.status.idle": "2024-08-25T13:01:06.843940Z",
     "shell.execute_reply": "2024-08-25T13:01:06.842983Z"
    },
    "papermill": {
     "duration": 0.193969,
     "end_time": "2024-08-25T13:01:06.845844",
     "exception": false,
     "start_time": "2024-08-25T13:01:06.651875",
     "status": "completed"
    },
    "tags": []
   },
   "outputs": [
    {
     "data": {
      "image/png": "[encoded data removed]",
      "text/plain": [
       "<Figure size 640x480 with 1 Axes>"
      ]
     },
     "metadata": {},
     "output_type": "display_data"
    }
   ],
   "source": [
    "plt.plot(np.arange(len(train_losses)), train_losses, label='train')\n",
    "plt.plot(np.arange(len(valid_losses)), train_losses, label='valid')\n",
    "plt.ylabel('Loss')\n",
    "plt.xlabel('Epoch')\n",
    "plt.legend()\n",
    "plt.show()"
   ]
  },
  {
   "cell_type": "code",
   "execution_count": 30,
   "id": "45162585",
   "metadata": {
    "execution": {
     "iopub.execute_input": "2024-08-25T13:01:06.874397Z",
     "iopub.status.busy": "2024-08-25T13:01:06.873763Z",
     "iopub.status.idle": "2024-08-25T13:01:07.394494Z",
     "shell.execute_reply": "2024-08-25T13:01:07.393585Z"
    },
    "papermill": {
     "duration": 0.537238,
     "end_time": "2024-08-25T13:01:07.396677",
     "exception": false,
     "start_time": "2024-08-25T13:01:06.859439",
     "status": "completed"
    },
    "tags": []
   },
   "outputs": [
    {
     "data": {
      "image/png": "[encoded data removed]",
      "text/plain": [
       "<Figure size 640x480 with 1 Axes>"
      ]
     },
     "metadata": {},
     "output_type": "display_data"
    }
   ],
   "source": [
    "model_o.eval()\n",
    "\n",
    "timeseries = pd.concat(\n",
    "        [\n",
    "            train_df_o[[\"Rental_Bicycles_Count\"]],\n",
    "            valid_df_o[[\"Rental_Bicycles_Count\"]],\n",
    "        ],\n",
    "        axis=0\n",
    "    ).values.astype('float32')\n",
    "\n",
    "with torch.no_grad():\n",
    "    # shift train predictions for plotting\n",
    "    train_plot = np.ones_like(timeseries) * np.nan\n",
    "    y_pred = model_o(X_train_o.to(device)).cpu()\n",
    "    y_pred = y_pred[:, -1, :]\n",
    "    train_plot[LOOKBACK:train_df_o.shape[0]] = model_o(X_train_o.to(device)).cpu()[:, -1, :]\n",
    "    # shift valid predictions for plotting\n",
    "    valid_plot = np.ones_like(timeseries) * np.nan\n",
    "    valid_plot[train_df_o.shape[0]+LOOKBACK:len(timeseries)] = model_o(X_valid_o.to(device)).cpu()[:, -1, :]\n",
    "\n",
    "    for i in range(LOOKBACK):\n",
    "        if i != 0:\n",
    "            temp_valid = np.zeros(LOOKBACK)\n",
    "            temp_valid[:LOOKBACK-i] = train_df_o.iloc[-(LOOKBACK-i):][\"Rental_Bicycles_Count\"].values\n",
    "            temp_valid[LOOKBACK-i:] = valid_plot[train_df_o.shape[0]:train_df_o.shape[0]+i].reshape(-1,)\n",
    "        else:\n",
    "            temp_valid = train_df_o.iloc[-(LOOKBACK-i):][\"Rental_Bicycles_Count\"].values\n",
    "        temp_valid = torch.as_tensor(temp_valid).view(1, -1, 1).float()\n",
    "        valid_plot[train_df_o.shape[0]+i] = model_o(temp_valid.to(device)).cpu()[:, -1, :]\n",
    "\n",
    "# plot\n",
    "plt.plot(timeseries, c='b')\n",
    "plt.plot(train_plot, c='r')\n",
    "plt.plot(valid_plot, c='g')\n",
    "plt.show()"
   ]
  },
  {
   "cell_type": "code",
   "execution_count": 31,
   "id": "73aca3ff",
   "metadata": {
    "execution": {
     "iopub.execute_input": "2024-08-25T13:01:07.426657Z",
     "iopub.status.busy": "2024-08-25T13:01:07.425754Z",
     "iopub.status.idle": "2024-08-25T13:01:07.734465Z",
     "shell.execute_reply": "2024-08-25T13:01:07.733543Z"
    },
    "papermill": {
     "duration": 0.325506,
     "end_time": "2024-08-25T13:01:07.736608",
     "exception": false,
     "start_time": "2024-08-25T13:01:07.411102",
     "status": "completed"
    },
    "tags": []
   },
   "outputs": [
    {
     "name": "stdout",
     "output_type": "stream",
     "text": [
      "subscribed: Train RMSE: 228.09, Validation RMSE: 305.13\n"
     ]
    }
   ],
   "source": [
    "train_inv_ocaler_values_o = scaler_o.inverse_transform(train_plot[LOOKBACK:len(train_plot)-720])\n",
    "train_inv_bc_values_o = [invboxcox(x, lamdba=best_lambda_o)[0] for x in train_inv_ocaler_values_o]\n",
    "train_score = np.sqrt(\n",
    "    mean_squared_error(train_df_o.iloc[LOOKBACK:]['Rental_Bicycles_Count'], train_inv_bc_values_o)\n",
    ")\n",
    "\n",
    "valid_inv_scaler_values_o = scaler_o.inverse_transform(valid_plot[train_df_o.shape[0]:])\n",
    "valid_inv_bc_values_o = [invboxcox(x, lamdba=best_lambda_o)[0] for x in valid_inv_scaler_values_o]\n",
    "valid_score = np.sqrt(mean_squared_error(valid_df_o['Rental_Bicycles_Count'], valid_inv_bc_values_o))\n",
    "\n",
    "print(f\"subscribed: Train RMSE: {train_score:.2f}, Validation RMSE: {valid_score:.2f}\")"
   ]
  },
  {
   "cell_type": "code",
   "execution_count": 32,
   "id": "1f72034b",
   "metadata": {
    "execution": {
     "iopub.execute_input": "2024-08-25T13:01:07.766774Z",
     "iopub.status.busy": "2024-08-25T13:01:07.765956Z",
     "iopub.status.idle": "2024-08-25T13:01:08.098758Z",
     "shell.execute_reply": "2024-08-25T13:01:08.097975Z"
    },
    "papermill": {
     "duration": 0.350095,
     "end_time": "2024-08-25T13:01:08.101003",
     "exception": false,
     "start_time": "2024-08-25T13:01:07.750908",
     "status": "completed"
    },
    "tags": []
   },
   "outputs": [],
   "source": [
    "test_pred = np.zeros((720, 1))\n",
    "\n",
    "for i in range(LOOKBACK):\n",
    "    if i != 0:\n",
    "        temp_test = np.zeros(LOOKBACK)\n",
    "        temp_test[:LOOKBACK-i] = valid_df_o.iloc[-(LOOKBACK-i):][\"Rental_Bicycles_Count\"].values\n",
    "        temp_test[LOOKBACK-i:] = test_pred[:i].reshape(-1,)\n",
    "    else:\n",
    "        temp_test = valid_df_o.iloc[-(LOOKBACK-i):][\"Rental_Bicycles_Count\"].values\n",
    "    temp_test = torch.as_tensor(temp_test).view(1, -1, 1).float()\n",
    "    test_pred[i] = model_o(temp_test.to(device)).detach().cpu()[:, -1, :]\n",
    "    \n",
    "for i in range(LOOKBACK, test_pred.shape[0]):\n",
    "    temp_test = test_pred[i-LOOKBACK:i]\n",
    "    temp_test = torch.as_tensor(temp_test).view(1, -1, 1).float()\n",
    "    test_pred[i] = model_o(temp_test.to(device)).detach().cpu()[:, -1, :]\n",
    "    \n",
    "test_inv_scaler_values_o = scaler_o.inverse_transform(test_pred.reshape(-1, 1))\n",
    "test_inv_bc_values_o = [invboxcox(x, lamdba=best_lambda_o)[0] for x in test_inv_scaler_values_o]"
   ]
  },
  {
   "cell_type": "code",
   "execution_count": 33,
   "id": "2000e397",
   "metadata": {
    "execution": {
     "iopub.execute_input": "2024-08-25T13:01:08.131408Z",
     "iopub.status.busy": "2024-08-25T13:01:08.130513Z",
     "iopub.status.idle": "2024-08-25T13:01:08.142652Z",
     "shell.execute_reply": "2024-08-25T13:01:08.141723Z"
    },
    "papermill": {
     "duration": 0.028973,
     "end_time": "2024-08-25T13:01:08.144488",
     "exception": false,
     "start_time": "2024-08-25T13:01:08.115515",
     "status": "completed"
    },
    "tags": []
   },
   "outputs": [
    {
     "data": {
      "text/html": [
       "<div>\n",
       "<style scoped>\n",
       "    .dataframe tbody tr th:only-of-type {\n",
       "        vertical-align: middle;\n",
       "    }\n",
       "\n",
       "    .dataframe tbody tr th {\n",
       "        vertical-align: top;\n",
       "    }\n",
       "\n",
       "    .dataframe thead th {\n",
       "        text-align: right;\n",
       "    }\n",
       "</style>\n",
       "<table border=\"1\" class=\"dataframe\">\n",
       "  <thead>\n",
       "    <tr style=\"text-align: right;\">\n",
       "      <th></th>\n",
       "      <th>index</th>\n",
       "      <th>Rental_Bicycles_Count</th>\n",
       "    </tr>\n",
       "  </thead>\n",
       "  <tbody>\n",
       "    <tr>\n",
       "      <th>0</th>\n",
       "      <td>0</td>\n",
       "      <td>173.329369</td>\n",
       "    </tr>\n",
       "    <tr>\n",
       "      <th>1</th>\n",
       "      <td>2</td>\n",
       "      <td>124.340936</td>\n",
       "    </tr>\n",
       "    <tr>\n",
       "      <th>2</th>\n",
       "      <td>4</td>\n",
       "      <td>73.585107</td>\n",
       "    </tr>\n",
       "    <tr>\n",
       "      <th>3</th>\n",
       "      <td>6</td>\n",
       "      <td>40.635385</td>\n",
       "    </tr>\n",
       "    <tr>\n",
       "      <th>4</th>\n",
       "      <td>8</td>\n",
       "      <td>13.072733</td>\n",
       "    </tr>\n",
       "  </tbody>\n",
       "</table>\n",
       "</div>"
      ],
      "text/plain": [
       "   index  Rental_Bicycles_Count\n",
       "0      0             173.329369\n",
       "1      2             124.340936\n",
       "2      4              73.585107\n",
       "3      6              40.635385\n",
       "4      8              13.072733"
      ]
     },
     "execution_count": 33,
     "metadata": {},
     "output_type": "execute_result"
    }
   ],
   "source": [
    "X_test_o = pd.DataFrame()\n",
    "X_test_o['index'] = test_df_o['index']\n",
    "X_test_o['Rental_Bicycles_Count'] = test_inv_bc_values_o\n",
    "X_test_o.head()"
   ]
  },
  {
   "cell_type": "code",
   "execution_count": 34,
   "id": "0438aa5c",
   "metadata": {
    "execution": {
     "iopub.execute_input": "2024-08-25T13:01:08.174319Z",
     "iopub.status.busy": "2024-08-25T13:01:08.173983Z",
     "iopub.status.idle": "2024-08-25T13:01:08.192397Z",
     "shell.execute_reply": "2024-08-25T13:01:08.191538Z"
    },
    "papermill": {
     "duration": 0.035769,
     "end_time": "2024-08-25T13:01:08.194548",
     "exception": false,
     "start_time": "2024-08-25T13:01:08.158779",
     "status": "completed"
    },
    "tags": []
   },
   "outputs": [
    {
     "data": {
      "text/html": [
       "<div>\n",
       "<style scoped>\n",
       "    .dataframe tbody tr th:only-of-type {\n",
       "        vertical-align: middle;\n",
       "    }\n",
       "\n",
       "    .dataframe tbody tr th {\n",
       "        vertical-align: top;\n",
       "    }\n",
       "\n",
       "    .dataframe thead th {\n",
       "        text-align: right;\n",
       "    }\n",
       "</style>\n",
       "<table border=\"1\" class=\"dataframe\">\n",
       "  <thead>\n",
       "    <tr style=\"text-align: right;\">\n",
       "      <th></th>\n",
       "      <th>Rental_Bicycles_Count</th>\n",
       "    </tr>\n",
       "  </thead>\n",
       "  <tbody>\n",
       "    <tr>\n",
       "      <th>0</th>\n",
       "      <td>173.329369</td>\n",
       "    </tr>\n",
       "    <tr>\n",
       "      <th>1</th>\n",
       "      <td>336.352002</td>\n",
       "    </tr>\n",
       "    <tr>\n",
       "      <th>2</th>\n",
       "      <td>124.340936</td>\n",
       "    </tr>\n",
       "    <tr>\n",
       "      <th>3</th>\n",
       "      <td>245.362397</td>\n",
       "    </tr>\n",
       "    <tr>\n",
       "      <th>4</th>\n",
       "      <td>73.585107</td>\n",
       "    </tr>\n",
       "  </tbody>\n",
       "</table>\n",
       "</div>"
      ],
      "text/plain": [
       "   Rental_Bicycles_Count\n",
       "0             173.329369\n",
       "1             336.352002\n",
       "2             124.340936\n",
       "3             245.362397\n",
       "4              73.585107"
      ]
     },
     "execution_count": 34,
     "metadata": {},
     "output_type": "execute_result"
    }
   ],
   "source": [
    "test_pred = pd.concat(\n",
    "    [\n",
    "        X_test_s[['index', 'Rental_Bicycles_Count']], \n",
    "        X_test_o[['index', 'Rental_Bicycles_Count']]\n",
    "    ]\n",
    ").sort_values('index', ascending=True).set_index('index')\n",
    "\n",
    "sub_df['Rental_Bicycles_Count'] = test_pred['Rental_Bicycles_Count']\n",
    "sub_df.to_csv('solution10_submit.csv', index=False)\n",
    "sub_df.head()"
   ]
  },
  {
   "cell_type": "code",
   "execution_count": 35,
   "id": "dbca13a1",
   "metadata": {
    "execution": {
     "iopub.execute_input": "2024-08-25T13:01:08.225499Z",
     "iopub.status.busy": "2024-08-25T13:01:08.225128Z",
     "iopub.status.idle": "2024-08-25T13:01:08.237156Z",
     "shell.execute_reply": "2024-08-25T13:01:08.236248Z"
    },
    "papermill": {
     "duration": 0.030137,
     "end_time": "2024-08-25T13:01:08.239088",
     "exception": false,
     "start_time": "2024-08-25T13:01:08.208951",
     "status": "completed"
    },
    "tags": []
   },
   "outputs": [
    {
     "data": {
      "text/html": [
       "<div>\n",
       "<style scoped>\n",
       "    .dataframe tbody tr th:only-of-type {\n",
       "        vertical-align: middle;\n",
       "    }\n",
       "\n",
       "    .dataframe tbody tr th {\n",
       "        vertical-align: top;\n",
       "    }\n",
       "\n",
       "    .dataframe thead th {\n",
       "        text-align: right;\n",
       "    }\n",
       "</style>\n",
       "<table border=\"1\" class=\"dataframe\">\n",
       "  <thead>\n",
       "    <tr style=\"text-align: right;\">\n",
       "      <th></th>\n",
       "      <th>Rental_Bicycles_Count</th>\n",
       "    </tr>\n",
       "  </thead>\n",
       "  <tbody>\n",
       "    <tr>\n",
       "      <th>0</th>\n",
       "      <td>173</td>\n",
       "    </tr>\n",
       "    <tr>\n",
       "      <th>1</th>\n",
       "      <td>336</td>\n",
       "    </tr>\n",
       "    <tr>\n",
       "      <th>2</th>\n",
       "      <td>124</td>\n",
       "    </tr>\n",
       "    <tr>\n",
       "      <th>3</th>\n",
       "      <td>245</td>\n",
       "    </tr>\n",
       "    <tr>\n",
       "      <th>4</th>\n",
       "      <td>74</td>\n",
       "    </tr>\n",
       "  </tbody>\n",
       "</table>\n",
       "</div>"
      ],
      "text/plain": [
       "   Rental_Bicycles_Count\n",
       "0                    173\n",
       "1                    336\n",
       "2                    124\n",
       "3                    245\n",
       "4                     74"
      ]
     },
     "execution_count": 35,
     "metadata": {},
     "output_type": "execute_result"
    }
   ],
   "source": [
    "sub_df['Rental_Bicycles_Count'] = test_pred['Rental_Bicycles_Count'].apply(lambda x: round(x))\n",
    "sub_df.to_csv('rounded_solution10_submit.csv', index=False)\n",
    "sub_df.head()"
   ]
  },
  {
   "cell_type": "code",
   "execution_count": null,
   "id": "56b7dd18",
   "metadata": {
    "papermill": {
     "duration": 0.014262,
     "end_time": "2024-08-25T13:01:08.268152",
     "exception": false,
     "start_time": "2024-08-25T13:01:08.253890",
     "status": "completed"
    },
    "tags": []
   },
   "outputs": [],
   "source": []
  }
 ],
 "metadata": {
  "kaggle": {
   "accelerator": "nvidiaTeslaT4",
   "dataSources": [
    {
     "datasetId": 5589484,
     "sourceId": 9240329,
     "sourceType": "datasetVersion"
    }
   ],
   "dockerImageVersionId": 30762,
   "isGpuEnabled": true,
   "isInternetEnabled": true,
   "language": "python",
   "sourceType": "notebook"
  },
  "kernelspec": {
   "display_name": "Python 3",
   "language": "python",
   "name": "python3"
  },
  "language_info": {
   "codemirror_mode": {
    "name": "ipython",
    "version": 3
   },
   "file_extension": ".py",
   "mimetype": "text/x-python",
   "name": "python",
   "nbconvert_exporter": "python",
   "pygments_lexer": "ipython3",
   "version": "3.10.14"
  },
  "papermill": {
   "default_parameters": {},
   "duration": 1475.209852,
   "end_time": "2024-08-25T13:01:10.653876",
   "environment_variables": {},
   "exception": null,
   "input_path": "__notebook__.ipynb",
   "output_path": "__notebook__.ipynb",
   "parameters": {},
   "start_time": "2024-08-25T12:36:35.444024",
   "version": "2.6.0"
  }
 },
 "nbformat": 4,
 "nbformat_minor": 5
}
